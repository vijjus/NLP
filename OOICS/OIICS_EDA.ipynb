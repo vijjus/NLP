{
 "cells": [
  {
   "cell_type": "code",
   "execution_count": 1,
   "metadata": {},
   "outputs": [],
   "source": [
    "import pandas as pd\n",
    "import numpy as np\n",
    "import matplotlib.pyplot as plt\n",
    "\n",
    "from tqdm import tqdm"
   ]
  },
  {
   "cell_type": "code",
   "execution_count": 2,
   "metadata": {},
   "outputs": [],
   "source": [
    "data = pd.read_csv('train.csv')"
   ]
  },
  {
   "cell_type": "code",
   "execution_count": 3,
   "metadata": {},
   "outputs": [
    {
     "data": {
      "text/html": [
       "<div>\n",
       "<style scoped>\n",
       "    .dataframe tbody tr th:only-of-type {\n",
       "        vertical-align: middle;\n",
       "    }\n",
       "\n",
       "    .dataframe tbody tr th {\n",
       "        vertical-align: top;\n",
       "    }\n",
       "\n",
       "    .dataframe thead th {\n",
       "        text-align: right;\n",
       "    }\n",
       "</style>\n",
       "<table border=\"1\" class=\"dataframe\">\n",
       "  <thead>\n",
       "    <tr style=\"text-align: right;\">\n",
       "      <th></th>\n",
       "      <th>text</th>\n",
       "      <th>sex</th>\n",
       "      <th>age</th>\n",
       "      <th>event</th>\n",
       "    </tr>\n",
       "  </thead>\n",
       "  <tbody>\n",
       "    <tr>\n",
       "      <th>0</th>\n",
       "      <td>57YOM WITH CONTUSION TO FACE AFTER STRIKING IT...</td>\n",
       "      <td>1</td>\n",
       "      <td>57</td>\n",
       "      <td>62</td>\n",
       "    </tr>\n",
       "    <tr>\n",
       "      <th>1</th>\n",
       "      <td>A 45YOM FELL ON ARM WHILE WORKING HAD SLIPPED ...</td>\n",
       "      <td>1</td>\n",
       "      <td>45</td>\n",
       "      <td>42</td>\n",
       "    </tr>\n",
       "    <tr>\n",
       "      <th>2</th>\n",
       "      <td>58YOM WITH CERVICAL STRAIN  BACK PAIN S P REST...</td>\n",
       "      <td>1</td>\n",
       "      <td>58</td>\n",
       "      <td>26</td>\n",
       "    </tr>\n",
       "    <tr>\n",
       "      <th>3</th>\n",
       "      <td>33 YOM LAC TO HAND FROM A RAZOR KNIFE</td>\n",
       "      <td>1</td>\n",
       "      <td>33</td>\n",
       "      <td>60</td>\n",
       "    </tr>\n",
       "    <tr>\n",
       "      <th>4</th>\n",
       "      <td>53YOM AT WORK IN A WAREHOUSE DOING UNSPECIFIED...</td>\n",
       "      <td>1</td>\n",
       "      <td>53</td>\n",
       "      <td>71</td>\n",
       "    </tr>\n",
       "  </tbody>\n",
       "</table>\n",
       "</div>"
      ],
      "text/plain": [
       "                                                text  sex  age  event\n",
       "0  57YOM WITH CONTUSION TO FACE AFTER STRIKING IT...    1   57     62\n",
       "1  A 45YOM FELL ON ARM WHILE WORKING HAD SLIPPED ...    1   45     42\n",
       "2  58YOM WITH CERVICAL STRAIN  BACK PAIN S P REST...    1   58     26\n",
       "3              33 YOM LAC TO HAND FROM A RAZOR KNIFE    1   33     60\n",
       "4  53YOM AT WORK IN A WAREHOUSE DOING UNSPECIFIED...    1   53     71"
      ]
     },
     "execution_count": 3,
     "metadata": {},
     "output_type": "execute_result"
    }
   ],
   "source": [
    "data.head()"
   ]
  },
  {
   "cell_type": "code",
   "execution_count": 4,
   "metadata": {},
   "outputs": [],
   "source": [
    "text = data['text']"
   ]
  },
  {
   "cell_type": "code",
   "execution_count": 5,
   "metadata": {},
   "outputs": [],
   "source": [
    "ages = np.array(list(data['age']))"
   ]
  },
  {
   "cell_type": "code",
   "execution_count": 6,
   "metadata": {},
   "outputs": [
    {
     "data": {
      "text/plain": [
       "array([57, 45, 58, 33, 53, 31, 54, 60, 36, 41])"
      ]
     },
     "execution_count": 6,
     "metadata": {},
     "output_type": "execute_result"
    }
   ],
   "source": [
    "ages[:10]"
   ]
  },
  {
   "cell_type": "code",
   "execution_count": 7,
   "metadata": {},
   "outputs": [
    {
     "name": "stdout",
     "output_type": "stream",
     "text": [
      "Entry 7148\n",
      "\tText: o33 yom dx sprain strain back  s p bibems pt is subject firefighter withlower back pain due to slipping on ice on a roof\n",
      "Entry 9048\n",
      "\tText: head inj 20yowf wk sts a 26yom resident that she cares for hit her w closed fist mult times in face grabbed neck 2 hrs ago\n",
      "Entry 12412\n",
      "\tText: pai23 yom was unloading boxes off a truck suddenly experienced low back pain  pain  lower back\n",
      "Funny entry 12581: 46 yom dx yom dx laceraration of rt leg  s p pt c o 2 lacerations of lower leg while at work\n",
      "Entry 16874\n",
      "\tText: 331yom splenic laceration abd pain using skid loader plowing snow hit manhole cover flew forward hit abd  pt transfered\n",
      "Entry 22654\n",
      "\tText: 30ym wks in psych ward got bitten to arm by 11yom    abrs human bite\n",
      "Funny entry 25858: a 48yom was arresting a 17yom was bit on arm dx humanbite to arm\n",
      "Entry 28077\n",
      "\tText: a36yom unrestrained driver in mva hit by car that ran red lite back pain\n",
      "Entry 31017\n",
      "\tText: t54 yom was attempting to phsically restrain inmate pt fell on  inmate s bed  then hit the wall in the cell cervical sprain\n",
      "Entry 33887\n",
      "\tText: 28yof nurse  subject giving 13 yom autistic pt an injection he became combative she stuck hand w needle after injection dx needle stick\n",
      "Funny entry 36794: r mid fing avulsion 22yom22yom cut finger at work on a meat slicer\n",
      "Entry 44725\n",
      "\tText: c56 yom caught lt 4th finger when putting tailgate closed on truck  fracture lt 4th finger\n",
      "Entry 45835\n",
      "\tText: ukn yom with multiple traumatic injuries after a building collapse entraped for one hour dx open l femur fx\n",
      "Entry 46433\n",
      "\tText: 3oyom lost his balance dropped a wine glass tried to catch it as it broke cut his l finger at his work dx l finger laceration\n",
      "Entry 51781\n",
      "\tText: chest tr52yom upper trunk was run over by a tractor upper trunk traumachest trauma\n",
      "Funny entry 55552: r ankle spr 23yom23yom twisted his r ankle at work\n",
      "Entry 65435\n",
      "\tText: c29 yom dx lower back strain  subject officer was injured by anindividualthat was being placed under arrest\n",
      "Funny entry 69630: 26yom sust bite to wrist when he was bitten by a 9yom edp at work\n",
      "Entry 75570\n",
      "\tText: flitc25 yom lac to leg when struck by car\n",
      "Entry 75992\n",
      "\tText: abr lt rt26yomelbow while riding on motorcycle fell down\n",
      "Entry 79683\n",
      "\tText: cords with injury to chest area33 yom who was at work tripped over the  dx strain sprain to upper chest\n",
      "Entry 83976\n",
      "\tText: dx43yom at work shaving metal  shaving went into eye c o eye irritation dx eye irritation\n",
      "Entry 86659\n",
      "\tText: p53 yom dx human bite to lt earlobe  due to assault pt was bitten by ashoplifter while on the job\n",
      "Funny entry 86920: dx hip contusion low back pain 60yom 60yomfall at work manager at subject restarant stepped on packet of salad dressing slipped backwards\n",
      "Entry 90335\n",
      "\tText: 16yof waitress at subject restaurant having fun w 30 yom coworker male got out of hand bit pt on upper arm arm bruise human bite\n",
      "Funny entry 92625: 57 yom yom head butted by horse dx nasal fracture\n",
      "Entry 93107\n",
      "\tText: a 48yof restrained bus driver in mva rear ended by 91 yom while at stoplight neck strain\n",
      "Funny entry 96421: 50 yom 50 yom lacerated right middle and ring fingers on a knife at  work\n",
      "Entry 99356\n",
      "\tText: intoxication of subject bleache35yom while using subject inhalation beganshortness breath\n",
      "Entry 99711\n",
      "\tText: y20 yom fell through scaffolding at work      laceration finger\n",
      "Entry 101438\n",
      "\tText: fir27 yom dx smoke inhalation  s p hx of smoke inhalation pta in housefire\n",
      "Entry 104927\n",
      "\tText: 334yom pain to r eye while at work standing next to a coworker using a nail gun dx conjunctivitis\n",
      "Entry 111417\n",
      "\tText: 23iyom with sprained ankle unloading a truck\n",
      "Funny entry 116179: 24yom  work last nite attempting to restrain 16 yom person bit pt lt upper arm bled bruised dx human bite\n",
      "Entry 129762\n",
      "\tText: 3o yom lumbar strain started after shoveling snow then worsened after heavy lifting at work\n",
      "Entry 130088\n",
      "\tText: 35yyom was cleaning a part work with a chemical a bit splashed in hisr eye r eye is irritated dx acute chemical conjunctivitis to r eye\n",
      "Entry 140736\n",
      "\tText: j 2o yom low back pain after lifting a heavy object at work 2 days ago worse w ambulation dx lumbar strain\n",
      "Entry 141967\n",
      "\tText: l upper arm cont 24yobm at wk sustained human bite l upper arm by 15yomresident during a behavioral decompensation\n"
     ]
    }
   ],
   "source": [
    "injury_desc = []\n",
    "for index, entry in data.iterrows():\n",
    "    text = entry['text']\n",
    "    text = text.lower()\n",
    "    injury_desc.append(text)\n",
    "    if \"yom\" in text:\n",
    "        try:\n",
    "            found = False\n",
    "            pre, post = text.split(\"yom\")\n",
    "            pre_list = pre.split(\" \")\n",
    "            for p in pre_list:\n",
    "                if p.isnumeric() and int(p) == ages[index]:\n",
    "                    found = True\n",
    "                    break\n",
    "            if not found:\n",
    "                print(\"Entry {}\".format(index))\n",
    "                print(\"\\tText: {}\".format(text))\n",
    "        except ValueError:\n",
    "            print(\"Funny entry {}: {}\".format(index, text))"
   ]
  },
  {
   "cell_type": "code",
   "execution_count": 8,
   "metadata": {},
   "outputs": [
    {
     "data": {
      "text/plain": [
       "['57yom with contusion to face after striking it with a post pounder while setting a fence post',\n",
       " 'a 45yom fell on arm while working had slipped on water fx wrist',\n",
       " '58yom with cervical strain  back pain s p restrained taxi driver in low speed rear end mvc no loc no ab deployed',\n",
       " '33 yom lac to hand from a razor knife',\n",
       " '53yom at work in a warehouse doing unspecified lifting and strained lo wer back',\n",
       " '31yom at a clients home trimming a tree with a chain saw and the saw kicked back hit lower arm laceration to lower arm',\n",
       " '54 yo male cut finger sharpening a knife at work dx right index fingerlaceration b',\n",
       " '60 yom states he was working in a wood shop yesterday and felt   something go into his rt ear dx fb removal rt ear canal',\n",
       " '36 yo m c o b l back pain since fri worse today pt lifts heavy trash bags at work dx lumbar strain',\n",
       " '41yof shoulder pain after lifting a package at work']"
      ]
     },
     "execution_count": 8,
     "metadata": {},
     "output_type": "execute_result"
    }
   ],
   "source": [
    "injury_desc[:10]"
   ]
  },
  {
   "cell_type": "code",
   "execution_count": 9,
   "metadata": {},
   "outputs": [],
   "source": [
    "injury_dlen = np.array([len(x) for x in injury_desc])"
   ]
  },
  {
   "cell_type": "code",
   "execution_count": 10,
   "metadata": {},
   "outputs": [
    {
     "data": {
      "text/plain": [
       "27"
      ]
     },
     "execution_count": 10,
     "metadata": {},
     "output_type": "execute_result"
    }
   ],
   "source": [
    "np.argmax(injury_dlen)"
   ]
  },
  {
   "cell_type": "code",
   "execution_count": 11,
   "metadata": {},
   "outputs": [
    {
     "data": {
      "text/plain": [
       "142"
      ]
     },
     "execution_count": 11,
     "metadata": {},
     "output_type": "execute_result"
    }
   ],
   "source": [
    "injury_dlen[27]"
   ]
  },
  {
   "cell_type": "code",
   "execution_count": 12,
   "metadata": {},
   "outputs": [
    {
     "data": {
      "text/plain": [
       "'66 yo f employee presetns after tripping over iv tubing in dark room and falling forward into the wall c o face rt knee pain dx c h i trap spa'"
      ]
     },
     "execution_count": 12,
     "metadata": {},
     "output_type": "execute_result"
    }
   ],
   "source": [
    "injury_desc[27]"
   ]
  },
  {
   "cell_type": "code",
   "execution_count": 13,
   "metadata": {},
   "outputs": [
    {
     "data": {
      "text/plain": [
       "(array([  456.,  4672., 15414., 24865., 26145., 23284., 19078., 15469.,\n",
       "        12968., 11605.]),\n",
       " array([ 21. ,  33.1,  45.2,  57.3,  69.4,  81.5,  93.6, 105.7, 117.8,\n",
       "        129.9, 142. ]),\n",
       " <a list of 10 Patch objects>)"
      ]
     },
     "execution_count": 13,
     "metadata": {},
     "output_type": "execute_result"
    },
    {
     "data": {
      "image/png": "[encoded data removed]",
      "text/plain": [
       "<Figure size 432x288 with 1 Axes>"
      ]
     },
     "metadata": {
      "needs_background": "light"
     },
     "output_type": "display_data"
    }
   ],
   "source": [
    "plt.hist(injury_dlen)"
   ]
  },
  {
   "cell_type": "code",
   "execution_count": 14,
   "metadata": {},
   "outputs": [],
   "source": [
    "labels = np.array(data['event'])"
   ]
  },
  {
   "cell_type": "code",
   "execution_count": 15,
   "metadata": {},
   "outputs": [],
   "source": [
    "events = sorted(set(labels))"
   ]
  },
  {
   "cell_type": "code",
   "execution_count": 16,
   "metadata": {},
   "outputs": [
    {
     "data": {
      "text/plain": [
       "(array([14429.,     0.,   381.,  4648.,  1234.,     0.,  1562., 22559.,\n",
       "           52.,  4877., 11678., 42498.,  7362., 32085.,  8318.,   900.,\n",
       "            0.,     0.,     0.,  1373.]),\n",
       " array([10.  , 14.45, 18.9 , 23.35, 27.8 , 32.25, 36.7 , 41.15, 45.6 ,\n",
       "        50.05, 54.5 , 58.95, 63.4 , 67.85, 72.3 , 76.75, 81.2 , 85.65,\n",
       "        90.1 , 94.55, 99.  ]),\n",
       " <a list of 20 Patch objects>)"
      ]
     },
     "execution_count": 16,
     "metadata": {},
     "output_type": "execute_result"
    },
    {
     "data": {
      "image/png": "[encoded data removed]",
      "text/plain": [
       "<Figure size 432x288 with 1 Axes>"
      ]
     },
     "metadata": {
      "needs_background": "light"
     },
     "output_type": "display_data"
    }
   ],
   "source": [
    "plt.hist(labels, bins=20)"
   ]
  },
  {
   "cell_type": "markdown",
   "metadata": {},
   "source": [
    "Let's build vocabulary dictionaries for the words in the incident descriptions."
   ]
  },
  {
   "cell_type": "code",
   "execution_count": 17,
   "metadata": {},
   "outputs": [],
   "source": [
    "id2word = {}\n",
    "word2id = {}\n",
    "index = 0\n",
    "for line in injury_desc:\n",
    "    tokens = line.split(\" \")\n",
    "    for t in tokens:\n",
    "        if t not in word2id:\n",
    "            word2id[t] = index\n",
    "            id2word[index] = t\n",
    "            index += 1"
   ]
  },
  {
   "cell_type": "code",
   "execution_count": 18,
   "metadata": {},
   "outputs": [
    {
     "data": {
      "text/plain": [
       "35632"
      ]
     },
     "execution_count": 18,
     "metadata": {},
     "output_type": "execute_result"
    }
   ],
   "source": [
    "len(id2word)"
   ]
  },
  {
   "cell_type": "code",
   "execution_count": 19,
   "metadata": {},
   "outputs": [],
   "source": [
    "incident_tokens = {}\n",
    "for index, text in enumerate(injury_desc):\n",
    "    incident = labels[index]\n",
    "    if incident not in incident_tokens:\n",
    "        incident_tokens[incident] = []\n",
    "    tokens = text.split(\" \")\n",
    "    for t in tokens:\n",
    "        if t not in incident_tokens[incident]:\n",
    "            incident_tokens[incident].append(t)"
   ]
  },
  {
   "cell_type": "code",
   "execution_count": 20,
   "metadata": {},
   "outputs": [
    {
     "data": {
      "text/plain": [
       "['51yom',\n",
       " 'pain',\n",
       " 'to',\n",
       " 'l',\n",
       " '5th',\n",
       " 'finger',\n",
       " 'when',\n",
       " 'responding',\n",
       " 'a',\n",
       " 'situation',\n",
       " 'at',\n",
       " 'work',\n",
       " 'and',\n",
       " 'broke',\n",
       " 'out',\n",
       " 'inring',\n",
       " '',\n",
       " 'fx',\n",
       " '30yom',\n",
       " 'wrestling',\n",
       " 'w',\n",
       " 'another',\n",
       " 'person',\n",
       " 'weights',\n",
       " '300lb',\n",
       " 'landed',\n",
       " 'on',\n",
       " 'hand',\n",
       " 'all',\n",
       " 'occured',\n",
       " 'dx',\n",
       " 'sprain',\n",
       " 'low',\n",
       " 'back']"
      ]
     },
     "execution_count": 20,
     "metadata": {},
     "output_type": "execute_result"
    }
   ],
   "source": [
    "incident_tokens[10]"
   ]
  },
  {
   "cell_type": "code",
   "execution_count": 21,
   "metadata": {},
   "outputs": [
    {
     "name": "stdout",
     "output_type": "stream",
     "text": [
      "Words for event 10: 34\n",
      "Words for event 11: 6382\n",
      "Words for event 12: 3081\n",
      "Words for event 13: 3807\n",
      "Words for event 20: 121\n",
      "Words for event 21: 277\n",
      "Words for event 22: 357\n",
      "Words for event 23: 873\n",
      "Words for event 24: 1802\n",
      "Words for event 25: 521\n",
      "Words for event 26: 3041\n",
      "Words for event 27: 2040\n",
      "Words for event 29: 15\n",
      "Words for event 30: 24\n",
      "Words for event 31: 2017\n",
      "Words for event 32: 1230\n",
      "Words for event 40: 336\n",
      "Words for event 41: 1939\n",
      "Words for event 42: 7361\n",
      "Words for event 43: 4837\n",
      "Words for event 44: 1049\n",
      "Words for event 45: 189\n",
      "Words for event 49: 272\n",
      "Words for event 50: 246\n",
      "Words for event 51: 1562\n",
      "Words for event 52: 1137\n",
      "Words for event 53: 4164\n",
      "Words for event 54: 131\n",
      "Words for event 55: 8994\n",
      "Words for event 56: 90\n",
      "Words for event 59: 71\n",
      "Words for event 60: 4821\n",
      "Words for event 61: 335\n",
      "Words for event 62: 10727\n",
      "Words for event 63: 5856\n",
      "Words for event 64: 3974\n",
      "Words for event 65: 359\n",
      "Words for event 66: 2800\n",
      "Words for event 67: 433\n",
      "Words for event 69: 619\n",
      "Words for event 70: 4422\n",
      "Words for event 71: 9713\n",
      "Words for event 72: 1703\n",
      "Words for event 73: 5742\n",
      "Words for event 74: 53\n",
      "Words for event 78: 1821\n",
      "Words for event 79: 140\n",
      "Words for event 99: 2043\n"
     ]
    }
   ],
   "source": [
    "for ev in events:\n",
    "    print(\"Words for event {}: {}\".format(ev, len(incident_tokens[ev])))"
   ]
  },
  {
   "cell_type": "code",
   "execution_count": 22,
   "metadata": {},
   "outputs": [],
   "source": [
    "word_count_by_cat = {}\n",
    "for word in id2word.values():\n",
    "    word_count_by_cat[word] = 0\n",
    "    for cat in events:\n",
    "        if word in incident_tokens[cat]:\n",
    "            word_count_by_cat[word] += 1"
   ]
  },
  {
   "cell_type": "code",
   "execution_count": 23,
   "metadata": {},
   "outputs": [],
   "source": [
    "word_dist = [count for count in word_count_by_cat.values()]"
   ]
  },
  {
   "cell_type": "code",
   "execution_count": 24,
   "metadata": {},
   "outputs": [
    {
     "data": {
      "text/plain": [
       "(array([3.0724e+04, 2.3120e+03, 9.0200e+02, 7.0200e+02, 3.5300e+02,\n",
       "        3.0600e+02, 2.0000e+02, 6.8000e+01, 4.5000e+01, 2.0000e+01]),\n",
       " array([ 1. ,  5.6, 10.2, 14.8, 19.4, 24. , 28.6, 33.2, 37.8, 42.4, 47. ]),\n",
       " <a list of 10 Patch objects>)"
      ]
     },
     "execution_count": 24,
     "metadata": {},
     "output_type": "execute_result"
    },
    {
     "data": {
      "image/png": "[encoded data removed]",
      "text/plain": [
       "<Figure size 432x288 with 1 Axes>"
      ]
     },
     "metadata": {
      "needs_background": "light"
     },
     "output_type": "display_data"
    }
   ],
   "source": [
    "plt.hist(word_dist)"
   ]
  },
  {
   "cell_type": "code",
   "execution_count": null,
   "metadata": {},
   "outputs": [],
   "source": []
  }
 ],
 "metadata": {
  "kernelspec": {
   "display_name": "Python 3",
   "language": "python",
   "name": "python3"
  },
  "language_info": {
   "codemirror_mode": {
    "name": "ipython",
    "version": 3
   },
   "file_extension": ".py",
   "mimetype": "text/x-python",
   "name": "python",
   "nbconvert_exporter": "python",
   "pygments_lexer": "ipython3",
   "version": "3.7.1"
  }
 },
 "nbformat": 4,
 "nbformat_minor": 2
}
