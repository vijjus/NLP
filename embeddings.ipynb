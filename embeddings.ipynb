{
 "cells": [
  {
   "cell_type": "markdown",
   "metadata": {},
   "source": [
    "# Clusters and Distributions\n",
    "\n",
    "We'll work through how to build and factorize a co-occurrence matrix, and do some simple visualization of the embeddings.\n",
    "\n",
    "On Assignment 2 and 3, we'll dig a bit deeper into the properties of these embeddings, and experiment with them on a classification task.\n",
    "\n",
    "**Note:** If viewing on GitHub, please use this NBViewer link for proper rendering: http://nbviewer.jupyter.org/github/datasci-w266/2019-fall-main/blob/master/materials/embeddings/embeddings.ipynb"
   ]
  },
  {
   "cell_type": "code",
   "execution_count": 1,
   "metadata": {
    "code_folding": []
   },
   "outputs": [
    {
     "data": {
      "text/html": [
       "\n",
       "    <div class=\"bk-root\">\n",
       "        <a href=\"https://bokeh.pydata.org\" target=\"_blank\" class=\"bk-logo bk-logo-small bk-logo-notebook\"></a>\n",
       "        <span id=\"a88023f2-7a2c-42d3-ad92-fb181aa15828\">Loading BokehJS ...</span>\n",
       "    </div>"
      ]
     },
     "metadata": {},
     "output_type": "display_data"
    },
    {
     "data": {
      "application/javascript": [
       "\n",
       "(function(root) {\n",
       "  function now() {\n",
       "    return new Date();\n",
       "  }\n",
       "\n",
       "  var force = true;\n",
       "\n",
       "  if (typeof (root._bokeh_onload_callbacks) === \"undefined\" || force === true) {\n",
       "    root._bokeh_onload_callbacks = [];\n",
       "    root._bokeh_is_loading = undefined;\n",
       "  }\n",
       "\n",
       "  var JS_MIME_TYPE = 'application/javascript';\n",
       "  var HTML_MIME_TYPE = 'text/html';\n",
       "  var EXEC_MIME_TYPE = 'application/vnd.bokehjs_exec.v0+json';\n",
       "  var CLASS_NAME = 'output_bokeh rendered_html';\n",
       "\n",
       "  /**\n",
       "   * Render data to the DOM node\n",
       "   */\n",
       "  function render(props, node) {\n",
       "    var script = document.createElement(\"script\");\n",
       "    node.appendChild(script);\n",
       "  }\n",
       "\n",
       "  /**\n",
       "   * Handle when an output is cleared or removed\n",
       "   */\n",
       "  function handleClearOutput(event, handle) {\n",
       "    var cell = handle.cell;\n",
       "\n",
       "    var id = cell.output_area._bokeh_element_id;\n",
       "    var server_id = cell.output_area._bokeh_server_id;\n",
       "    // Clean up Bokeh references\n",
       "    if (id != null && id in Bokeh.index) {\n",
       "      Bokeh.index[id].model.document.clear();\n",
       "      delete Bokeh.index[id];\n",
       "    }\n",
       "\n",
       "    if (server_id !== undefined) {\n",
       "      // Clean up Bokeh references\n",
       "      var cmd = \"from bokeh.io.state import curstate; print(curstate().uuid_to_server['\" + server_id + \"'].get_sessions()[0].document.roots[0]._id)\";\n",
       "      cell.notebook.kernel.execute(cmd, {\n",
       "        iopub: {\n",
       "          output: function(msg) {\n",
       "            var id = msg.content.text.trim();\n",
       "            if (id in Bokeh.index) {\n",
       "              Bokeh.index[id].model.document.clear();\n",
       "              delete Bokeh.index[id];\n",
       "            }\n",
       "          }\n",
       "        }\n",
       "      });\n",
       "      // Destroy server and session\n",
       "      var cmd = \"import bokeh.io.notebook as ion; ion.destroy_server('\" + server_id + \"')\";\n",
       "      cell.notebook.kernel.execute(cmd);\n",
       "    }\n",
       "  }\n",
       "\n",
       "  /**\n",
       "   * Handle when a new output is added\n",
       "   */\n",
       "  function handleAddOutput(event, handle) {\n",
       "    var output_area = handle.output_area;\n",
       "    var output = handle.output;\n",
       "\n",
       "    // limit handleAddOutput to display_data with EXEC_MIME_TYPE content only\n",
       "    if ((output.output_type != \"display_data\") || (!output.data.hasOwnProperty(EXEC_MIME_TYPE))) {\n",
       "      return\n",
       "    }\n",
       "\n",
       "    var toinsert = output_area.element.find(\".\" + CLASS_NAME.split(' ')[0]);\n",
       "\n",
       "    if (output.metadata[EXEC_MIME_TYPE][\"id\"] !== undefined) {\n",
       "      toinsert[toinsert.length - 1].firstChild.textContent = output.data[JS_MIME_TYPE];\n",
       "      // store reference to embed id on output_area\n",
       "      output_area._bokeh_element_id = output.metadata[EXEC_MIME_TYPE][\"id\"];\n",
       "    }\n",
       "    if (output.metadata[EXEC_MIME_TYPE][\"server_id\"] !== undefined) {\n",
       "      var bk_div = document.createElement(\"div\");\n",
       "      bk_div.innerHTML = output.data[HTML_MIME_TYPE];\n",
       "      var script_attrs = bk_div.children[0].attributes;\n",
       "      for (var i = 0; i < script_attrs.length; i++) {\n",
       "        toinsert[toinsert.length - 1].firstChild.setAttribute(script_attrs[i].name, script_attrs[i].value);\n",
       "      }\n",
       "      // store reference to server id on output_area\n",
       "      output_area._bokeh_server_id = output.metadata[EXEC_MIME_TYPE][\"server_id\"];\n",
       "    }\n",
       "  }\n",
       "\n",
       "  function register_renderer(events, OutputArea) {\n",
       "\n",
       "    function append_mime(data, metadata, element) {\n",
       "      // create a DOM node to render to\n",
       "      var toinsert = this.create_output_subarea(\n",
       "        metadata,\n",
       "        CLASS_NAME,\n",
       "        EXEC_MIME_TYPE\n",
       "      );\n",
       "      this.keyboard_manager.register_events(toinsert);\n",
       "      // Render to node\n",
       "      var props = {data: data, metadata: metadata[EXEC_MIME_TYPE]};\n",
       "      render(props, toinsert[toinsert.length - 1]);\n",
       "      element.append(toinsert);\n",
       "      return toinsert\n",
       "    }\n",
       "\n",
       "    /* Handle when an output is cleared or removed */\n",
       "    events.on('clear_output.CodeCell', handleClearOutput);\n",
       "    events.on('delete.Cell', handleClearOutput);\n",
       "\n",
       "    /* Handle when a new output is added */\n",
       "    events.on('output_added.OutputArea', handleAddOutput);\n",
       "\n",
       "    /**\n",
       "     * Register the mime type and append_mime function with output_area\n",
       "     */\n",
       "    OutputArea.prototype.register_mime_type(EXEC_MIME_TYPE, append_mime, {\n",
       "      /* Is output safe? */\n",
       "      safe: true,\n",
       "      /* Index of renderer in `output_area.display_order` */\n",
       "      index: 0\n",
       "    });\n",
       "  }\n",
       "\n",
       "  // register the mime type if in Jupyter Notebook environment and previously unregistered\n",
       "  if (root.Jupyter !== undefined) {\n",
       "    var events = require('base/js/events');\n",
       "    var OutputArea = require('notebook/js/outputarea').OutputArea;\n",
       "\n",
       "    if (OutputArea.prototype.mime_types().indexOf(EXEC_MIME_TYPE) == -1) {\n",
       "      register_renderer(events, OutputArea);\n",
       "    }\n",
       "  }\n",
       "\n",
       "  \n",
       "  if (typeof (root._bokeh_timeout) === \"undefined\" || force === true) {\n",
       "    root._bokeh_timeout = Date.now() + 5000;\n",
       "    root._bokeh_failed_load = false;\n",
       "  }\n",
       "\n",
       "  var NB_LOAD_WARNING = {'data': {'text/html':\n",
       "     \"<div style='background-color: #fdd'>\\n\"+\n",
       "     \"<p>\\n\"+\n",
       "     \"BokehJS does not appear to have successfully loaded. If loading BokehJS from CDN, this \\n\"+\n",
       "     \"may be due to a slow or bad network connection. Possible fixes:\\n\"+\n",
       "     \"</p>\\n\"+\n",
       "     \"<ul>\\n\"+\n",
       "     \"<li>re-rerun `output_notebook()` to attempt to load from CDN again, or</li>\\n\"+\n",
       "     \"<li>use INLINE resources instead, as so:</li>\\n\"+\n",
       "     \"</ul>\\n\"+\n",
       "     \"<code>\\n\"+\n",
       "     \"from bokeh.resources import INLINE\\n\"+\n",
       "     \"output_notebook(resources=INLINE)\\n\"+\n",
       "     \"</code>\\n\"+\n",
       "     \"</div>\"}};\n",
       "\n",
       "  function display_loaded() {\n",
       "    var el = document.getElementById(\"a88023f2-7a2c-42d3-ad92-fb181aa15828\");\n",
       "    if (el != null) {\n",
       "      el.textContent = \"BokehJS is loading...\";\n",
       "    }\n",
       "    if (root.Bokeh !== undefined) {\n",
       "      if (el != null) {\n",
       "        el.textContent = \"BokehJS \" + root.Bokeh.version + \" successfully loaded.\";\n",
       "      }\n",
       "    } else if (Date.now() < root._bokeh_timeout) {\n",
       "      setTimeout(display_loaded, 100)\n",
       "    }\n",
       "  }\n",
       "\n",
       "\n",
       "  function run_callbacks() {\n",
       "    try {\n",
       "      root._bokeh_onload_callbacks.forEach(function(callback) { callback() });\n",
       "    }\n",
       "    finally {\n",
       "      delete root._bokeh_onload_callbacks\n",
       "    }\n",
       "    console.info(\"Bokeh: all callbacks have finished\");\n",
       "  }\n",
       "\n",
       "  function load_libs(js_urls, callback) {\n",
       "    root._bokeh_onload_callbacks.push(callback);\n",
       "    if (root._bokeh_is_loading > 0) {\n",
       "      console.log(\"Bokeh: BokehJS is being loaded, scheduling callback at\", now());\n",
       "      return null;\n",
       "    }\n",
       "    if (js_urls == null || js_urls.length === 0) {\n",
       "      run_callbacks();\n",
       "      return null;\n",
       "    }\n",
       "    console.log(\"Bokeh: BokehJS not loaded, scheduling load and callback at\", now());\n",
       "    root._bokeh_is_loading = js_urls.length;\n",
       "    for (var i = 0; i < js_urls.length; i++) {\n",
       "      var url = js_urls[i];\n",
       "      var s = document.createElement('script');\n",
       "      s.src = url;\n",
       "      s.async = false;\n",
       "      s.onreadystatechange = s.onload = function() {\n",
       "        root._bokeh_is_loading--;\n",
       "        if (root._bokeh_is_loading === 0) {\n",
       "          console.log(\"Bokeh: all BokehJS libraries loaded\");\n",
       "          run_callbacks()\n",
       "        }\n",
       "      };\n",
       "      s.onerror = function() {\n",
       "        console.warn(\"failed to load library \" + url);\n",
       "      };\n",
       "      console.log(\"Bokeh: injecting script tag for BokehJS library: \", url);\n",
       "      document.getElementsByTagName(\"head\")[0].appendChild(s);\n",
       "    }\n",
       "  };var element = document.getElementById(\"a88023f2-7a2c-42d3-ad92-fb181aa15828\");\n",
       "  if (element == null) {\n",
       "    console.log(\"Bokeh: ERROR: autoload.js configured with elementid 'a88023f2-7a2c-42d3-ad92-fb181aa15828' but no matching script tag was found. \")\n",
       "    return false;\n",
       "  }\n",
       "\n",
       "  var js_urls = [\"https://cdn.pydata.org/bokeh/release/bokeh-0.13.0.min.js\", \"https://cdn.pydata.org/bokeh/release/bokeh-widgets-0.13.0.min.js\", \"https://cdn.pydata.org/bokeh/release/bokeh-tables-0.13.0.min.js\", \"https://cdn.pydata.org/bokeh/release/bokeh-gl-0.13.0.min.js\"];\n",
       "\n",
       "  var inline_js = [\n",
       "    function(Bokeh) {\n",
       "      Bokeh.set_log_level(\"info\");\n",
       "    },\n",
       "    \n",
       "    function(Bokeh) {\n",
       "      \n",
       "    },\n",
       "    function(Bokeh) {\n",
       "      console.log(\"Bokeh: injecting CSS: https://cdn.pydata.org/bokeh/release/bokeh-0.13.0.min.css\");\n",
       "      Bokeh.embed.inject_css(\"https://cdn.pydata.org/bokeh/release/bokeh-0.13.0.min.css\");\n",
       "      console.log(\"Bokeh: injecting CSS: https://cdn.pydata.org/bokeh/release/bokeh-widgets-0.13.0.min.css\");\n",
       "      Bokeh.embed.inject_css(\"https://cdn.pydata.org/bokeh/release/bokeh-widgets-0.13.0.min.css\");\n",
       "      console.log(\"Bokeh: injecting CSS: https://cdn.pydata.org/bokeh/release/bokeh-tables-0.13.0.min.css\");\n",
       "      Bokeh.embed.inject_css(\"https://cdn.pydata.org/bokeh/release/bokeh-tables-0.13.0.min.css\");\n",
       "    }\n",
       "  ];\n",
       "\n",
       "  function run_inline_js() {\n",
       "    \n",
       "    if ((root.Bokeh !== undefined) || (force === true)) {\n",
       "      for (var i = 0; i < inline_js.length; i++) {\n",
       "        inline_js[i].call(root, root.Bokeh);\n",
       "      }if (force === true) {\n",
       "        display_loaded();\n",
       "      }} else if (Date.now() < root._bokeh_timeout) {\n",
       "      setTimeout(run_inline_js, 100);\n",
       "    } else if (!root._bokeh_failed_load) {\n",
       "      console.log(\"Bokeh: BokehJS failed to load within specified timeout.\");\n",
       "      root._bokeh_failed_load = true;\n",
       "    } else if (force !== true) {\n",
       "      var cell = $(document.getElementById(\"a88023f2-7a2c-42d3-ad92-fb181aa15828\")).parents('.cell').data().cell;\n",
       "      cell.output_area.append_execute_result(NB_LOAD_WARNING)\n",
       "    }\n",
       "\n",
       "  }\n",
       "\n",
       "  if (root._bokeh_is_loading === 0) {\n",
       "    console.log(\"Bokeh: BokehJS loaded, going straight to plotting\");\n",
       "    run_inline_js();\n",
       "  } else {\n",
       "    load_libs(js_urls, function() {\n",
       "      console.log(\"Bokeh: BokehJS plotting callback run at\", now());\n",
       "      run_inline_js();\n",
       "    });\n",
       "  }\n",
       "}(window));"
      ],
      "application/vnd.bokehjs_load.v0+json": "\n(function(root) {\n  function now() {\n    return new Date();\n  }\n\n  var force = true;\n\n  if (typeof (root._bokeh_onload_callbacks) === \"undefined\" || force === true) {\n    root._bokeh_onload_callbacks = [];\n    root._bokeh_is_loading = undefined;\n  }\n\n  \n\n  \n  if (typeof (root._bokeh_timeout) === \"undefined\" || force === true) {\n    root._bokeh_timeout = Date.now() + 5000;\n    root._bokeh_failed_load = false;\n  }\n\n  var NB_LOAD_WARNING = {'data': {'text/html':\n     \"<div style='background-color: #fdd'>\\n\"+\n     \"<p>\\n\"+\n     \"BokehJS does not appear to have successfully loaded. If loading BokehJS from CDN, this \\n\"+\n     \"may be due to a slow or bad network connection. Possible fixes:\\n\"+\n     \"</p>\\n\"+\n     \"<ul>\\n\"+\n     \"<li>re-rerun `output_notebook()` to attempt to load from CDN again, or</li>\\n\"+\n     \"<li>use INLINE resources instead, as so:</li>\\n\"+\n     \"</ul>\\n\"+\n     \"<code>\\n\"+\n     \"from bokeh.resources import INLINE\\n\"+\n     \"output_notebook(resources=INLINE)\\n\"+\n     \"</code>\\n\"+\n     \"</div>\"}};\n\n  function display_loaded() {\n    var el = document.getElementById(\"a88023f2-7a2c-42d3-ad92-fb181aa15828\");\n    if (el != null) {\n      el.textContent = \"BokehJS is loading...\";\n    }\n    if (root.Bokeh !== undefined) {\n      if (el != null) {\n        el.textContent = \"BokehJS \" + root.Bokeh.version + \" successfully loaded.\";\n      }\n    } else if (Date.now() < root._bokeh_timeout) {\n      setTimeout(display_loaded, 100)\n    }\n  }\n\n\n  function run_callbacks() {\n    try {\n      root._bokeh_onload_callbacks.forEach(function(callback) { callback() });\n    }\n    finally {\n      delete root._bokeh_onload_callbacks\n    }\n    console.info(\"Bokeh: all callbacks have finished\");\n  }\n\n  function load_libs(js_urls, callback) {\n    root._bokeh_onload_callbacks.push(callback);\n    if (root._bokeh_is_loading > 0) {\n      console.log(\"Bokeh: BokehJS is being loaded, scheduling callback at\", now());\n      return null;\n    }\n    if (js_urls == null || js_urls.length === 0) {\n      run_callbacks();\n      return null;\n    }\n    console.log(\"Bokeh: BokehJS not loaded, scheduling load and callback at\", now());\n    root._bokeh_is_loading = js_urls.length;\n    for (var i = 0; i < js_urls.length; i++) {\n      var url = js_urls[i];\n      var s = document.createElement('script');\n      s.src = url;\n      s.async = false;\n      s.onreadystatechange = s.onload = function() {\n        root._bokeh_is_loading--;\n        if (root._bokeh_is_loading === 0) {\n          console.log(\"Bokeh: all BokehJS libraries loaded\");\n          run_callbacks()\n        }\n      };\n      s.onerror = function() {\n        console.warn(\"failed to load library \" + url);\n      };\n      console.log(\"Bokeh: injecting script tag for BokehJS library: \", url);\n      document.getElementsByTagName(\"head\")[0].appendChild(s);\n    }\n  };var element = document.getElementById(\"a88023f2-7a2c-42d3-ad92-fb181aa15828\");\n  if (element == null) {\n    console.log(\"Bokeh: ERROR: autoload.js configured with elementid 'a88023f2-7a2c-42d3-ad92-fb181aa15828' but no matching script tag was found. \")\n    return false;\n  }\n\n  var js_urls = [\"https://cdn.pydata.org/bokeh/release/bokeh-0.13.0.min.js\", \"https://cdn.pydata.org/bokeh/release/bokeh-widgets-0.13.0.min.js\", \"https://cdn.pydata.org/bokeh/release/bokeh-tables-0.13.0.min.js\", \"https://cdn.pydata.org/bokeh/release/bokeh-gl-0.13.0.min.js\"];\n\n  var inline_js = [\n    function(Bokeh) {\n      Bokeh.set_log_level(\"info\");\n    },\n    \n    function(Bokeh) {\n      \n    },\n    function(Bokeh) {\n      console.log(\"Bokeh: injecting CSS: https://cdn.pydata.org/bokeh/release/bokeh-0.13.0.min.css\");\n      Bokeh.embed.inject_css(\"https://cdn.pydata.org/bokeh/release/bokeh-0.13.0.min.css\");\n      console.log(\"Bokeh: injecting CSS: https://cdn.pydata.org/bokeh/release/bokeh-widgets-0.13.0.min.css\");\n      Bokeh.embed.inject_css(\"https://cdn.pydata.org/bokeh/release/bokeh-widgets-0.13.0.min.css\");\n      console.log(\"Bokeh: injecting CSS: https://cdn.pydata.org/bokeh/release/bokeh-tables-0.13.0.min.css\");\n      Bokeh.embed.inject_css(\"https://cdn.pydata.org/bokeh/release/bokeh-tables-0.13.0.min.css\");\n    }\n  ];\n\n  function run_inline_js() {\n    \n    if ((root.Bokeh !== undefined) || (force === true)) {\n      for (var i = 0; i < inline_js.length; i++) {\n        inline_js[i].call(root, root.Bokeh);\n      }if (force === true) {\n        display_loaded();\n      }} else if (Date.now() < root._bokeh_timeout) {\n      setTimeout(run_inline_js, 100);\n    } else if (!root._bokeh_failed_load) {\n      console.log(\"Bokeh: BokehJS failed to load within specified timeout.\");\n      root._bokeh_failed_load = true;\n    } else if (force !== true) {\n      var cell = $(document.getElementById(\"a88023f2-7a2c-42d3-ad92-fb181aa15828\")).parents('.cell').data().cell;\n      cell.output_area.append_execute_result(NB_LOAD_WARNING)\n    }\n\n  }\n\n  if (root._bokeh_is_loading === 0) {\n    console.log(\"Bokeh: BokehJS loaded, going straight to plotting\");\n    run_inline_js();\n  } else {\n    load_libs(js_urls, function() {\n      console.log(\"Bokeh: BokehJS plotting callback run at\", now());\n      run_inline_js();\n    });\n  }\n}(window));"
     },
     "metadata": {},
     "output_type": "display_data"
    }
   ],
   "source": [
    "from __future__ import absolute_import\n",
    "from __future__ import print_function\n",
    "from __future__ import division\n",
    "\n",
    "# Standard python helper libraries.\n",
    "import os, sys, time, shutil\n",
    "import itertools, collections\n",
    "from IPython.display import display\n",
    "\n",
    "# NumPy and SciPy for matrix ops\n",
    "import numpy as np\n",
    "import scipy.sparse\n",
    "\n",
    "# NLTK for NLP utils\n",
    "import nltk\n",
    "\n",
    "# Helper libraries.\n",
    "from w266_common import utils, vocabulary, tf_embed_viz\n",
    "\n",
    "# Bokeh for plotting.\n",
    "utils.require_package(\"bokeh\")\n",
    "import bokeh.plotting as bp\n",
    "from bokeh.models import LabelSet, HoverTool, WheelZoomTool\n",
    "bp.output_notebook()"
   ]
  },
  {
   "cell_type": "markdown",
   "metadata": {},
   "source": [
    "As before, we'll use the Brown corpus as our dataset, and do our usual simple preprocessing. Since we're just going to explore the embeddings, we don't need a train/dev/test split."
   ]
  },
  {
   "cell_type": "code",
   "execution_count": 2,
   "metadata": {},
   "outputs": [
    {
     "name": "stdout",
     "output_type": "stream",
     "text": [
      "[nltk_data] Downloading package brown to /home/vijjus/nltk_data...\n",
      "[nltk_data]   Package brown is already up-to-date!\n",
      "Vocabulary: 48,174 words\n",
      "Corpus: 1,218,533 tokens (counting <s>)\n"
     ]
    }
   ],
   "source": [
    "assert(nltk.download('brown'))  # make sure we have the data\n",
    "corpus = nltk.corpus.brown\n",
    "vocab = vocabulary.Vocabulary(utils.canonicalize_word(w) for w in utils.flatten(corpus.sents()))\n",
    "print(\"Vocabulary: {:,} words\".format(vocab.size))\n",
    "\n",
    "tokens = utils.preprocess_sentences(corpus.sents(), vocab, use_eos=False, emit_ids=False)\n",
    "print(\"Corpus: {:,} tokens (counting <s>)\".format(len(tokens)))"
   ]
  },
  {
   "cell_type": "code",
   "execution_count": 5,
   "metadata": {},
   "outputs": [
    {
     "data": {
      "text/plain": [
       "numpy.ndarray"
      ]
     },
     "execution_count": 5,
     "metadata": {},
     "output_type": "execute_result"
    }
   ],
   "source": [
    "type(tokens)"
   ]
  },
  {
   "cell_type": "code",
   "execution_count": 7,
   "metadata": {},
   "outputs": [
    {
     "data": {
      "text/plain": [
       "array(['<s>', 'the', 'fulton', 'county', 'grand'], dtype=object)"
      ]
     },
     "execution_count": 7,
     "metadata": {},
     "output_type": "execute_result"
    }
   ],
   "source": [
    "tokens[:5]"
   ]
  },
  {
   "cell_type": "markdown",
   "metadata": {},
   "source": [
    "# The Co-occurrence Matrix\n",
    "\n",
    "The base for our word embeddings will be a co-occurrence matrix $M$. In the most general form, we'll consider this to be a **word-context matrix**, where the row indices $i$ correspond to words (types) $w_i$ in the vocabulary. Context could be:\n",
    "\n",
    "- Documents\n",
    "- Paragraphs or sentences\n",
    "- Syntactic contexts\n",
    "- Topics\n",
    "- Nearby words\n",
    "\n",
    "We're really interested in the words, so we're going to jump right to the last one. How do we define \"nearby\"? The simplest way is to just position: we'll define a *window* and say that two words co-occur if they appear in this window. For example:\n",
    "```\n",
    "the quick brown fox jumped over the lazy dog\n",
    "```\n",
    "With a window of $\\pm 2$ words, we say that `brown`, `fox`, `over`, and `the` are in the context of `jumped`, and so in our co-occurence matrix $C \\in M^{|V|\\times|V|}$ we have $C_{\\mathtt{brown,jumped}} = 1$, $C_{\\mathtt{fox,jumped}} = 1$, and so on.\n",
    "\n",
    "\n",
    "\n",
    "\n"
   ]
  },
  {
   "cell_type": "markdown",
   "metadata": {},
   "source": [
    "_**Note:**_ It turns out that we can transform any word-context matrix $M$ into a word-word matrix:\n",
    "\n",
    "Let \n",
    "$$ M_{i\\ell} = \\mathbf{Count}[w_i \\in \\text{context}\\ \\ell] $$ \n",
    "\n",
    "Then for $i \\ne j$:\n",
    "\n",
    "$$ (MM^T)_{ij} = \\sum_{\\ell} M_{i\\ell} M_{j\\ell} = \\mathbf{Count}[w_i \\text{ in same context as } w_j] = C_{ij} $$\n",
    "\n",
    "There's a correction we'd need to do for the diagonal, but it won't change the structure of the representations that we get via the SVD. So regardless of the underlying context type, it's common to just deal with a word-word cooccurence matrix $C_{ij}$."
   ]
  },
  {
   "cell_type": "markdown",
   "metadata": {},
   "source": [
    "## Constructing the Co-occurrence Matrix\n",
    "\n",
    "In order to put our words in a matrix, we need to assign each one to a row index. Fortunately, our `Vocabulary` class does this automatically:"
   ]
  },
  {
   "cell_type": "code",
   "execution_count": 6,
   "metadata": {},
   "outputs": [
    {
     "name": "stdout",
     "output_type": "stream",
     "text": [
      "Sample words: ['<s>' 'the' 'fulton' 'county' 'grand' 'jury' 'said' 'friday' 'an'\n",
      " 'investigation' 'of' \"atlanta's\" 'recent' 'primary' 'election']\n",
      "Sample ids:   [0, 3, 5405, 652, 2287, 1628, 65, 1837, 37, 2167, 6, 14043, 553, 1117, 1395]\n"
     ]
    }
   ],
   "source": [
    "token_ids = vocab.words_to_ids(tokens)\n",
    "print(\"Sample words: \" + str(tokens[:15]))\n",
    "print(\"Sample ids:   \" + str(token_ids[:15]))"
   ]
  },
  {
   "cell_type": "markdown",
   "metadata": {},
   "source": [
    "Our co-occurence counts are pairwise between words, so we'll want to have a sparse representation. The total number of matrix elements is:"
   ]
  },
  {
   "cell_type": "code",
   "execution_count": 8,
   "metadata": {},
   "outputs": [
    {
     "name": "stdout",
     "output_type": "stream",
     "text": [
      "Total matrix elements: 48,174 x 48,174 = 2,320,734,276\n"
     ]
    }
   ],
   "source": [
    "V = vocab.size\n",
    "print(\"Total matrix elements: {:,} x {:,} = {:,}\".format(V, V, V**2))"
   ]
  },
  {
   "cell_type": "markdown",
   "metadata": {},
   "source": [
    "But as with bigrams, most of these will be zero. So, we'll define $C$ as a `scipy.sparse` matrix. Like the sparse dicts we used in the [language modeling demo](../../materials/simple_lm/lm1.py), the sparse matrix will only store the nonzero elements we need.\n",
    "\n",
    "_**Mathematical note:**_  \n",
    "We can compute each element by sliding a window over each position $\\ell$ in the corpus. Suppose our window is size $W = 2K + 1$. Then:\n",
    "\n",
    "$$ C_{ij} = \\sum_\\ell^{|\\text{tokens}|} \\sum_{k \\in [-K,K],\\ \\delta \\ne 0 } \\mathbf{1}[w_\\ell = i \\text{ and } w_{\\ell+k} = j] $$\n",
    "\n",
    "We'll hack this a little bit and change the order of the sum, which makes for simpler code:\n",
    "\n",
    "$$ C_{ij} = \\sum_{k \\in [-K,K],\\ k \\ne 0 } \\sum_\\ell^{|\\text{tokens}|} \\mathbf{1}[w_\\ell = i \\text{ and } w_{\\ell+k} = j] $$\n",
    "\n",
    "Conveniently, the above is symmetric, so we'll simplify further to:\n",
    "\n",
    "$$ C_{ij}^+ = \\sum_{k = 1}^K \\sum_\\ell^{|\\text{tokens}|} \\mathbf{1}[w_\\ell = i \\text{ and } w_{\\ell+k} = j] = \\sum_{k = 1}^K C_{ij}^+(k)$$\n",
    "\n",
    "$$ C_{ij}^- = \\sum_{k = -K}^1 \\sum_\\ell^{|\\text{tokens}|} \\mathbf{1}[w_\\ell = i \\text{ and } w_{\\ell+k} = j] = \\sum_{k = -K}^1 C_{ij}^-(k)$$\n",
    "\n",
    "It's easy to see that $C_{ij} = C_{ij}^+ + C_{ij}^-$, and since $C_{ij}^+ = C_{ji}^-$, $C$ is a symmetric matrix.\n",
    "\n",
    "Now we can write the formula in code, where our outer loop sums over $k$:"
   ]
  },
  {
   "cell_type": "code",
   "execution_count": 9,
   "metadata": {},
   "outputs": [],
   "source": [
    "def cooccurrence_matrix(token_ids, V, K=2):\n",
    "    # We'll use this as an \"accumulator\" matrix\n",
    "    C = scipy.sparse.csc_matrix((V,V), dtype=np.float32)\n",
    "\n",
    "    for k in range(1, K+1):\n",
    "        print(u\"Counting pairs (i, i \\u00B1 {:d}) ...\".format(k))\n",
    "        i = token_ids[:-k]  # current word\n",
    "        j = token_ids[k:]   # k words ahead\n",
    "        data = (np.ones_like(i), (i,j))  # values, indices\n",
    "        Ck_plus = scipy.sparse.csc_matrix(data, shape=C.shape, dtype=np.float32)\n",
    "        Ck_minus = Ck_plus.T  # Consider k words behind\n",
    "        C += Ck_plus + Ck_minus\n",
    "\n",
    "    print(\"Co-occurrence matrix: {:,} words x {:,} words\".format(*C.shape))\n",
    "    print(\"  {:.02g} nonzero elements\".format(C.nnz))\n",
    "    return C"
   ]
  },
  {
   "cell_type": "markdown",
   "metadata": {},
   "source": [
    "Let's look at a toy corpus to see how this works. With a window of 1, we should see co-occurrence counts for each pair of neighboring words:  \n",
    "`(<s>, nlp)`,  \n",
    "`(nlp, class)`,  \n",
    "`(class, is)`,  \n",
    "and so on - as well as their reversed versions (remember, C is symmetric!)"
   ]
  },
  {
   "cell_type": "code",
   "execution_count": 10,
   "metadata": {
    "code_folding": []
   },
   "outputs": [
    {
     "name": "stdout",
     "output_type": "stream",
     "text": [
      "Counting pairs (i, i ± 1) ...\n",
      "Co-occurrence matrix: 8 words x 8 words\n",
      "  16 nonzero elements\n"
     ]
    },
    {
     "data": {
      "text/html": [
       "<div>\n",
       "<style scoped>\n",
       "    .dataframe tbody tr th:only-of-type {\n",
       "        vertical-align: middle;\n",
       "    }\n",
       "\n",
       "    .dataframe tbody tr th {\n",
       "        vertical-align: top;\n",
       "    }\n",
       "\n",
       "    .dataframe thead th {\n",
       "        text-align: right;\n",
       "    }\n",
       "</style>\n",
       "<table border=\"1\" class=\"dataframe\">\n",
       "  <thead>\n",
       "    <tr style=\"text-align: right;\">\n",
       "      <th></th>\n",
       "      <th>&lt;s&gt;</th>\n",
       "      <th>&lt;/s&gt;</th>\n",
       "      <th>&lt;unk&gt;</th>\n",
       "      <th>nlp</th>\n",
       "      <th>class</th>\n",
       "      <th>is</th>\n",
       "      <th>awesome</th>\n",
       "      <th>fun</th>\n",
       "    </tr>\n",
       "  </thead>\n",
       "  <tbody>\n",
       "    <tr>\n",
       "      <th>&lt;s&gt;</th>\n",
       "      <td>0</td>\n",
       "      <td>1</td>\n",
       "      <td>0</td>\n",
       "      <td>2</td>\n",
       "      <td>0</td>\n",
       "      <td>0</td>\n",
       "      <td>0</td>\n",
       "      <td>0</td>\n",
       "    </tr>\n",
       "    <tr>\n",
       "      <th>&lt;/s&gt;</th>\n",
       "      <td>1</td>\n",
       "      <td>0</td>\n",
       "      <td>0</td>\n",
       "      <td>0</td>\n",
       "      <td>0</td>\n",
       "      <td>0</td>\n",
       "      <td>1</td>\n",
       "      <td>1</td>\n",
       "    </tr>\n",
       "    <tr>\n",
       "      <th>&lt;unk&gt;</th>\n",
       "      <td>0</td>\n",
       "      <td>0</td>\n",
       "      <td>0</td>\n",
       "      <td>0</td>\n",
       "      <td>0</td>\n",
       "      <td>0</td>\n",
       "      <td>0</td>\n",
       "      <td>0</td>\n",
       "    </tr>\n",
       "    <tr>\n",
       "      <th>nlp</th>\n",
       "      <td>2</td>\n",
       "      <td>0</td>\n",
       "      <td>0</td>\n",
       "      <td>0</td>\n",
       "      <td>2</td>\n",
       "      <td>0</td>\n",
       "      <td>0</td>\n",
       "      <td>0</td>\n",
       "    </tr>\n",
       "    <tr>\n",
       "      <th>class</th>\n",
       "      <td>0</td>\n",
       "      <td>0</td>\n",
       "      <td>0</td>\n",
       "      <td>2</td>\n",
       "      <td>0</td>\n",
       "      <td>2</td>\n",
       "      <td>0</td>\n",
       "      <td>0</td>\n",
       "    </tr>\n",
       "    <tr>\n",
       "      <th>is</th>\n",
       "      <td>0</td>\n",
       "      <td>0</td>\n",
       "      <td>0</td>\n",
       "      <td>0</td>\n",
       "      <td>2</td>\n",
       "      <td>0</td>\n",
       "      <td>1</td>\n",
       "      <td>1</td>\n",
       "    </tr>\n",
       "    <tr>\n",
       "      <th>awesome</th>\n",
       "      <td>0</td>\n",
       "      <td>1</td>\n",
       "      <td>0</td>\n",
       "      <td>0</td>\n",
       "      <td>0</td>\n",
       "      <td>1</td>\n",
       "      <td>0</td>\n",
       "      <td>0</td>\n",
       "    </tr>\n",
       "    <tr>\n",
       "      <th>fun</th>\n",
       "      <td>0</td>\n",
       "      <td>1</td>\n",
       "      <td>0</td>\n",
       "      <td>0</td>\n",
       "      <td>0</td>\n",
       "      <td>1</td>\n",
       "      <td>0</td>\n",
       "      <td>0</td>\n",
       "    </tr>\n",
       "  </tbody>\n",
       "</table>\n",
       "</div>"
      ],
      "text/plain": [
       "<IPython.core.display.HTML object>"
      ]
     },
     "metadata": {},
     "output_type": "display_data"
    }
   ],
   "source": [
    "# Show co-occurrence on a toy corpus\n",
    "toy_corpus = [\n",
    "    \"nlp class is awesome\",\n",
    "    \"nlp class is fun\"\n",
    "]\n",
    "\n",
    "toy_tokens = list(utils.flatten(s.split() for s in toy_corpus))\n",
    "toy_vocab = vocabulary.Vocabulary(toy_tokens)\n",
    "# sentence_to_ids adds \"<s>\" and \"</s>\"\n",
    "toy_token_ids = list(utils.flatten(toy_vocab.sentence_to_ids(s.split()) \n",
    "                     for s in toy_corpus))\n",
    "\n",
    "# Here's the important part\n",
    "toy_C = cooccurrence_matrix(toy_token_ids, toy_vocab.size, K=1)\n",
    "\n",
    "toy_labels = toy_vocab.ordered_words()\n",
    "utils.pretty_print_matrix(toy_C.toarray(), rows=toy_labels, cols=toy_labels, dtype=int)"
   ]
  },
  {
   "cell_type": "markdown",
   "metadata": {},
   "source": [
    "## Computing Word Vectors\n",
    "\n",
    "In order to go from our co-occurrence matrix to word vectors, we need to do two things:\n",
    "\n",
    "- First, convert to **PPMI** to reduce the impact of common words.\n",
    "- Compute the **SVD**, and extract our vectors.\n",
    "\n",
    "### PPMI\n",
    "\n",
    "PPMI stands for Positive [Pointwise Mutual Information](https://en.wikipedia.org/wiki/Pointwise_mutual_information), which you've seen on [Assignment 1](../../assignment/a1/information_theory.ipynb#Pointwise-Mutual-Information). PMI is a generalization of the idea of correlation, but for arbitrary variables. Here, we're interested in the correlation between word $i$ and word $j$, where we take the samples to be all the word-word pairs in our corpus.  \n",
    "Positive just means we'll truncate at zero: $\\text{PPMI}(i,j) = \\max(0, \\text{PMI}(i,j))$\n",
    "\n",
    "We'll apply PPMI as a transformation of our counts matrix. First, compute probabilities:\n",
    "$$ P(i,j) = \\frac{C(i,j)}{\\sum_{k,l} C(k,l)} = \\frac{C_{ij}}{Z}$$\n",
    "$$ P(i) = \\frac{\\sum_{k} C(i,k)}{\\sum_{k,l} C(k,l)} = \\frac{Z_i}{Z}$$\n",
    "\n",
    "Then compute PMI:\n",
    "$$ \\text{PMI}(i,j) = \\log \\frac{P(i,j)}{P(i)P(j)} = \\log \\frac{C_{ij} \\cdot Z}{Z_i \\cdot Z_j} $$\n",
    "\n",
    "Then truncate to ignore negatively-correlated pairs:\n",
    "$$\\text{PPMI}(i,j) = \\max(0, \\text{PMI}(i,j))$$\n",
    "\n",
    "#### Note on Sparse Matricies\n",
    "\n",
    "In order to compute PPMI, we'll need to \"unpack\" the nonzero elements. Recall when we were constructing it, we constructed a list of `(values, (indices))`:\n",
    "```\n",
    "data = (np.ones_like(i), (i,j))  # values, indices\n",
    "```\n",
    "We'll do the inverse of this here, then transform all the values in parallel, then pack them back into a sparse matrix."
   ]
  },
  {
   "cell_type": "code",
   "execution_count": 11,
   "metadata": {
    "code_folding": []
   },
   "outputs": [],
   "source": [
    "def PPMI(C):\n",
    "    \"\"\"Tranform a counts matrix to PPMI.\n",
    "    \n",
    "    Args:\n",
    "      C: scipy.sparse.csc_matrix of counts C_ij\n",
    "    \n",
    "    Returns:\n",
    "      (scipy.sparse.csc_matrix) PPMI(C) as defined above\n",
    "    \"\"\"\n",
    "    Z = float(C.sum())  # total counts\n",
    "    # sum each column (along rows)\n",
    "    Zc = np.array(C.sum(axis=0), dtype=np.float64).flatten()\n",
    "    # sum each row (along columns)\n",
    "    Zr = np.array(C.sum(axis=1), dtype=np.float64).flatten()\n",
    "    \n",
    "    # Get indices of relevant elements\n",
    "    ii, jj = C.nonzero()  # row, column indices\n",
    "    Cij = np.array(C[ii,jj], dtype=np.float64).flatten()\n",
    "    \n",
    "    ##\n",
    "    # PMI equation\n",
    "    pmi = np.log(Cij * Z / (Zr[ii] * Zc[jj]))\n",
    "    ##\n",
    "    # Truncate to positive only\n",
    "    ppmi = np.maximum(0, pmi)  # take positive only\n",
    "    \n",
    "    # Re-format as sparse matrix\n",
    "    ret = scipy.sparse.csc_matrix((ppmi, (ii,jj)), shape=C.shape,\n",
    "                                  dtype=np.float64)\n",
    "    ret.eliminate_zeros()  # remove zeros\n",
    "    return ret"
   ]
  },
  {
   "cell_type": "markdown",
   "metadata": {},
   "source": [
    "Let's see what this does on our toy corpus:"
   ]
  },
  {
   "cell_type": "code",
   "execution_count": 12,
   "metadata": {
    "scrolled": true
   },
   "outputs": [
    {
     "data": {
      "text/html": [
       "<div>\n",
       "<style scoped>\n",
       "    .dataframe tbody tr th:only-of-type {\n",
       "        vertical-align: middle;\n",
       "    }\n",
       "\n",
       "    .dataframe tbody tr th {\n",
       "        vertical-align: top;\n",
       "    }\n",
       "\n",
       "    .dataframe thead th {\n",
       "        text-align: right;\n",
       "    }\n",
       "</style>\n",
       "<table border=\"1\" class=\"dataframe\">\n",
       "  <thead>\n",
       "    <tr style=\"text-align: right;\">\n",
       "      <th></th>\n",
       "      <th>&lt;s&gt;</th>\n",
       "      <th>&lt;/s&gt;</th>\n",
       "      <th>&lt;unk&gt;</th>\n",
       "      <th>nlp</th>\n",
       "      <th>class</th>\n",
       "      <th>is</th>\n",
       "      <th>awesome</th>\n",
       "      <th>fun</th>\n",
       "    </tr>\n",
       "  </thead>\n",
       "  <tbody>\n",
       "    <tr>\n",
       "      <th>&lt;s&gt;</th>\n",
       "      <td>0.0000</td>\n",
       "      <td>0.8938</td>\n",
       "      <td>0.0000</td>\n",
       "      <td>1.2993</td>\n",
       "      <td>0.0000</td>\n",
       "      <td>0.0000</td>\n",
       "      <td>0.0000</td>\n",
       "      <td>0.0000</td>\n",
       "    </tr>\n",
       "    <tr>\n",
       "      <th>&lt;/s&gt;</th>\n",
       "      <td>0.8938</td>\n",
       "      <td>0.0000</td>\n",
       "      <td>0.0000</td>\n",
       "      <td>0.0000</td>\n",
       "      <td>0.0000</td>\n",
       "      <td>0.0000</td>\n",
       "      <td>1.2993</td>\n",
       "      <td>1.2993</td>\n",
       "    </tr>\n",
       "    <tr>\n",
       "      <th>&lt;unk&gt;</th>\n",
       "      <td>0.0000</td>\n",
       "      <td>0.0000</td>\n",
       "      <td>0.0000</td>\n",
       "      <td>0.0000</td>\n",
       "      <td>0.0000</td>\n",
       "      <td>0.0000</td>\n",
       "      <td>0.0000</td>\n",
       "      <td>0.0000</td>\n",
       "    </tr>\n",
       "    <tr>\n",
       "      <th>nlp</th>\n",
       "      <td>1.2993</td>\n",
       "      <td>0.0000</td>\n",
       "      <td>0.0000</td>\n",
       "      <td>0.0000</td>\n",
       "      <td>1.0116</td>\n",
       "      <td>0.0000</td>\n",
       "      <td>0.0000</td>\n",
       "      <td>0.0000</td>\n",
       "    </tr>\n",
       "    <tr>\n",
       "      <th>class</th>\n",
       "      <td>0.0000</td>\n",
       "      <td>0.0000</td>\n",
       "      <td>0.0000</td>\n",
       "      <td>1.0116</td>\n",
       "      <td>0.0000</td>\n",
       "      <td>1.0116</td>\n",
       "      <td>0.0000</td>\n",
       "      <td>0.0000</td>\n",
       "    </tr>\n",
       "    <tr>\n",
       "      <th>is</th>\n",
       "      <td>0.0000</td>\n",
       "      <td>0.0000</td>\n",
       "      <td>0.0000</td>\n",
       "      <td>0.0000</td>\n",
       "      <td>1.0116</td>\n",
       "      <td>0.0000</td>\n",
       "      <td>1.0116</td>\n",
       "      <td>1.0116</td>\n",
       "    </tr>\n",
       "    <tr>\n",
       "      <th>awesome</th>\n",
       "      <td>0.0000</td>\n",
       "      <td>1.2993</td>\n",
       "      <td>0.0000</td>\n",
       "      <td>0.0000</td>\n",
       "      <td>0.0000</td>\n",
       "      <td>1.0116</td>\n",
       "      <td>0.0000</td>\n",
       "      <td>0.0000</td>\n",
       "    </tr>\n",
       "    <tr>\n",
       "      <th>fun</th>\n",
       "      <td>0.0000</td>\n",
       "      <td>1.2993</td>\n",
       "      <td>0.0000</td>\n",
       "      <td>0.0000</td>\n",
       "      <td>0.0000</td>\n",
       "      <td>1.0116</td>\n",
       "      <td>0.0000</td>\n",
       "      <td>0.0000</td>\n",
       "    </tr>\n",
       "  </tbody>\n",
       "</table>\n",
       "</div>"
      ],
      "text/plain": [
       "<IPython.core.display.HTML object>"
      ]
     },
     "metadata": {},
     "output_type": "display_data"
    }
   ],
   "source": [
    "utils.pretty_print_matrix(PPMI(toy_C).toarray(), rows=toy_labels, \n",
    "                          cols=toy_labels, dtype=float)"
   ]
  },
  {
   "cell_type": "markdown",
   "metadata": {},
   "source": [
    "### The SVD\n",
    "\n",
    "Recall from async that the [singular value decomposition (SVD)](https://en.wikipedia.org/wiki/Singular_value_decomposition) decomposes an $m \\times n$ matrix $X$ as:\n",
    "\n",
    "$$ X = UDV^T $$ \n",
    "\n",
    "where $U$ is $m\\times m$, $D$ is $m \\times n$, and $V$ is $n \\times n$, $U$ and $V$ are orthonormal matricies, and $D$ is diagonal. \n",
    "\n",
    "Conventionally, we take the diagonal elements of $D$ to be in order, so $D_{00}$ is the largest singular value, and so on. Then we can take the first $d$ columns of $U$ to be our word vector representations.\n",
    "\n",
    "This is a very standard algorithm with many implementations. We'll use the one in [`sklearn.decomposition.TruncatedSVD`](http://scikit-learn.org/stable/modules/generated/sklearn.decomposition.TruncatedSVD.html), which will only compute the $d \\ll |V|$ components we need.\n",
    "\n",
    "#### Note: known Anaconda bug\n",
    "\n",
    "There's a [known bug](https://github.com/BVLC/caffe/issues/3884) with Anaconda's configuration of some linear algebra libraries. If your Python kernel crashes on running the SVD, open a terminal and run:\n",
    "```\n",
    "conda install mkl\n",
    "```\n",
    "That should re-link the packages. You may need to restart your kernel for it to take effect."
   ]
  },
  {
   "cell_type": "code",
   "execution_count": 13,
   "metadata": {},
   "outputs": [],
   "source": [
    "from sklearn.decomposition import TruncatedSVD\n",
    "def SVD(X, d=100):\n",
    "    \"\"\"Returns word vectors from SVD.\n",
    "    \n",
    "    Args:\n",
    "      X: m x n matrix\n",
    "      d: word vector dimension\n",
    "      \n",
    "    Returns:\n",
    "      Wv : m x d matrix, each row is a word vector.\n",
    "    \"\"\"\n",
    "    transformer = TruncatedSVD(n_components=d, random_state=1)\n",
    "    Wv = transformer.fit_transform(X)\n",
    "    # Normalize to unit length\n",
    "    Wv = Wv / np.linalg.norm(Wv, axis=1).reshape([-1,1])\n",
    "    return Wv, transformer.explained_variance_"
   ]
  },
  {
   "cell_type": "markdown",
   "metadata": {},
   "source": [
    "Again, applied to our toy corpus. Note that \"fun\" and \"awesome\" appear in identical contexts, so they get identical vector representations:"
   ]
  },
  {
   "cell_type": "code",
   "execution_count": 14,
   "metadata": {},
   "outputs": [
    {
     "data": {
      "text/html": [
       "<div>\n",
       "<style scoped>\n",
       "    .dataframe tbody tr th:only-of-type {\n",
       "        vertical-align: middle;\n",
       "    }\n",
       "\n",
       "    .dataframe tbody tr th {\n",
       "        vertical-align: top;\n",
       "    }\n",
       "\n",
       "    .dataframe thead th {\n",
       "        text-align: right;\n",
       "    }\n",
       "</style>\n",
       "<table border=\"1\" class=\"dataframe\">\n",
       "  <thead>\n",
       "    <tr style=\"text-align: right;\">\n",
       "      <th></th>\n",
       "      <th>0</th>\n",
       "      <th>1</th>\n",
       "      <th>2</th>\n",
       "    </tr>\n",
       "  </thead>\n",
       "  <tbody>\n",
       "    <tr>\n",
       "      <th>&lt;s&gt;</th>\n",
       "      <td>1.0000</td>\n",
       "      <td>0.0000</td>\n",
       "      <td>-0.0000</td>\n",
       "    </tr>\n",
       "    <tr>\n",
       "      <th>&lt;/s&gt;</th>\n",
       "      <td>-0.0000</td>\n",
       "      <td>0.9743</td>\n",
       "      <td>-0.2250</td>\n",
       "    </tr>\n",
       "    <tr>\n",
       "      <th>&lt;unk&gt;</th>\n",
       "      <td>0.1040</td>\n",
       "      <td>-0.0735</td>\n",
       "      <td>0.9919</td>\n",
       "    </tr>\n",
       "    <tr>\n",
       "      <th>nlp</th>\n",
       "      <td>0.0000</td>\n",
       "      <td>0.5542</td>\n",
       "      <td>0.8324</td>\n",
       "    </tr>\n",
       "    <tr>\n",
       "      <th>class</th>\n",
       "      <td>1.0000</td>\n",
       "      <td>0.0000</td>\n",
       "      <td>-0.0000</td>\n",
       "    </tr>\n",
       "    <tr>\n",
       "      <th>is</th>\n",
       "      <td>0.0000</td>\n",
       "      <td>0.9858</td>\n",
       "      <td>-0.1677</td>\n",
       "    </tr>\n",
       "    <tr>\n",
       "      <th>awesome</th>\n",
       "      <td>1.0000</td>\n",
       "      <td>0.0000</td>\n",
       "      <td>-0.0000</td>\n",
       "    </tr>\n",
       "    <tr>\n",
       "      <th>fun</th>\n",
       "      <td>1.0000</td>\n",
       "      <td>0.0000</td>\n",
       "      <td>-0.0000</td>\n",
       "    </tr>\n",
       "  </tbody>\n",
       "</table>\n",
       "</div>"
      ],
      "text/plain": [
       "<IPython.core.display.HTML object>"
      ]
     },
     "metadata": {},
     "output_type": "display_data"
    }
   ],
   "source": [
    "d = 3\n",
    "utils.pretty_print_matrix(SVD(PPMI(toy_C).toarray(), d=d)[0], \n",
    "                          rows=toy_labels, cols=range(d), dtype=float)"
   ]
  },
  {
   "cell_type": "markdown",
   "metadata": {
    "collapsed": true
   },
   "source": [
    "Now we can compute our word vectors on our whole corpus:"
   ]
  },
  {
   "cell_type": "code",
   "execution_count": 15,
   "metadata": {},
   "outputs": [
    {
     "name": "stdout",
     "output_type": "stream",
     "text": [
      "Counting pairs (i, i ± 1) ...\n",
      "Co-occurrence matrix: 48,174 words x 48,174 words\n",
      "  8.1e+05 nonzero elements\n",
      "Computed Co-occurrence matrix in 0:00:00\n",
      "Computed PPMI in 0:00:00\n",
      "Computed SVD in 0:00:01\n"
     ]
    }
   ],
   "source": [
    "K = 1\n",
    "d = 25\n",
    "t0 = time.time()\n",
    "C = cooccurrence_matrix(token_ids, vocab.size, K=K)\n",
    "print(\"Computed Co-occurrence matrix in {:s}\".format(utils.pretty_timedelta(since=t0))); t0 = time.time()\n",
    "C_ppmi = PPMI(C)\n",
    "print(\"Computed PPMI in {:s}\".format(utils.pretty_timedelta(since=t0))); t0 = time.time()\n",
    "Wv, _ = SVD(C_ppmi, d=d)\n",
    "print(\"Computed SVD in {:s}\".format(utils.pretty_timedelta(since=t0)))"
   ]
  },
  {
   "cell_type": "markdown",
   "metadata": {},
   "source": [
    "# Visualization\n",
    "\n",
    "For a quick visualization, we can plot the first two dimensions directly. Plotly makes this quite easy, and gives us free hovertext:"
   ]
  },
  {
   "cell_type": "code",
   "execution_count": 16,
   "metadata": {},
   "outputs": [
    {
     "data": {
      "text/html": [
       "\n",
       "\n",
       "\n",
       "\n",
       "\n",
       "\n",
       "  <div class=\"bk-root\" id=\"65eee74e-4c35-4572-8b23-b68059312e64\"></div>\n"
      ]
     },
     "metadata": {},
     "output_type": "display_data"
    },
    {
     "data": {
      "application/javascript": [
       "(function(root) {\n",
       "  function embed_document(root) {\n",
       "    \n",
       "  var docs_json = {\"af0e8262-255d-48aa-a2cc-6e4671401e70\":{\"roots\":{\"references\":[{\"attributes\":{\"source\":{\"id\":\"ddbaa9c7-9125-45b3-ba97-185fec553096\",\"type\":\"ColumnDataSource\"}},\"id\":\"27174c22-ded1-4235-9fda-514bcee80ff1\",\"type\":\"CDSView\"},{\"attributes\":{\"data_source\":{\"id\":\"ddbaa9c7-9125-45b3-ba97-185fec553096\",\"type\":\"ColumnDataSource\"},\"glyph\":{\"id\":\"f8af3100-85fc-4761-bcbb-2dcce20e4f5d\",\"type\":\"Circle\"},\"hover_glyph\":null,\"muted_glyph\":null,\"nonselection_glyph\":{\"id\":\"9cfa354e-86d4-458e-8bb2-aa050d15aedb\",\"type\":\"Circle\"},\"selection_glyph\":null,\"view\":{\"id\":\"27174c22-ded1-4235-9fda-514bcee80ff1\",\"type\":\"CDSView\"}},\"id\":\"b2351b6f-ab66-49d4-b030-a87e02f817fb\",\"type\":\"GlyphRenderer\"},{\"attributes\":{},\"id\":\"3fdc5970-88a3-4dfe-9529-fb358760104c\",\"type\":\"BasicTickFormatter\"},{\"attributes\":{\"plot\":{\"id\":\"b276d30e-ce6c-4c6c-bdcb-66e73843c8d8\",\"subtype\":\"Figure\",\"type\":\"Plot\"},\"ticker\":{\"id\":\"e523a594-a21d-4384-8c48-347542d30998\",\"type\":\"BasicTicker\"}},\"id\":\"32bccbb0-8c08-47f3-918e-67531ff8808c\",\"type\":\"Grid\"},{\"attributes\":{\"fill_color\":{\"value\":\"#1f77b4\"},\"line_color\":{\"value\":\"#1f77b4\"},\"x\":{\"field\":\"x\"},\"y\":{\"field\":\"y\"}},\"id\":\"f8af3100-85fc-4761-bcbb-2dcce20e4f5d\",\"type\":\"Circle\"},{\"attributes\":{\"active_drag\":\"auto\",\"active_inspect\":\"auto\",\"active_multi\":null,\"active_scroll\":{\"id\":\"ea691bda-fa16-483f-a39f-45b11c561f94\",\"type\":\"WheelZoomTool\"},\"active_tap\":\"auto\",\"tools\":[{\"id\":\"6bdc15cd-9113-490e-985b-d115d804b788\",\"type\":\"HoverTool\"},{\"id\":\"ea691bda-fa16-483f-a39f-45b11c561f94\",\"type\":\"WheelZoomTool\"},{\"id\":\"0472b3a0-693b-482e-844c-c3f1a66c480b\",\"type\":\"PanTool\"},{\"id\":\"e1922cf9-a633-4e7a-a1a1-adb5b54cb743\",\"type\":\"ResetTool\"}]},\"id\":\"7604c1a9-9707-444c-a2f9-e4c05b900816\",\"type\":\"Toolbar\"},{\"attributes\":{\"dimension\":1,\"plot\":{\"id\":\"b276d30e-ce6c-4c6c-bdcb-66e73843c8d8\",\"subtype\":\"Figure\",\"type\":\"Plot\"},\"ticker\":{\"id\":\"9ec87385-0914-4cd6-b241-76926c07e24a\",\"type\":\"BasicTicker\"}},\"id\":\"6875128d-3916-44ad-adcb-d9ae312b9404\",\"type\":\"Grid\"},{\"attributes\":{},\"id\":\"ea691bda-fa16-483f-a39f-45b11c561f94\",\"type\":\"WheelZoomTool\"},{\"attributes\":{\"callback\":null},\"id\":\"d5460e57-a669-4bcb-865e-4fb94d8255e0\",\"type\":\"DataRange1d\"},{\"attributes\":{},\"id\":\"e1922cf9-a633-4e7a-a1a1-adb5b54cb743\",\"type\":\"ResetTool\"},{\"attributes\":{\"plot\":null,\"text\":\"\"},\"id\":\"bde874e1-b860-430c-9d15-a4fc4af188d0\",\"type\":\"Title\"},{\"attributes\":{\"plot\":{\"id\":\"b276d30e-ce6c-4c6c-bdcb-66e73843c8d8\",\"subtype\":\"Figure\",\"type\":\"Plot\"},\"source\":{\"id\":\"ddbaa9c7-9125-45b3-ba97-185fec553096\",\"type\":\"ColumnDataSource\"},\"text\":{\"field\":\"desc\"},\"x\":{\"field\":\"x\"},\"x_offset\":{\"value\":2},\"y\":{\"field\":\"y\"},\"y_offset\":{\"value\":2}},\"id\":\"9e4953ca-d248-4cb4-82db-dbe15763d27a\",\"type\":\"LabelSet\"},{\"attributes\":{\"formatter\":{\"id\":\"30819846-1afc-443d-86a0-bbc240c3be34\",\"type\":\"BasicTickFormatter\"},\"plot\":{\"id\":\"b276d30e-ce6c-4c6c-bdcb-66e73843c8d8\",\"subtype\":\"Figure\",\"type\":\"Plot\"},\"ticker\":{\"id\":\"9ec87385-0914-4cd6-b241-76926c07e24a\",\"type\":\"BasicTicker\"}},\"id\":\"6c41be0f-15e9-41d7-ac4a-55a0039cd742\",\"type\":\"LinearAxis\"},{\"attributes\":{\"callback\":null,\"renderers\":\"auto\",\"tooltips\":[[\"word\",\"@desc\"]]},\"id\":\"6bdc15cd-9113-490e-985b-d115d804b788\",\"type\":\"HoverTool\"},{\"attributes\":{},\"id\":\"e523a594-a21d-4384-8c48-347542d30998\",\"type\":\"BasicTicker\"},{\"attributes\":{},\"id\":\"84800083-cebf-4566-b344-71ea6bc8c409\",\"type\":\"Selection\"},{\"attributes\":{\"formatter\":{\"id\":\"3fdc5970-88a3-4dfe-9529-fb358760104c\",\"type\":\"BasicTickFormatter\"},\"plot\":{\"id\":\"b276d30e-ce6c-4c6c-bdcb-66e73843c8d8\",\"subtype\":\"Figure\",\"type\":\"Plot\"},\"ticker\":{\"id\":\"e523a594-a21d-4384-8c48-347542d30998\",\"type\":\"BasicTicker\"}},\"id\":\"7fd88752-f16b-4cad-9712-dd8f8af7d27f\",\"type\":\"LinearAxis\"},{\"attributes\":{\"callback\":null},\"id\":\"3eb5fee3-c1d0-408b-8981-28af3f84d8b4\",\"type\":\"DataRange1d\"},{\"attributes\":{\"callback\":null,\"data\":{\"desc\":[\"<s>\",\"</s>\",\"<unk>\",\"the\",\",\",\".\",\"of\",\"and\",\"to\",\"a\",\"in\",\"that\",\"is\",\"was\",\"he\",\"for\",\"``\",\"''\",\"it\",\"with\",\"as\",\"his\",\"on\",\"be\",\";\",\"at\",\"by\",\"i\",\"this\",\"had\",\"?\",\"not\",\"are\",\"but\",\"from\",\"or\",\"have\",\"an\",\"they\",\"which\",\"--\",\"one\",\"you\",\"were\",\"her\",\"all\",\"she\",\"there\",\"would\",\"their\",\"we\",\"him\",\"been\",\")\",\"has\",\"(\",\"when\",\"who\",\"will\",\"more\",\"if\",\"no\",\"out\",\"DG\",\"so\",\"said\",\"DGDGDGDG\",\"DGDG\",\"what\",\"up\",\"its\",\"about\",\":\",\"into\",\"than\",\"them\",\"can\",\"only\",\"other\",\"new\",\"some\",\"could\",\"time\",\"!\",\"these\",\"two\",\"may\",\"then\",\"do\",\"first\",\"any\",\"my\",\"now\",\"such\",\"like\",\"our\",\"over\",\"man\",\"me\",\"even\",\"most\",\"made\",\"also\",\"after\",\"did\",\"many\",\"before\",\"must\",\"af\",\"through\",\"back\",\"years\",\"where\",\"much\",\"your\",\"way\",\"well\",\"down\",\"should\",\"because\",\"each\",\"just\",\"those\",\"people\",\"mr.\",\"too\",\"how\",\"little\",\"state\",\"good\",\"very\",\"make\",\"world\",\"still\",\"see\",\"own\",\"men\",\"work\",\"long\",\"here\",\"get\",\"both\",\"between\",\"life\",\"being\",\"under\",\"never\",\"day\",\"same\",\"another\",\"know\",\"while\",\"last\",\"us\",\"might\",\"great\",\"old\",\"year\",\"off\",\"come\",\"since\",\"against\",\"go\",\"DGDGDG\",\"came\",\"right\",\"used\",\"take\",\"three\",\"himself\",\"states\",\"few\",\"house\",\"use\",\"during\",\"without\",\"again\",\"place\",\"american\",\"around\",\"however\",\"home\",\"small\",\"found\",\"mrs.\",\"thought\",\"went\",\"say\",\"part\",\"once\",\"general\",\"high\",\"upon\",\"school\",\"every\",\"don't\",\"does\",\"got\",\"united\",\"left\",\"number\",\"course\",\"war\",\"until\",\"always\",\"away\",\"something\",\"fact\",\"water\",\"though\",\"public\",\"less\",\"put\",\"think\",\"almost\",\"hand\",\"enough\",\"took\",\"far\",\"head\",\"yet\",\"government\",\"system\",\"set\",\"better\",\"told\",\"night\",\"nothing\",\"end\",\"why\",\"didn't\",\"called\",\"eyes\",\"find\",\"going\",\"look\",\"asked\",\"later\",\"knew\",\"point\",\"next\",\"program\",\"city\",\"business\",\"group\",\"give\",\"toward\",\"young\",\"let\",\"days\",\"room\",\"president\",\"side\",\"social\",\"present\",\"given\",\"several\",\"order\",\"national\",\"possible\",\"rather\",\"second\",\"face\",\"per\",\"among\",\"form\",\"often\",\"important\",\"things\",\"looked\",\"early\",\"white\",\"john\",\"case\",\"large\",\"four\",\"need\",\"big\",\"become\",\"within\",\"felt\",\"children\",\"along\",\"saw\",\"best\",\"church\",\"ever\",\"least\",\"power\",\"development\",\"seemed\",\"thing\",\"light\",\"family\",\"interest\",\"want\",\"members\",\"mind\",\"area\",\"country\",\"others\",\"although\",\"turned\",\"done\",\"open\",\"'\",\"god\",\"service\",\"problem\",\"certain\",\"kind\",\"different\",\"thus\",\"began\",\"door\",\"help\",\"sense\",\"means\",\"whole\",\"matter\",\"perhaps\",\"itself\",\"york\",\"it's\",\"times\",\"law\",\"human\",\"line\",\"above\",\"name\",\"example\",\"action\",\"company\",\"hands\",\"local\",\"show\",\"whether\",\"five\",\"history\",\"gave\",\"today\",\"either\",\"act\",\"feet\",\"across\",\"taken\",\"past\",\"quite\",\"anything\",\"seen\",\"having\",\"death\",\"experience\",\"body\",\"week\",\"half\",\"really\",\"word\",\"field\",\"car\",\"words\",\"already\",\"themselves\",\"i'm\",\"information\",\"tell\",\"shall\",\"together\",\"college\",\"money\",\"period\",\"held\",\"keep\",\"sure\",\"probably\",\"free\",\"seems\",\"political\",\"real\",\"cannot\",\"behind\",\"question\",\"air\",\"office\",\"making\",\"brought\",\"miss\",\"whose\",\"special\",\"major\",\"heard\",\"problems\",\"federal\",\"became\",\"study\",\"ago\",\"moment\",\"available\",\"known\",\"result\",\"street\",\"economic\",\"boy\",\"position\",\"reason\",\"change\",\"south\",\"board\",\"individual\",\"job\",\"am\",\"society\",\"areas\",\"west\",\"close\",\"turn\",\"community\",\"true\",\"love\",\"court\",\"force\",\"full\",\"cost\",\"seem\",\"wife\",\"future\",\"age\",\"wanted\",\"voice\",\"department\",\"center\",\"woman\",\"control\",\"common\",\"policy\",\"necessary\",\"following\",\"front\",\"sometimes\",\"six\",\"girl\",\"clear\",\"further\",\"land\",\"provide\",\"feel\",\"party\",\"able\",\"mother\",\"music\",\"education\",\"university\",\"child\",\"effect\",\"students\",\"level\",\"run\",\"stood\",\"military\",\"town\",\"short\",\"morning\",\"total\",\"outside\",\"rate\",\"figure\",\"art\",\"century\",\"class\",\"washington\",\"north\",\"usually\",\"plan\",\"leave\",\"therefore\",\"evidence\",\"top\",\"million\",\"sound\",\"black\",\"strong\",\"hard\",\"tax\",\"various\",\"says\",\"believe\",\"type\",\"value\",\"play\",\"surface\",\"soon\",\"mean\",\"near\",\"lines\",\"table\",\"peace\",\"modern\",\"road\",\"red\",\"book\",\"personal\",\"process\",\"situation\",\"minutes\",\"increase\",\"schools\",\"idea\",\"english\",\"alone\",\"women\",\"gone\",\"nor\",\"living\",\"america\",\"started\",\"longer\",\"dr.\",\"cut\",\"finally\",\"secretary\",\"nature\",\"private\",\"third\",\"months\",\"section\",\"greater\",\"call\",\"fire\",\"expected\",\"needed\",\"that's\",\"kept\",\"ground\",\"view\",\"values\",\"everything\",\"pressure\",\"dark\",\"basis\",\"space\",\"east\",\"father\",\"required\",\"union\",\"spirit\",\"complete\",\"except\",\"wrote\",\"i'll\",\"moved\",\"support\",\"return\",\"conditions\",\"recent\",\"attention\",\"late\",\"particular\",\"live\",\"hope\",\"costs\",\"else\",\"brown\",\"taking\",\"couldn't\",\"forces\",\"nations\",\"beyond\",\"stage\",\"read\",\"report\",\"coming\",\"hours\",\"person\",\"inside\",\"dead\",\"material\",\"instead\",\"lost\",\"heart\",\"looking\",\"low\",\"miles\",\"data\",\"added\",\"pay\",\"amount\",\"followed\",\"feeling\",\"single\",\"makes\",\"research\",\"including\",\"basic\",\"hundred\",\"move\",\"industry\",\"cold\",\"simply\",\"developed\",\"tried\",\"hold\",\"can't\",\"reached\",\"committee\",\"island\",\"defense\",\"equipment\",\"actually\",\"shown\",\"son\",\"central\",\"religious\",\"river\",\"getting\",\"st.\",\"beginning\",\"sort\",\"ten\",\"received\",\"&\",\"doing\",\"terms\",\"trying\",\"rest\",\"medical\",\"u.s.\",\"care\",\"especially\",\"friends\",\"picture\",\"indeed\",\"administration\",\"fine\",\"subject\",\"difficult\",\"building\",\"higher\",\"wall\",\"simple\",\"meeting\",\"walked\",\"floor\",\"foreign\",\"bring\",\"similar\",\"passed\",\"range\",\"paper\",\"property\",\"natural\",\"final\",\"training\",\"county\",\"police\",\"cent\",\"international\",\"growth\",\"market\",\"wasn't\",\"talk\",\"start\",\"england\",\"written\",\"hear\",\"suddenly\",\"story\",\"issue\",\"congress\",\"needs\",\"answer\",\"hall\",\"likely\",\"working\",\"countries\",\"considered\",\"you're\",\"earth\",\"sat\",\"purpose\",\"meet\",\"labor\",\"results\",\"entire\",\"happened\",\"william\",\"cases\",\"stand\",\"difference\",\"production\",\"hair\",\"involved\",\"fall\",\"stock\",\"food\",\"earlier\",\"increased\",\"whom\",\"particularly\",\"paid\",\"sent\",\"effort\",\"knowledge\",\"hour\",\"letter\",\"club\",\"using\",\"below\",\"thinking\",\"yes\",\"christian\",\"blue\",\"ready\",\"bill\",\"deal\",\"points\",\"trade\",\"certainly\",\"ideas\",\"industrial\",\"square\",\"boys\",\"methods\",\"addition\",\"method\",\"bad\",\"due\",\"girls\",\"moral\",\"decided\",\"reading\",\"statement\",\"weeks\",\"neither\",\"nearly\",\"directly\",\"showed\",\"throughout\",\"according\",\"questions\",\"color\",\"kennedy\",\"anyone\",\"try\",\"services\",\"DG.DG\",\"programs\",\"nation\",\"lay\",\"french\",\"size\",\"remember\",\"physical\",\"record\",\"member\",\"comes\",\"understand\",\"southern\",\"western\",\"strength\",\"population\",\"normal\",\"merely\",\"district\",\"volume\",\"concerned\",\"appeared\",\"temperature\",\"aid\",\"trouble\",\"trial\",\"summer\",\"direction\",\"ran\",\"sales\",\"list\",\"continued\",\"friend\",\"evening\",\"maybe\",\"literature\",\"generally\",\"association\",\"provided\",\"led\",\"army\",\"met\",\"influence\",\"opened\",\"former\",\"science\",\"student\",\"step\",\"changes\",\"chance\",\"husband\",\"hot\",\"series\",\"average\",\"works\",\"month\",\"cause\",\"effective\",\"george\",\"planning\",\"systems\",\"wouldn't\",\"direct\",\"soviet\",\"stopped\",\"wrong\",\"lead\",\"myself\",\"piece\",\"theory\",\"ask\",\"worked\",\"freedom\",\"organization\",\"clearly\",\"movement\",\"ways\",\"press\",\"somewhat\",\"spring\",\"efforts\",\"consider\",\"meaning\",\"bed\",\"fear\",\"lot\",\"treatment\",\"beautiful\",\"note\",\"forms\",\"placed\",\"hotel\",\"truth\",\"apparently\",\"degree\",\"groups\",\"he's\",\"plant\",\"carried\",\"wide\",\"i've\",\"respect\",\"man's\",\"herself\",\"numbers\",\"manner\",\"$DGDGDG\",\"reaction\",\"easy\",\"farm\",\"immediately\",\"running\",\"approach\",\"game\",\"recently\",\"larger\",\"lower\",\"charge\",\"couple\",\"de\",\"daily\",\"eye\",\"performance\",\"feed\",\"oh\",\"march\",\"persons\",\"understanding\",\"arms\",\"opportunity\",\"c\",\"blood\",\"additional\",\"j.\",\"technical\",\"fiscal\",\"radio\",\"described\",\"stop\",\"progress\",\"steps\",\"test\",\"chief\",\"reported\",\"served\",\"based\",\"main\",\"determined\",\"image\",\"decision\",\"window\",\"religion\",\"aj\",\"gun\",\"responsibility\",\"middle\",\"europe\",\"british\",\"character\",\"learned\",\"horse\",\"writing\",\"appear\",\"s.\",\"account\",\"ones\",\"serious\",\"activity\",\"types\",\"green\",\"length\",\"lived\",\"audience\",\"letters\",\"returned\",\"obtained\",\"nuclear\",\"specific\",\"corner\",\"forward\",\"activities\",\"slowly\",\"doubt\",\"justice\",\"moving\",\"latter\",\"gives\",\"straight\",\"hit\",\"plane\",\"quality\",\"design\",\"obviously\",\"operation\",\"plans\",\"shot\",\"seven\",\"a.\",\"choice\",\"poor\",\"staff\",\"function\",\"figures\",\"parts\",\"stay\",\"saying\",\"include\",\"born\",\"pattern\",\"cars\",\"whatever\",\"sun\",\"faith\",\"DG:DGDG\",\"pool\",\"hospital\",\"corps\",\"wish\",\"lack\",\"completely\",\"heavy\",\"waiting\",\"speak\",\"ball\",\"standard\",\"extent\",\"visit\",\"democratic\",\"firm\",\"income\",\"ahead\",\"deep\",\"there's\",\"language\",\"principle\",\"none\",\"price\",\"designed\",\"indicated\",\"analysis\",\"distance\",\"expect\",\"established\",\"products\",\"effects\",\"growing\",\"importance\",\"continue\",\"serve\",\"determine\",\"cities\",\"elements\",\"negro\",\"leaders\",\"division\",\"pretty\"],\"x\":{\"__ndarray__\":\"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\",\"dtype\":\"float64\",\"shape\":[1000]},\"y\":{\"__ndarray__\":\"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\",\"dtype\":\"float64\",\"shape\":[1000]}},\"selected\":{\"id\":\"84800083-cebf-4566-b344-71ea6bc8c409\",\"type\":\"Selection\"},\"selection_policy\":{\"id\":\"2953497c-4674-4ce6-b303-ff9ae11fbfd0\",\"type\":\"UnionRenderers\"}},\"id\":\"ddbaa9c7-9125-45b3-ba97-185fec553096\",\"type\":\"ColumnDataSource\"},{\"attributes\":{},\"id\":\"e8c5739c-b8fb-4106-9e67-6e920d0459d1\",\"type\":\"LinearScale\"},{\"attributes\":{},\"id\":\"9ec87385-0914-4cd6-b241-76926c07e24a\",\"type\":\"BasicTicker\"},{\"attributes\":{\"below\":[{\"id\":\"7fd88752-f16b-4cad-9712-dd8f8af7d27f\",\"type\":\"LinearAxis\"}],\"left\":[{\"id\":\"6c41be0f-15e9-41d7-ac4a-55a0039cd742\",\"type\":\"LinearAxis\"}],\"renderers\":[{\"id\":\"7fd88752-f16b-4cad-9712-dd8f8af7d27f\",\"type\":\"LinearAxis\"},{\"id\":\"32bccbb0-8c08-47f3-918e-67531ff8808c\",\"type\":\"Grid\"},{\"id\":\"6c41be0f-15e9-41d7-ac4a-55a0039cd742\",\"type\":\"LinearAxis\"},{\"id\":\"6875128d-3916-44ad-adcb-d9ae312b9404\",\"type\":\"Grid\"},{\"id\":\"b2351b6f-ab66-49d4-b030-a87e02f817fb\",\"type\":\"GlyphRenderer\"},{\"id\":\"9e4953ca-d248-4cb4-82db-dbe15763d27a\",\"type\":\"LabelSet\"}],\"title\":{\"id\":\"bde874e1-b860-430c-9d15-a4fc4af188d0\",\"type\":\"Title\"},\"toolbar\":{\"id\":\"7604c1a9-9707-444c-a2f9-e4c05b900816\",\"type\":\"Toolbar\"},\"x_range\":{\"id\":\"d5460e57-a669-4bcb-865e-4fb94d8255e0\",\"type\":\"DataRange1d\"},\"x_scale\":{\"id\":\"e8c5739c-b8fb-4106-9e67-6e920d0459d1\",\"type\":\"LinearScale\"},\"y_range\":{\"id\":\"3eb5fee3-c1d0-408b-8981-28af3f84d8b4\",\"type\":\"DataRange1d\"},\"y_scale\":{\"id\":\"5437b15b-447d-4e43-a75b-893074abe62b\",\"type\":\"LinearScale\"}},\"id\":\"b276d30e-ce6c-4c6c-bdcb-66e73843c8d8\",\"subtype\":\"Figure\",\"type\":\"Plot\"},{\"attributes\":{},\"id\":\"30819846-1afc-443d-86a0-bbc240c3be34\",\"type\":\"BasicTickFormatter\"},{\"attributes\":{\"fill_alpha\":{\"value\":0.1},\"fill_color\":{\"value\":\"#1f77b4\"},\"line_alpha\":{\"value\":0.1},\"line_color\":{\"value\":\"#1f77b4\"},\"x\":{\"field\":\"x\"},\"y\":{\"field\":\"y\"}},\"id\":\"9cfa354e-86d4-458e-8bb2-aa050d15aedb\",\"type\":\"Circle\"},{\"attributes\":{},\"id\":\"2953497c-4674-4ce6-b303-ff9ae11fbfd0\",\"type\":\"UnionRenderers\"},{\"attributes\":{},\"id\":\"5437b15b-447d-4e43-a75b-893074abe62b\",\"type\":\"LinearScale\"},{\"attributes\":{},\"id\":\"0472b3a0-693b-482e-844c-c3f1a66c480b\",\"type\":\"PanTool\"}],\"root_ids\":[\"b276d30e-ce6c-4c6c-bdcb-66e73843c8d8\"]},\"title\":\"Bokeh Application\",\"version\":\"0.13.0\"}};\n",
       "  var render_items = [{\"docid\":\"af0e8262-255d-48aa-a2cc-6e4671401e70\",\"roots\":{\"b276d30e-ce6c-4c6c-bdcb-66e73843c8d8\":\"65eee74e-4c35-4572-8b23-b68059312e64\"}}];\n",
       "  root.Bokeh.embed.embed_items_notebook(docs_json, render_items);\n",
       "\n",
       "  }\n",
       "  if (root.Bokeh !== undefined) {\n",
       "    embed_document(root);\n",
       "  } else {\n",
       "    var attempts = 0;\n",
       "    var timer = setInterval(function(root) {\n",
       "      if (root.Bokeh !== undefined) {\n",
       "        embed_document(root);\n",
       "        clearInterval(timer);\n",
       "      }\n",
       "      attempts++;\n",
       "      if (attempts > 100) {\n",
       "        console.log(\"Bokeh: ERROR: Unable to run BokehJS code because BokehJS library is missing\")\n",
       "        clearInterval(timer);\n",
       "      }\n",
       "    }, 10, root)\n",
       "  }\n",
       "})(window);"
      ],
      "application/vnd.bokehjs_exec.v0+json": ""
     },
     "metadata": {
      "application/vnd.bokehjs_exec.v0+json": {
       "id": "b276d30e-ce6c-4c6c-bdcb-66e73843c8d8"
      }
     },
     "output_type": "display_data"
    }
   ],
   "source": [
    "n = 1000\n",
    "\n",
    "hover = HoverTool(tooltips=[(\"word\", \"@desc\")])\n",
    "wztool = WheelZoomTool()\n",
    "fig = bp.figure(plot_width=600, plot_height=600, tools=[hover, wztool, 'pan', 'reset'])\n",
    "fig.toolbar.active_scroll = wztool\n",
    "df = bp.ColumnDataSource(dict(x=Wv[:n,0], y=Wv[:n,1], desc=vocab.ids_to_words(range(n))))\n",
    "fig.circle('x', 'y', source=df)\n",
    "fig.add_layout(LabelSet(x='x', y='y', text='desc', source=df,\n",
    "                        x_offset=2, y_offset=2))\n",
    "bp.show(fig)"
   ]
  },
  {
   "cell_type": "markdown",
   "metadata": {},
   "source": [
    "Unfortunately, this plot is quite limited. Pick a point and look at the words nearby - do they look related, either syntactically or semantically?\n",
    "\n",
    "Plotting two dimensions directly like this is equivalent to just doing the truncated SVD with $d=2$, which throws away quite a lot of information.\n",
    "\n",
    "## t-SNE\n",
    "\n",
    "To get a better sense of our embedding structure, we can use [t-SNE](https://en.wikipedia.org/wiki/T-distributed_stochastic_neighbor_embedding) instead. This is a *non*-linear way of embedding high-dimensional data (like our embedding vectors) into a low dimensional space. It works by preserving local distances (like nearby neighbors), at the expense of some global distortion.\n",
    "\n",
    "The result is no longer a projection, but because it preserves locality  t-SNE is a very useful took to look at **clusters**.\n",
    "\n",
    "To get our t-SNE visualization, we'll break out the big guns: the [TensorFlow Embedding Projector](https://www.tensorflow.org/how_tos/embedding_viz/). There's a bit of boilerplate needed to provide TensorFlow with the right metadata, so we've wrapped it in a helper library [`tf_embed_viz.py`](w266_common/tf_embed_viz.py). For now, just run the cell below.\n",
    "\n",
    "*Note: there's also a demo at http://projector.tensorflow.org/, pre-loaded with word2vec vectors.*"
   ]
  },
  {
   "cell_type": "code",
   "execution_count": 17,
   "metadata": {},
   "outputs": [
    {
     "name": "stdout",
     "output_type": "stream",
     "text": [
      "Vocabulary (48,174 words) written to '/tmp/week_embeddings_viz/metadata.tsv'\n",
      "WARNING:tensorflow:From /home/vijjus/w266/materials/embeddings/w266_common/tf_embed_viz.py:63: The name tf.Session is deprecated. Please use tf.compat.v1.Session instead.\n",
      "\n",
      "WARNING:tensorflow:From /home/vijjus/w266/materials/embeddings/w266_common/tf_embed_viz.py:67: The name tf.global_variables_initializer is deprecated. Please use tf.compat.v1.global_variables_initializer instead.\n",
      "\n",
      "WARNING:tensorflow:From /home/vijjus/w266/materials/embeddings/w266_common/tf_embed_viz.py:69: The name tf.train.Saver is deprecated. Please use tf.compat.v1.train.Saver instead.\n",
      "\n",
      "WARNING:tensorflow:From /home/vijjus/w266/materials/embeddings/w266_common/tf_embed_viz.py:74: The name tf.summary.FileWriter is deprecated. Please use tf.compat.v1.summary.FileWriter instead.\n",
      "\n",
      "Saved 5000 x 25 embedding matrix 'WordVectors' to LOGDIR='/tmp/week_embeddings_viz'\n",
      "To view, run:\n",
      "\n",
      "  tensorboard --logdir=\"/tmp/week_embeddings_viz\"\n",
      "\n",
      "and navigate to the \"Embeddings\" tab in the web interface.\n"
     ]
    }
   ],
   "source": [
    "write_top_words = 5000\n",
    "\n",
    "LOGDIR=\"/tmp/week_embeddings_viz\"\n",
    "if os.path.isdir(LOGDIR): shutil.rmtree(LOGDIR)  # remove old directory\n",
    "ev = tf_embed_viz.TFEmbeddingVizWrapper(LOGDIR=LOGDIR)\n",
    "ev.write_vocab_file(words=vocab.ids_to_words(range(Wv.shape[0])))\n",
    "ev.write_embeddings(Wv[:write_top_words])"
   ]
  },
  {
   "cell_type": "markdown",
   "metadata": {},
   "source": [
    "To view them in your browser, run TensorBoard with:\n",
    "```\n",
    "cd ~/w266/materials/embeddings\n",
    "tensorboard --logdir=\"tf_embedding_viz\" --port 6006\n",
    "```\n",
    "Then navigate to http://localhost:6006/, and go to the \"Embeddings\" tab. \n",
    "\n",
    "You can select either PCA, which will give a plot similar to the above, or to run t-SNE. The t-SNE mode computes t-SNE _in real time_ in your browser, so it can be slow on older machines. \n",
    "\n",
    "t-SNE is an iterative algorithm based on gradient descent, and the visualization will show the points move with each iteration. Watch carefully, and you should see the word cloud gradually develop a cluster structure!"
   ]
  },
  {
   "cell_type": "markdown",
   "metadata": {},
   "source": [
    "## (optional) Running t-SNE in-notebook\n",
    "\n",
    "We recommend using the TensorFlow projector, but you can also run t-SNE directly in the notebook, then plot the points with Plotly or another plotting library.\n",
    "\n",
    "Scikit-learn includes a t-SNE implementation in [`sklearn.manifold.TSNE`](http://scikit-learn.org/stable/modules/generated/sklearn.manifold.TSNE.html), but the implementation is slow and tends to crash by using too much (>4 GB) memory.\n",
    "\n",
    "Instead, we'll use the excellent [`bhtsne`](https://github.com/dominiek/python-bhtsne) package. Install with:\n",
    "```\n",
    "sudo apt-get install gcc g++\n",
    "pip install bhtsne\n",
    "```\n",
    "\n",
    "The cell below will take around 2-3 minutes to run on a 2 CPU Cloud Compute instance."
   ]
  },
  {
   "cell_type": "code",
   "execution_count": 18,
   "metadata": {},
   "outputs": [
    {
     "name": "stdout",
     "output_type": "stream",
     "text": [
      "Running Barnes-Hut t-SNE on word vectors; matrix shape = (48174, 25)\n",
      "Transformed in 0:00:53\n"
     ]
    }
   ],
   "source": [
    "import bhtsne\n",
    "\n",
    "n = 5000  # t-SNE is very slow, so restrict vocab size\n",
    "\n",
    "t0 = time.time()\n",
    "print(\"Running Barnes-Hut t-SNE on word vectors; matrix shape = {:s}\".format(str(Wv.shape)))\n",
    "Wv2 = bhtsne.tsne(Wv[:n])\n",
    "print(\"Transformed in {:s}\".format(utils.pretty_timedelta(since=t0)))"
   ]
  },
  {
   "cell_type": "code",
   "execution_count": 19,
   "metadata": {},
   "outputs": [
    {
     "data": {
      "text/html": [
       "\n",
       "\n",
       "\n",
       "\n",
       "\n",
       "\n",
       "  <div class=\"bk-root\" id=\"f141a5e1-5038-4c3a-bf0c-1073edb2bee2\"></div>\n"
      ]
     },
     "metadata": {},
     "output_type": "display_data"
    },
    {
     "data": {
      "application/javascript": [
       "(function(root) {\n",
       "  function embed_document(root) {\n",
       "    \n",
       "  var docs_json = {\"f8d9c8e0-fdea-4e55-a9bd-18f5741b391e\":{\"roots\":{\"references\":[{\"attributes\":{\"formatter\":{\"id\":\"600405ee-96f5-434c-9919-abc83b47ad21\",\"type\":\"BasicTickFormatter\"},\"plot\":{\"id\":\"b3bf863d-f460-4490-b711-d11318e6a91e\",\"subtype\":\"Figure\",\"type\":\"Plot\"},\"ticker\":{\"id\":\"e9516a6d-c2dd-4672-9044-61cbe0ef42dc\",\"type\":\"BasicTicker\"}},\"id\":\"68c9dfd4-1fb9-49dc-a222-5c337b95e020\",\"type\":\"LinearAxis\"},{\"attributes\":{},\"id\":\"2edb1e94-468c-4d7a-b745-cba1b964a8bc\",\"type\":\"Selection\"},{\"attributes\":{\"plot\":null,\"text\":\"\"},\"id\":\"eb6bf26e-74b9-42c9-8cd4-37e45cfa212f\",\"type\":\"Title\"},{\"attributes\":{\"source\":{\"id\":\"ce976b52-00f7-418b-9a57-32aef1faf2c1\",\"type\":\"ColumnDataSource\"}},\"id\":\"b5276772-9faa-4c32-a057-37f5338b4e2e\",\"type\":\"CDSView\"},{\"attributes\":{},\"id\":\"0d1f53d7-d28c-4f2f-8d39-f56e939e49c5\",\"type\":\"UnionRenderers\"},{\"attributes\":{\"fill_alpha\":{\"value\":0.1},\"fill_color\":{\"value\":\"#1f77b4\"},\"line_alpha\":{\"value\":0.1},\"line_color\":{\"value\":\"#1f77b4\"},\"x\":{\"field\":\"x\"},\"y\":{\"field\":\"y\"}},\"id\":\"2e14f069-a557-42d7-9352-07287a2dd044\",\"type\":\"Circle\"},{\"attributes\":{\"fill_color\":{\"value\":\"#1f77b4\"},\"line_color\":{\"value\":\"#1f77b4\"},\"x\":{\"field\":\"x\"},\"y\":{\"field\":\"y\"}},\"id\":\"64b4dd4d-718a-4751-9eac-de2105f2ecc1\",\"type\":\"Circle\"},{\"attributes\":{\"callback\":null},\"id\":\"14ef61db-a56a-4a88-a436-c93dfd933a3c\",\"type\":\"DataRange1d\"},{\"attributes\":{\"callback\":null,\"data\":{\"desc\":[\"<s>\",\"</s>\",\"<unk>\",\"the\",\",\",\".\",\"of\",\"and\",\"to\",\"a\",\"in\",\"that\",\"is\",\"was\",\"he\",\"for\",\"``\",\"''\",\"it\",\"with\",\"as\",\"his\",\"on\",\"be\",\";\",\"at\",\"by\",\"i\",\"this\",\"had\",\"?\",\"not\",\"are\",\"but\",\"from\",\"or\",\"have\",\"an\",\"they\",\"which\",\"--\",\"one\",\"you\",\"were\",\"her\",\"all\",\"she\",\"there\",\"would\",\"their\",\"we\",\"him\",\"been\",\")\",\"has\",\"(\",\"when\",\"who\",\"will\",\"more\",\"if\",\"no\",\"out\",\"DG\",\"so\",\"said\",\"DGDGDGDG\",\"DGDG\",\"what\",\"up\",\"its\",\"about\",\":\",\"into\",\"than\",\"them\",\"can\",\"only\",\"other\",\"new\",\"some\",\"could\",\"time\",\"!\",\"these\",\"two\",\"may\",\"then\",\"do\",\"first\",\"any\",\"my\",\"now\",\"such\",\"like\",\"our\",\"over\",\"man\",\"me\",\"even\",\"most\",\"made\",\"also\",\"after\",\"did\",\"many\",\"before\",\"must\",\"af\",\"through\",\"back\",\"years\",\"where\",\"much\",\"your\",\"way\",\"well\",\"down\",\"should\",\"because\",\"each\",\"just\",\"those\",\"people\",\"mr.\",\"too\",\"how\",\"little\",\"state\",\"good\",\"very\",\"make\",\"world\",\"still\",\"see\",\"own\",\"men\",\"work\",\"long\",\"here\",\"get\",\"both\",\"between\",\"life\",\"being\",\"under\",\"never\",\"day\",\"same\",\"another\",\"know\",\"while\",\"last\",\"us\",\"might\",\"great\",\"old\",\"year\",\"off\",\"come\",\"since\",\"against\",\"go\",\"DGDGDG\",\"came\",\"right\",\"used\",\"take\",\"three\",\"himself\",\"states\",\"few\",\"house\",\"use\",\"during\",\"without\",\"again\",\"place\",\"american\",\"around\",\"however\",\"home\",\"small\",\"found\",\"mrs.\",\"thought\",\"went\",\"say\",\"part\",\"once\",\"general\",\"high\",\"upon\",\"school\",\"every\",\"don't\",\"does\",\"got\",\"united\",\"left\",\"number\",\"course\",\"war\",\"until\",\"always\",\"away\",\"something\",\"fact\",\"water\",\"though\",\"public\",\"less\",\"put\",\"think\",\"almost\",\"hand\",\"enough\",\"took\",\"far\",\"head\",\"yet\",\"government\",\"system\",\"set\",\"better\",\"told\",\"night\",\"nothing\",\"end\",\"why\",\"didn't\",\"called\",\"eyes\",\"find\",\"going\",\"look\",\"asked\",\"later\",\"knew\",\"point\",\"next\",\"program\",\"city\",\"business\",\"group\",\"give\",\"toward\",\"young\",\"let\",\"days\",\"room\",\"president\",\"side\",\"social\",\"present\",\"given\",\"several\",\"order\",\"national\",\"possible\",\"rather\",\"second\",\"face\",\"per\",\"among\",\"form\",\"often\",\"important\",\"things\",\"looked\",\"early\",\"white\",\"john\",\"case\",\"large\",\"four\",\"need\",\"big\",\"become\",\"within\",\"felt\",\"children\",\"along\",\"saw\",\"best\",\"church\",\"ever\",\"least\",\"power\",\"development\",\"seemed\",\"thing\",\"light\",\"family\",\"interest\",\"want\",\"members\",\"mind\",\"area\",\"country\",\"others\",\"although\",\"turned\",\"done\",\"open\",\"'\",\"god\",\"service\",\"problem\",\"certain\",\"kind\",\"different\",\"thus\",\"began\",\"door\",\"help\",\"sense\",\"means\",\"whole\",\"matter\",\"perhaps\",\"itself\",\"york\",\"it's\",\"times\",\"law\",\"human\",\"line\",\"above\",\"name\",\"example\",\"action\",\"company\",\"hands\",\"local\",\"show\",\"whether\",\"five\",\"history\",\"gave\",\"today\",\"either\",\"act\",\"feet\",\"across\",\"taken\",\"past\",\"quite\",\"anything\",\"seen\",\"having\",\"death\",\"experience\",\"body\",\"week\",\"half\",\"really\",\"word\",\"field\",\"car\",\"words\",\"already\",\"themselves\",\"i'm\",\"information\",\"tell\",\"shall\",\"together\",\"college\",\"money\",\"period\",\"held\",\"keep\",\"sure\",\"probably\",\"free\",\"seems\",\"political\",\"real\",\"cannot\",\"behind\",\"question\",\"air\",\"office\",\"making\",\"brought\",\"miss\",\"whose\",\"special\",\"major\",\"heard\",\"problems\",\"federal\",\"became\",\"study\",\"ago\",\"moment\",\"available\",\"known\",\"result\",\"street\",\"economic\",\"boy\",\"position\",\"reason\",\"change\",\"south\",\"board\",\"individual\",\"job\",\"am\",\"society\",\"areas\",\"west\",\"close\",\"turn\",\"community\",\"true\",\"love\",\"court\",\"force\",\"full\",\"cost\",\"seem\",\"wife\",\"future\",\"age\",\"wanted\",\"voice\",\"department\",\"center\",\"woman\",\"control\",\"common\",\"policy\",\"necessary\",\"following\",\"front\",\"sometimes\",\"six\",\"girl\",\"clear\",\"further\",\"land\",\"provide\",\"feel\",\"party\",\"able\",\"mother\",\"music\",\"education\",\"university\",\"child\",\"effect\",\"students\",\"level\",\"run\",\"stood\",\"military\",\"town\",\"short\",\"morning\",\"total\",\"outside\",\"rate\",\"figure\",\"art\",\"century\",\"class\",\"washington\",\"north\",\"usually\",\"plan\",\"leave\",\"therefore\",\"evidence\",\"top\",\"million\",\"sound\",\"black\",\"strong\",\"hard\",\"tax\",\"various\",\"says\",\"believe\",\"type\",\"value\",\"play\",\"surface\",\"soon\",\"mean\",\"near\",\"lines\",\"table\",\"peace\",\"modern\",\"road\",\"red\",\"book\",\"personal\",\"process\",\"situation\",\"minutes\",\"increase\",\"schools\",\"idea\",\"english\",\"alone\",\"women\",\"gone\",\"nor\",\"living\",\"america\",\"started\",\"longer\",\"dr.\",\"cut\",\"finally\",\"secretary\",\"nature\",\"private\",\"third\",\"months\",\"section\",\"greater\",\"call\",\"fire\",\"expected\",\"needed\",\"that's\",\"kept\",\"ground\",\"view\",\"values\",\"everything\",\"pressure\",\"dark\",\"basis\",\"space\",\"east\",\"father\",\"required\",\"union\",\"spirit\",\"complete\",\"except\",\"wrote\",\"i'll\",\"moved\",\"support\",\"return\",\"conditions\",\"recent\",\"attention\",\"late\",\"particular\",\"live\",\"hope\",\"costs\",\"else\",\"brown\",\"taking\",\"couldn't\",\"forces\",\"nations\",\"beyond\",\"stage\",\"read\",\"report\",\"coming\",\"hours\",\"person\",\"inside\",\"dead\",\"material\",\"instead\",\"lost\",\"heart\",\"looking\",\"low\",\"miles\",\"data\",\"added\",\"pay\",\"amount\",\"followed\",\"feeling\",\"single\",\"makes\",\"research\",\"including\",\"basic\",\"hundred\",\"move\",\"industry\",\"cold\",\"simply\",\"developed\",\"tried\",\"hold\",\"can't\",\"reached\",\"committee\",\"island\",\"defense\",\"equipment\",\"actually\",\"shown\",\"son\",\"central\",\"religious\",\"river\",\"getting\",\"st.\",\"beginning\",\"sort\",\"ten\",\"received\",\"&\",\"doing\",\"terms\",\"trying\",\"rest\",\"medical\",\"u.s.\",\"care\",\"especially\",\"friends\",\"picture\",\"indeed\",\"administration\",\"fine\",\"subject\",\"difficult\",\"building\",\"higher\",\"wall\",\"simple\",\"meeting\",\"walked\",\"floor\",\"foreign\",\"bring\",\"similar\",\"passed\",\"range\",\"paper\",\"property\",\"natural\",\"final\",\"training\",\"county\",\"police\",\"cent\",\"international\",\"growth\",\"market\",\"wasn't\",\"talk\",\"start\",\"england\",\"written\",\"hear\",\"suddenly\",\"story\",\"issue\",\"congress\",\"needs\",\"answer\",\"hall\",\"likely\",\"working\",\"countries\",\"considered\",\"you're\",\"earth\",\"sat\",\"purpose\",\"meet\",\"labor\",\"results\",\"entire\",\"happened\",\"william\",\"cases\",\"stand\",\"difference\",\"production\",\"hair\",\"involved\",\"fall\",\"stock\",\"food\",\"earlier\",\"increased\",\"whom\",\"particularly\",\"paid\",\"sent\",\"effort\",\"knowledge\",\"hour\",\"letter\",\"club\",\"using\",\"below\",\"thinking\",\"yes\",\"christian\",\"blue\",\"ready\",\"bill\",\"deal\",\"points\",\"trade\",\"certainly\",\"ideas\",\"industrial\",\"square\",\"boys\",\"methods\",\"addition\",\"method\",\"bad\",\"due\",\"girls\",\"moral\",\"decided\",\"reading\",\"statement\",\"weeks\",\"neither\",\"nearly\",\"directly\",\"showed\",\"throughout\",\"according\",\"questions\",\"color\",\"kennedy\",\"anyone\",\"try\",\"services\",\"DG.DG\",\"programs\",\"nation\",\"lay\",\"french\",\"size\",\"remember\",\"physical\",\"record\",\"member\",\"comes\",\"understand\",\"southern\",\"western\",\"strength\",\"population\",\"normal\",\"merely\",\"district\",\"volume\",\"concerned\",\"appeared\",\"temperature\",\"aid\",\"trouble\",\"trial\",\"summer\",\"direction\",\"ran\",\"sales\",\"list\",\"continued\",\"friend\",\"evening\",\"maybe\",\"literature\",\"generally\",\"association\",\"provided\",\"led\",\"army\",\"met\",\"influence\",\"opened\",\"former\",\"science\",\"student\",\"step\",\"changes\",\"chance\",\"husband\",\"hot\",\"series\",\"average\",\"works\",\"month\",\"cause\",\"effective\",\"george\",\"planning\",\"systems\",\"wouldn't\",\"direct\",\"soviet\",\"stopped\",\"wrong\",\"lead\",\"myself\",\"piece\",\"theory\",\"ask\",\"worked\",\"freedom\",\"organization\",\"clearly\",\"movement\",\"ways\",\"press\",\"somewhat\",\"spring\",\"efforts\",\"consider\",\"meaning\",\"bed\",\"fear\",\"lot\",\"treatment\",\"beautiful\",\"note\",\"forms\",\"placed\",\"hotel\",\"truth\",\"apparently\",\"degree\",\"groups\",\"he's\",\"plant\",\"carried\",\"wide\",\"i've\",\"respect\",\"man's\",\"herself\",\"numbers\",\"manner\",\"$DGDGDG\",\"reaction\",\"easy\",\"farm\",\"immediately\",\"running\",\"approach\",\"game\",\"recently\",\"larger\",\"lower\",\"charge\",\"couple\",\"de\",\"daily\",\"eye\",\"performance\",\"feed\",\"oh\",\"march\",\"persons\",\"understanding\",\"arms\",\"opportunity\",\"c\",\"blood\",\"additional\",\"j.\",\"technical\",\"fiscal\",\"radio\",\"described\",\"stop\",\"progress\",\"steps\",\"test\",\"chief\",\"reported\",\"served\",\"based\",\"main\",\"determined\",\"image\",\"decision\",\"window\",\"religion\",\"aj\",\"gun\",\"responsibility\",\"middle\",\"europe\",\"british\",\"character\",\"learned\",\"horse\",\"writing\",\"appear\",\"s.\",\"account\",\"ones\",\"serious\",\"activity\",\"types\",\"green\",\"length\",\"lived\",\"audience\",\"letters\",\"returned\",\"obtained\",\"nuclear\",\"specific\",\"corner\",\"forward\",\"activities\",\"slowly\",\"doubt\",\"justice\",\"moving\",\"latter\",\"gives\",\"straight\",\"hit\",\"plane\",\"quality\",\"design\",\"obviously\",\"operation\",\"plans\",\"shot\",\"seven\",\"a.\",\"choice\",\"poor\",\"staff\",\"function\",\"figures\",\"parts\",\"stay\",\"saying\",\"include\",\"born\",\"pattern\",\"cars\",\"whatever\",\"sun\",\"faith\",\"DG:DGDG\",\"pool\",\"hospital\",\"corps\",\"wish\",\"lack\",\"completely\",\"heavy\",\"waiting\",\"speak\",\"ball\",\"standard\",\"extent\",\"visit\",\"democratic\",\"firm\",\"income\",\"ahead\",\"deep\",\"there's\",\"language\",\"principle\",\"none\",\"price\",\"designed\",\"indicated\",\"analysis\",\"distance\",\"expect\",\"established\",\"products\",\"effects\",\"growing\",\"importance\",\"continue\",\"serve\",\"determine\",\"cities\",\"elements\",\"negro\",\"leaders\",\"division\",\"pretty\"],\"x\":{\"__ndarray__\":\"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\",\"dtype\":\"float64\",\"shape\":[1000]},\"y\":{\"__ndarray__\":\"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\",\"dtype\":\"float64\",\"shape\":[1000]}},\"selected\":{\"id\":\"2edb1e94-468c-4d7a-b745-cba1b964a8bc\",\"type\":\"Selection\"},\"selection_policy\":{\"id\":\"0d1f53d7-d28c-4f2f-8d39-f56e939e49c5\",\"type\":\"UnionRenderers\"}},\"id\":\"ce976b52-00f7-418b-9a57-32aef1faf2c1\",\"type\":\"ColumnDataSource\"},{\"attributes\":{},\"id\":\"ba956591-1ab6-484f-86ce-76006db20ffd\",\"type\":\"LinearScale\"},{\"attributes\":{\"below\":[{\"id\":\"f9d30f2a-0738-491c-86fa-f89bc8bcfc2f\",\"type\":\"LinearAxis\"}],\"left\":[{\"id\":\"68c9dfd4-1fb9-49dc-a222-5c337b95e020\",\"type\":\"LinearAxis\"}],\"renderers\":[{\"id\":\"f9d30f2a-0738-491c-86fa-f89bc8bcfc2f\",\"type\":\"LinearAxis\"},{\"id\":\"d7598c16-80ae-4cc0-8bb6-34350722ae38\",\"type\":\"Grid\"},{\"id\":\"68c9dfd4-1fb9-49dc-a222-5c337b95e020\",\"type\":\"LinearAxis\"},{\"id\":\"e6cb5a84-79a4-415d-b61f-425bfca5ce31\",\"type\":\"Grid\"},{\"id\":\"cd70a1d9-4382-40e9-a843-7bdc50602188\",\"type\":\"GlyphRenderer\"},{\"id\":\"680ee241-8a37-49af-9c81-d8c05e836ca8\",\"type\":\"LabelSet\"}],\"title\":{\"id\":\"eb6bf26e-74b9-42c9-8cd4-37e45cfa212f\",\"type\":\"Title\"},\"toolbar\":{\"id\":\"74cb8320-7004-4868-beed-f5f7b7576caf\",\"type\":\"Toolbar\"},\"x_range\":{\"id\":\"14ef61db-a56a-4a88-a436-c93dfd933a3c\",\"type\":\"DataRange1d\"},\"x_scale\":{\"id\":\"dae988f8-7182-4846-ab44-c1d4731e4e80\",\"type\":\"LinearScale\"},\"y_range\":{\"id\":\"50352903-49be-4803-94f7-150a3b40bc49\",\"type\":\"DataRange1d\"},\"y_scale\":{\"id\":\"ba956591-1ab6-484f-86ce-76006db20ffd\",\"type\":\"LinearScale\"}},\"id\":\"b3bf863d-f460-4490-b711-d11318e6a91e\",\"subtype\":\"Figure\",\"type\":\"Plot\"},{\"attributes\":{\"data_source\":{\"id\":\"ce976b52-00f7-418b-9a57-32aef1faf2c1\",\"type\":\"ColumnDataSource\"},\"glyph\":{\"id\":\"64b4dd4d-718a-4751-9eac-de2105f2ecc1\",\"type\":\"Circle\"},\"hover_glyph\":null,\"muted_glyph\":null,\"nonselection_glyph\":{\"id\":\"2e14f069-a557-42d7-9352-07287a2dd044\",\"type\":\"Circle\"},\"selection_glyph\":null,\"view\":{\"id\":\"b5276772-9faa-4c32-a057-37f5338b4e2e\",\"type\":\"CDSView\"}},\"id\":\"cd70a1d9-4382-40e9-a843-7bdc50602188\",\"type\":\"GlyphRenderer\"},{\"attributes\":{\"active_drag\":\"auto\",\"active_inspect\":\"auto\",\"active_multi\":null,\"active_scroll\":{\"id\":\"3df85fe6-7047-465d-b28f-5967912a5bc5\",\"type\":\"WheelZoomTool\"},\"active_tap\":\"auto\",\"tools\":[{\"id\":\"f6fbf434-5a59-40c5-83ba-92904b384477\",\"type\":\"HoverTool\"},{\"id\":\"3df85fe6-7047-465d-b28f-5967912a5bc5\",\"type\":\"WheelZoomTool\"},{\"id\":\"6021c1e0-d961-41a4-a4ab-138a0a3fdd22\",\"type\":\"PanTool\"},{\"id\":\"2a68639b-5549-4166-a866-475cc98368c1\",\"type\":\"ResetTool\"}]},\"id\":\"74cb8320-7004-4868-beed-f5f7b7576caf\",\"type\":\"Toolbar\"},{\"attributes\":{\"plot\":{\"id\":\"b3bf863d-f460-4490-b711-d11318e6a91e\",\"subtype\":\"Figure\",\"type\":\"Plot\"},\"source\":{\"id\":\"ce976b52-00f7-418b-9a57-32aef1faf2c1\",\"type\":\"ColumnDataSource\"},\"text\":{\"field\":\"desc\"},\"x\":{\"field\":\"x\"},\"x_offset\":{\"value\":2},\"y\":{\"field\":\"y\"},\"y_offset\":{\"value\":2}},\"id\":\"680ee241-8a37-49af-9c81-d8c05e836ca8\",\"type\":\"LabelSet\"},{\"attributes\":{},\"id\":\"600405ee-96f5-434c-9919-abc83b47ad21\",\"type\":\"BasicTickFormatter\"},{\"attributes\":{},\"id\":\"61de6180-ddda-4af4-ae61-6dd8c0c6875e\",\"type\":\"BasicTicker\"},{\"attributes\":{},\"id\":\"3df85fe6-7047-465d-b28f-5967912a5bc5\",\"type\":\"WheelZoomTool\"},{\"attributes\":{},\"id\":\"6021c1e0-d961-41a4-a4ab-138a0a3fdd22\",\"type\":\"PanTool\"},{\"attributes\":{\"dimension\":1,\"plot\":{\"id\":\"b3bf863d-f460-4490-b711-d11318e6a91e\",\"subtype\":\"Figure\",\"type\":\"Plot\"},\"ticker\":{\"id\":\"e9516a6d-c2dd-4672-9044-61cbe0ef42dc\",\"type\":\"BasicTicker\"}},\"id\":\"e6cb5a84-79a4-415d-b61f-425bfca5ce31\",\"type\":\"Grid\"},{\"attributes\":{\"formatter\":{\"id\":\"a070599f-f656-46b5-8caa-d51d286409d7\",\"type\":\"BasicTickFormatter\"},\"plot\":{\"id\":\"b3bf863d-f460-4490-b711-d11318e6a91e\",\"subtype\":\"Figure\",\"type\":\"Plot\"},\"ticker\":{\"id\":\"61de6180-ddda-4af4-ae61-6dd8c0c6875e\",\"type\":\"BasicTicker\"}},\"id\":\"f9d30f2a-0738-491c-86fa-f89bc8bcfc2f\",\"type\":\"LinearAxis\"},{\"attributes\":{},\"id\":\"e9516a6d-c2dd-4672-9044-61cbe0ef42dc\",\"type\":\"BasicTicker\"},{\"attributes\":{},\"id\":\"dae988f8-7182-4846-ab44-c1d4731e4e80\",\"type\":\"LinearScale\"},{\"attributes\":{},\"id\":\"a070599f-f656-46b5-8caa-d51d286409d7\",\"type\":\"BasicTickFormatter\"},{\"attributes\":{\"callback\":null},\"id\":\"50352903-49be-4803-94f7-150a3b40bc49\",\"type\":\"DataRange1d\"},{\"attributes\":{\"plot\":{\"id\":\"b3bf863d-f460-4490-b711-d11318e6a91e\",\"subtype\":\"Figure\",\"type\":\"Plot\"},\"ticker\":{\"id\":\"61de6180-ddda-4af4-ae61-6dd8c0c6875e\",\"type\":\"BasicTicker\"}},\"id\":\"d7598c16-80ae-4cc0-8bb6-34350722ae38\",\"type\":\"Grid\"},{\"attributes\":{\"callback\":null,\"renderers\":\"auto\",\"tooltips\":[[\"word\",\"@desc\"]]},\"id\":\"f6fbf434-5a59-40c5-83ba-92904b384477\",\"type\":\"HoverTool\"},{\"attributes\":{},\"id\":\"2a68639b-5549-4166-a866-475cc98368c1\",\"type\":\"ResetTool\"}],\"root_ids\":[\"b3bf863d-f460-4490-b711-d11318e6a91e\"]},\"title\":\"Bokeh Application\",\"version\":\"0.13.0\"}};\n",
       "  var render_items = [{\"docid\":\"f8d9c8e0-fdea-4e55-a9bd-18f5741b391e\",\"roots\":{\"b3bf863d-f460-4490-b711-d11318e6a91e\":\"f141a5e1-5038-4c3a-bf0c-1073edb2bee2\"}}];\n",
       "  root.Bokeh.embed.embed_items_notebook(docs_json, render_items);\n",
       "\n",
       "  }\n",
       "  if (root.Bokeh !== undefined) {\n",
       "    embed_document(root);\n",
       "  } else {\n",
       "    var attempts = 0;\n",
       "    var timer = setInterval(function(root) {\n",
       "      if (root.Bokeh !== undefined) {\n",
       "        embed_document(root);\n",
       "        clearInterval(timer);\n",
       "      }\n",
       "      attempts++;\n",
       "      if (attempts > 100) {\n",
       "        console.log(\"Bokeh: ERROR: Unable to run BokehJS code because BokehJS library is missing\")\n",
       "        clearInterval(timer);\n",
       "      }\n",
       "    }, 10, root)\n",
       "  }\n",
       "})(window);"
      ],
      "application/vnd.bokehjs_exec.v0+json": ""
     },
     "metadata": {
      "application/vnd.bokehjs_exec.v0+json": {
       "id": "b3bf863d-f460-4490-b711-d11318e6a91e"
      }
     },
     "output_type": "display_data"
    }
   ],
   "source": [
    "n = 1000\n",
    "\n",
    "hover = HoverTool(tooltips=[(\"word\", \"@desc\")])\n",
    "wztool = WheelZoomTool()\n",
    "fig = bp.figure(plot_width=600, plot_height=600, tools=[hover, wztool, 'pan', 'reset'])\n",
    "fig.toolbar.active_scroll = wztool\n",
    "df = bp.ColumnDataSource(dict(x=Wv2[:n,0], y=Wv2[:n,1], desc=vocab.ids_to_words(range(n))))\n",
    "fig.circle('x', 'y', source=df)\n",
    "fig.add_layout(LabelSet(x='x', y='y', text='desc', source=df,\n",
    "                        x_offset=2, y_offset=2))\n",
    "bp.show(fig)"
   ]
  },
  {
   "cell_type": "code",
   "execution_count": null,
   "metadata": {
    "collapsed": true
   },
   "outputs": [],
   "source": []
  }
 ],
 "metadata": {
  "anaconda-cloud": {},
  "kernelspec": {
   "display_name": "Python 3",
   "language": "python",
   "name": "python3"
  },
  "language_info": {
   "codemirror_mode": {
    "name": "ipython",
    "version": 3
   },
   "file_extension": ".py",
   "mimetype": "text/x-python",
   "name": "python",
   "nbconvert_exporter": "python",
   "pygments_lexer": "ipython3",
   "version": "3.7.4"
  }
 },
 "nbformat": 4,
 "nbformat_minor": 1
}
