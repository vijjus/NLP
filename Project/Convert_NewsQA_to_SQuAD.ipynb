{
 "cells": [
  {
   "cell_type": "code",
   "execution_count": 1,
   "metadata": {},
   "outputs": [],
   "source": [
    "import json"
   ]
  },
  {
   "cell_type": "code",
   "execution_count": 3,
   "metadata": {},
   "outputs": [
    {
     "ename": "FileNotFoundError",
     "evalue": "[Errno 2] No such file or directory: 'input_file'",
     "output_type": "error",
     "traceback": [
      "\u001b[0;31m---------------------------------------------------------------------------\u001b[0m",
      "\u001b[0;31mFileNotFoundError\u001b[0m                         Traceback (most recent call last)",
      "\u001b[0;32m<ipython-input-3-9dabebcde628>\u001b[0m in \u001b[0;36m<module>\u001b[0;34m\u001b[0m\n\u001b[1;32m      1\u001b[0m \u001b[0mdata\u001b[0m \u001b[0;34m=\u001b[0m \u001b[0;34m[\u001b[0m\u001b[0;34m]\u001b[0m\u001b[0;34m\u001b[0m\u001b[0;34m\u001b[0m\u001b[0m\n\u001b[0;32m----> 2\u001b[0;31m \u001b[0;32mwith\u001b[0m \u001b[0mopen\u001b[0m\u001b[0;34m(\u001b[0m\u001b[0;34m'input_file'\u001b[0m\u001b[0;34m)\u001b[0m \u001b[0;32mas\u001b[0m \u001b[0mf\u001b[0m\u001b[0;34m:\u001b[0m\u001b[0;34m\u001b[0m\u001b[0;34m\u001b[0m\u001b[0m\n\u001b[0m\u001b[1;32m      3\u001b[0m     \u001b[0;32mfor\u001b[0m \u001b[0mline\u001b[0m \u001b[0;32min\u001b[0m \u001b[0mf\u001b[0m\u001b[0;34m:\u001b[0m\u001b[0;34m\u001b[0m\u001b[0;34m\u001b[0m\u001b[0m\n\u001b[1;32m      4\u001b[0m         \u001b[0mdata\u001b[0m\u001b[0;34m.\u001b[0m\u001b[0mappend\u001b[0m\u001b[0;34m(\u001b[0m\u001b[0mjson\u001b[0m\u001b[0;34m.\u001b[0m\u001b[0mloads\u001b[0m\u001b[0;34m(\u001b[0m\u001b[0mline\u001b[0m\u001b[0;34m)\u001b[0m\u001b[0;34m)\u001b[0m\u001b[0;34m\u001b[0m\u001b[0;34m\u001b[0m\u001b[0m\n",
      "\u001b[0;31mFileNotFoundError\u001b[0m: [Errno 2] No such file or directory: 'input_file'"
     ]
    }
   ],
   "source": [
    "import gzip\n",
    "input_file = 'C:\\\\Users\\\\VLMF\\\\Desktop\\\\Project_W266\\\\NewsQA\\\\NewsQA_dev.jsonl.gz'\n",
    "input_data = []\n",
    "with gzip.GzipFile(input_file, 'r') as reader:\n",
    "        data = reader.read().decode('utf-8').strip().split('\\n')[1:]\n",
    "        for line in data:\n",
    "            input_data.append(json.loads(line))"
   ]
  },
  {
   "cell_type": "code",
   "execution_count": 38,
   "metadata": {},
   "outputs": [
    {
     "data": {
      "text/plain": [
       "\"(CNN) -- What could be more powerful than the tears of a Native American Indian?\\n\\n\\n\\nWax on, wax off: Does it make you want to save the rainforests?\\n\\n\\n\\nIron Eyes Cody was the face of the Keep American Beautiful campaign of 1971 whose tears marked the plight of the environment, but more importantly kept the problems of pollution in the minds of millions.\\n\\n\\n\\nFrom teary Native Americans to witty skits or doom-ladened eco-horror scenarios, the environmental campaign video then has long been a powerful tool for environmental groups to spread their message and raise pubic attention.\\n\\n\\n\\nThe rise of YouTube and other video sharing web sites has now meant that individuals can broadcast their own eco-awareness messages and form their own social action networks.\\n\\n\\n\\nBut what makes a good video and how much impact do they have? Is it better to be funny or shocking? When you see Harrison Ford getting his chest waxed, do you immediately think about saving the rainforests?\\n\\n\\n\\nOr does the sight of celebrity pontificating about the plight of the environment make you want to watch their next film rather calculate your carbon footprint.\\n\\n\\n\\nWe've featured three different videos that we like and want to know which ones you think are the best.  Watch the featured videos »\\n\\n\\n\\nLet us know which eco videos have got you going by using the Sound Off box below. Or, e-mail us at ecosolutions@cnn.com.\\n\\n\\n\\nWe also want to feature your own environmental videos here on CNN's Eco Solutions. Use the iReport form to send in your film and you could find your environmental efforts make even more impact than Harrison Ford's chest.\""
      ]
     },
     "execution_count": 38,
     "metadata": {},
     "output_type": "execute_result"
    }
   ],
   "source": [
    "#context\n",
    "input_data[0]['context']"
   ]
  },
  {
   "cell_type": "code",
   "execution_count": 39,
   "metadata": {},
   "outputs": [
    {
     "data": {
      "text/plain": [
       "1152"
      ]
     },
     "execution_count": 39,
     "metadata": {},
     "output_type": "execute_result"
    }
   ],
   "source": [
    "#answer_start\n",
    "input_data[0]['qas'][0]['detected_answers'][0]['char_spans'][0][0]"
   ]
  },
  {
   "cell_type": "code",
   "execution_count": 40,
   "metadata": {},
   "outputs": [
    {
     "data": {
      "text/plain": [
       "'three different videos'"
      ]
     },
     "execution_count": 40,
     "metadata": {},
     "output_type": "execute_result"
    }
   ],
   "source": [
    "#text\n",
    "input_data[0]['qas'][0]['detected_answers'][0]['text']"
   ]
  },
  {
   "cell_type": "code",
   "execution_count": 41,
   "metadata": {},
   "outputs": [
    {
     "data": {
      "text/plain": [
       "'What will be nominated?'"
      ]
     },
     "execution_count": 41,
     "metadata": {},
     "output_type": "execute_result"
    }
   ],
   "source": [
    "#question\n",
    "input_data[0]['qas'][0]['question']"
   ]
  },
  {
   "cell_type": "code",
   "execution_count": 42,
   "metadata": {},
   "outputs": [
    {
     "data": {
      "text/plain": [
       "'./cnn/stories/6e8382e61be49c936e00a8eea24377a687622967.story#1'"
      ]
     },
     "execution_count": 42,
     "metadata": {},
     "output_type": "execute_result"
    }
   ],
   "source": [
    "#id\n",
    "input_data[0]['qas'][0]['id']"
   ]
  },
  {
   "cell_type": "code",
   "execution_count": 43,
   "metadata": {},
   "outputs": [],
   "source": [
    "context = input_data[0]['context']\n",
    "answer_start = input_data[0]['qas'][0]['detected_answers'][0]['char_spans'][0][0]\n",
    "text = input_data[0]['qas'][0]['detected_answers'][0]['text']\n",
    "question = input_data[0]['qas'][0]['question']\n",
    "id = input_data[0]['qas'][0]['id']"
   ]
  },
  {
   "cell_type": "code",
   "execution_count": 44,
   "metadata": {},
   "outputs": [
    {
     "name": "stdout",
     "output_type": "stream",
     "text": [
      "{\"data\": [{\"title\": \"DummyTitle\", \"paragraphs\": [{\"context\": \"(CNN) -- What could be more powerful than the tears of a Native American Indian?\\n\\n\\n\\nWax on, wax off: Does it make you want to save the rainforests?\\n\\n\\n\\nIron Eyes Cody was the face of the Keep American Beautiful campaign of 1971 whose tears marked the plight of the environment, but more importantly kept the problems of pollution in the minds of millions.\\n\\n\\n\\nFrom teary Native Americans to witty skits or doom-ladened eco-horror scenarios, the environmental campaign video then has long been a powerful tool for environmental groups to spread their message and raise pubic attention.\\n\\n\\n\\nThe rise of YouTube and other video sharing web sites has now meant that individuals can broadcast their own eco-awareness messages and form their own social action networks.\\n\\n\\n\\nBut what makes a good video and how much impact do they have? Is it better to be funny or shocking? When you see Harrison Ford getting his chest waxed, do you immediately think about saving the rainforests?\\n\\n\\n\\nOr does the sight of celebrity pontificating about the plight of the environment make you want to watch their next film rather calculate your carbon footprint.\\n\\n\\n\\nWe've featured three different videos that we like and want to know which ones you think are the best.  Watch the featured videos \\u00bb\\n\\n\\n\\nLet us know which eco videos have got you going by using the Sound Off box below. Or, e-mail us at ecosolutions@cnn.com.\\n\\n\\n\\nWe also want to feature your own environmental videos here on CNN's Eco Solutions. Use the iReport form to send in your film and you could find your environmental efforts make even more impact than Harrison Ford's chest.\", \"qas\": [{\"answers\": [{\"answer_start\": 1152, \"text\": \"three different videos\"}], \"question\": \"What will be nominated?\", \"id\": \"./cnn/stories/6e8382e61be49c936e00a8eea24377a687622967.story#1\"}]}]}], \"version\": \"newsQA_train\"}\n"
     ]
    }
   ],
   "source": [
    "jsondata = {}\n",
    "data=list()\n",
    "story={}\n",
    "paragraphs=list()\n",
    "cont_and_qas={}\n",
    "\n",
    "story['title'] = 'DummyTitle'\n",
    "cont_and_qas['context'] = context\n",
    "cont_and_qas['qas'] = [{'answers': [{'answer_start': answer_start, 'text': text}], 'question': question, 'id': id}]\n",
    "paragraphs.append(cont_and_qas)\n",
    "story['paragraphs'] = paragraphs\n",
    "data.append(story)\n",
    "\n",
    "jsondata['data'] = data\n",
    "jsondata['version'] = 'newsQA_train'\n",
    "\n",
    "print(json.dumps(jsondata))"
   ]
  },
  {
   "cell_type": "code",
   "execution_count": 45,
   "metadata": {},
   "outputs": [
    {
     "name": "stdout",
     "output_type": "stream",
     "text": [
      "1 / 638\n",
      "2 / 638\n",
      "3 / 638\n",
      "4 / 638\n",
      "5 / 638\n",
      "6 / 638\n",
      "7 / 638\n",
      "8 / 638\n",
      "9 / 638\n",
      "10 / 638\n",
      "11 / 638\n",
      "12 / 638\n",
      "13 / 638\n",
      "14 / 638\n",
      "15 / 638\n",
      "16 / 638\n",
      "17 / 638\n",
      "18 / 638\n",
      "19 / 638\n",
      "20 / 638\n",
      "21 / 638\n",
      "22 / 638\n",
      "23 / 638\n",
      "24 / 638\n",
      "25 / 638\n",
      "26 / 638\n",
      "27 / 638\n",
      "28 / 638\n",
      "29 / 638\n",
      "30 / 638\n",
      "31 / 638\n",
      "32 / 638\n",
      "33 / 638\n",
      "34 / 638\n",
      "35 / 638\n",
      "36 / 638\n",
      "37 / 638\n",
      "38 / 638\n",
      "39 / 638\n",
      "40 / 638\n",
      "41 / 638\n",
      "42 / 638\n",
      "43 / 638\n",
      "44 / 638\n",
      "45 / 638\n",
      "46 / 638\n",
      "47 / 638\n",
      "48 / 638\n",
      "49 / 638\n",
      "50 / 638\n",
      "51 / 638\n",
      "52 / 638\n",
      "53 / 638\n",
      "54 / 638\n",
      "55 / 638\n",
      "56 / 638\n",
      "57 / 638\n",
      "58 / 638\n",
      "59 / 638\n",
      "60 / 638\n",
      "61 / 638\n",
      "62 / 638\n",
      "63 / 638\n",
      "64 / 638\n",
      "65 / 638\n",
      "66 / 638\n",
      "67 / 638\n",
      "68 / 638\n",
      "69 / 638\n",
      "70 / 638\n",
      "71 / 638\n",
      "72 / 638\n",
      "73 / 638\n",
      "74 / 638\n",
      "75 / 638\n",
      "76 / 638\n",
      "77 / 638\n",
      "78 / 638\n",
      "79 / 638\n",
      "80 / 638\n",
      "81 / 638\n",
      "82 / 638\n",
      "83 / 638\n",
      "84 / 638\n",
      "85 / 638\n",
      "86 / 638\n",
      "87 / 638\n",
      "88 / 638\n",
      "89 / 638\n",
      "90 / 638\n",
      "91 / 638\n",
      "92 / 638\n",
      "93 / 638\n",
      "94 / 638\n",
      "95 / 638\n",
      "96 / 638\n",
      "97 / 638\n",
      "98 / 638\n",
      "99 / 638\n",
      "100 / 638\n",
      "101 / 638\n",
      "102 / 638\n",
      "103 / 638\n",
      "104 / 638\n",
      "105 / 638\n",
      "106 / 638\n",
      "107 / 638\n",
      "108 / 638\n",
      "109 / 638\n",
      "110 / 638\n",
      "111 / 638\n",
      "112 / 638\n",
      "113 / 638\n",
      "114 / 638\n",
      "115 / 638\n",
      "116 / 638\n",
      "117 / 638\n",
      "118 / 638\n",
      "119 / 638\n",
      "120 / 638\n",
      "121 / 638\n",
      "122 / 638\n",
      "123 / 638\n",
      "124 / 638\n",
      "125 / 638\n",
      "126 / 638\n",
      "127 / 638\n",
      "128 / 638\n",
      "129 / 638\n",
      "130 / 638\n",
      "131 / 638\n",
      "132 / 638\n",
      "133 / 638\n",
      "134 / 638\n",
      "135 / 638\n",
      "136 / 638\n",
      "137 / 638\n",
      "138 / 638\n",
      "139 / 638\n",
      "140 / 638\n",
      "141 / 638\n",
      "142 / 638\n",
      "143 / 638\n",
      "144 / 638\n",
      "145 / 638\n",
      "146 / 638\n",
      "147 / 638\n",
      "148 / 638\n",
      "149 / 638\n",
      "150 / 638\n",
      "151 / 638\n",
      "152 / 638\n",
      "153 / 638\n",
      "154 / 638\n",
      "155 / 638\n",
      "156 / 638\n",
      "157 / 638\n",
      "158 / 638\n",
      "159 / 638\n",
      "160 / 638\n",
      "161 / 638\n",
      "162 / 638\n",
      "163 / 638\n",
      "164 / 638\n",
      "165 / 638\n",
      "166 / 638\n",
      "167 / 638\n",
      "168 / 638\n",
      "169 / 638\n",
      "170 / 638\n",
      "171 / 638\n",
      "172 / 638\n",
      "173 / 638\n",
      "174 / 638\n",
      "175 / 638\n",
      "176 / 638\n",
      "177 / 638\n",
      "178 / 638\n",
      "179 / 638\n",
      "180 / 638\n",
      "181 / 638\n",
      "182 / 638\n",
      "183 / 638\n",
      "184 / 638\n",
      "185 / 638\n",
      "186 / 638\n",
      "187 / 638\n",
      "188 / 638\n",
      "189 / 638\n",
      "190 / 638\n",
      "191 / 638\n",
      "192 / 638\n",
      "193 / 638\n",
      "194 / 638\n",
      "195 / 638\n",
      "196 / 638\n",
      "197 / 638\n",
      "198 / 638\n",
      "199 / 638\n",
      "200 / 638\n",
      "201 / 638\n",
      "202 / 638\n",
      "203 / 638\n",
      "204 / 638\n",
      "205 / 638\n",
      "206 / 638\n",
      "207 / 638\n",
      "208 / 638\n",
      "209 / 638\n",
      "210 / 638\n",
      "211 / 638\n",
      "212 / 638\n",
      "213 / 638\n",
      "214 / 638\n",
      "215 / 638\n",
      "216 / 638\n",
      "217 / 638\n",
      "218 / 638\n",
      "219 / 638\n",
      "220 / 638\n",
      "221 / 638\n",
      "222 / 638\n",
      "223 / 638\n",
      "224 / 638\n",
      "225 / 638\n",
      "226 / 638\n",
      "227 / 638\n",
      "228 / 638\n",
      "229 / 638\n",
      "230 / 638\n",
      "231 / 638\n",
      "232 / 638\n",
      "233 / 638\n",
      "234 / 638\n",
      "235 / 638\n",
      "236 / 638\n",
      "237 / 638\n",
      "238 / 638\n",
      "239 / 638\n",
      "240 / 638\n",
      "241 / 638\n",
      "242 / 638\n",
      "243 / 638\n",
      "244 / 638\n",
      "245 / 638\n",
      "246 / 638\n",
      "247 / 638\n",
      "248 / 638\n",
      "249 / 638\n",
      "250 / 638\n",
      "251 / 638\n",
      "252 / 638\n",
      "253 / 638\n",
      "254 / 638\n",
      "255 / 638\n",
      "256 / 638\n",
      "257 / 638\n",
      "258 / 638\n",
      "259 / 638\n",
      "260 / 638\n",
      "261 / 638\n",
      "262 / 638\n",
      "263 / 638\n",
      "264 / 638\n",
      "265 / 638\n",
      "266 / 638\n",
      "267 / 638\n",
      "268 / 638\n",
      "269 / 638\n",
      "270 / 638\n",
      "271 / 638\n",
      "272 / 638\n",
      "273 / 638\n",
      "274 / 638\n",
      "275 / 638\n",
      "276 / 638\n",
      "277 / 638\n",
      "278 / 638\n",
      "279 / 638\n",
      "280 / 638\n",
      "281 / 638\n",
      "282 / 638\n",
      "283 / 638\n",
      "284 / 638\n",
      "285 / 638\n",
      "286 / 638\n",
      "287 / 638\n",
      "288 / 638\n",
      "289 / 638\n",
      "290 / 638\n",
      "291 / 638\n",
      "292 / 638\n",
      "293 / 638\n",
      "294 / 638\n",
      "295 / 638\n",
      "296 / 638\n",
      "297 / 638\n",
      "298 / 638\n",
      "299 / 638\n",
      "300 / 638\n",
      "301 / 638\n",
      "302 / 638\n",
      "303 / 638\n",
      "304 / 638\n",
      "305 / 638\n",
      "306 / 638\n",
      "307 / 638\n",
      "308 / 638\n",
      "309 / 638\n",
      "310 / 638\n",
      "311 / 638\n",
      "312 / 638\n",
      "313 / 638\n",
      "314 / 638\n",
      "315 / 638\n",
      "316 / 638\n",
      "317 / 638\n",
      "318 / 638\n",
      "319 / 638\n",
      "320 / 638\n",
      "321 / 638\n",
      "322 / 638\n",
      "323 / 638\n",
      "324 / 638\n",
      "325 / 638\n",
      "326 / 638\n",
      "327 / 638\n",
      "328 / 638\n",
      "329 / 638\n",
      "330 / 638\n",
      "331 / 638\n",
      "332 / 638\n",
      "333 / 638\n",
      "334 / 638\n",
      "335 / 638\n",
      "336 / 638\n",
      "337 / 638\n",
      "338 / 638\n",
      "339 / 638\n",
      "340 / 638\n",
      "341 / 638\n",
      "342 / 638\n",
      "343 / 638\n",
      "344 / 638\n",
      "345 / 638\n",
      "346 / 638\n",
      "347 / 638\n",
      "348 / 638\n",
      "349 / 638\n",
      "350 / 638\n",
      "351 / 638\n",
      "352 / 638\n",
      "353 / 638\n",
      "354 / 638\n",
      "355 / 638\n",
      "356 / 638\n",
      "357 / 638\n",
      "358 / 638\n",
      "359 / 638\n",
      "360 / 638\n",
      "361 / 638\n",
      "362 / 638\n",
      "363 / 638\n",
      "364 / 638\n",
      "365 / 638\n",
      "366 / 638\n",
      "367 / 638\n",
      "368 / 638\n",
      "369 / 638\n",
      "370 / 638\n",
      "371 / 638\n",
      "372 / 638\n",
      "373 / 638\n",
      "374 / 638\n",
      "375 / 638\n",
      "376 / 638\n",
      "377 / 638\n",
      "378 / 638\n",
      "379 / 638\n",
      "380 / 638\n",
      "381 / 638\n",
      "382 / 638\n",
      "383 / 638\n",
      "384 / 638\n",
      "385 / 638\n",
      "386 / 638\n",
      "387 / 638\n",
      "388 / 638\n",
      "389 / 638\n",
      "390 / 638\n",
      "391 / 638\n",
      "392 / 638\n",
      "393 / 638\n",
      "394 / 638\n",
      "395 / 638\n",
      "396 / 638\n",
      "397 / 638\n",
      "398 / 638\n",
      "399 / 638\n",
      "400 / 638\n",
      "401 / 638\n",
      "402 / 638\n",
      "403 / 638\n",
      "404 / 638\n",
      "405 / 638\n",
      "406 / 638\n",
      "407 / 638\n",
      "408 / 638\n",
      "409 / 638\n",
      "410 / 638\n",
      "411 / 638\n",
      "412 / 638\n",
      "413 / 638\n",
      "414 / 638\n",
      "415 / 638\n",
      "416 / 638\n",
      "417 / 638\n",
      "418 / 638\n",
      "419 / 638\n",
      "420 / 638\n",
      "421 / 638\n",
      "422 / 638\n",
      "423 / 638\n",
      "424 / 638\n",
      "425 / 638\n",
      "426 / 638\n",
      "427 / 638\n",
      "428 / 638\n",
      "429 / 638\n",
      "430 / 638\n",
      "431 / 638\n",
      "432 / 638\n",
      "433 / 638\n",
      "434 / 638\n",
      "435 / 638\n",
      "436 / 638\n",
      "437 / 638\n",
      "438 / 638\n",
      "439 / 638\n",
      "440 / 638\n",
      "441 / 638\n",
      "442 / 638\n",
      "443 / 638\n",
      "444 / 638\n",
      "445 / 638\n",
      "446 / 638\n",
      "447 / 638\n",
      "448 / 638\n",
      "449 / 638\n",
      "450 / 638\n",
      "451 / 638\n",
      "452 / 638\n",
      "453 / 638\n",
      "454 / 638\n",
      "455 / 638\n",
      "456 / 638\n",
      "457 / 638\n",
      "458 / 638\n",
      "459 / 638\n",
      "460 / 638\n",
      "461 / 638\n",
      "462 / 638\n",
      "463 / 638\n",
      "464 / 638\n",
      "465 / 638\n",
      "466 / 638\n",
      "467 / 638\n",
      "468 / 638\n",
      "469 / 638\n",
      "470 / 638\n",
      "471 / 638\n",
      "472 / 638\n",
      "473 / 638\n",
      "474 / 638\n",
      "475 / 638\n",
      "476 / 638\n",
      "477 / 638\n",
      "478 / 638\n",
      "479 / 638\n",
      "480 / 638\n",
      "481 / 638\n",
      "482 / 638\n",
      "483 / 638\n",
      "484 / 638\n",
      "485 / 638\n",
      "486 / 638\n",
      "487 / 638\n",
      "488 / 638\n",
      "489 / 638\n",
      "490 / 638\n",
      "491 / 638\n",
      "492 / 638\n",
      "493 / 638\n",
      "494 / 638\n",
      "495 / 638\n",
      "496 / 638\n",
      "497 / 638\n",
      "498 / 638\n",
      "499 / 638\n",
      "500 / 638\n",
      "501 / 638\n",
      "502 / 638\n",
      "503 / 638\n",
      "504 / 638\n",
      "505 / 638\n",
      "506 / 638\n",
      "507 / 638\n",
      "508 / 638\n",
      "509 / 638\n",
      "510 / 638\n",
      "511 / 638\n",
      "512 / 638\n",
      "513 / 638\n",
      "514 / 638\n",
      "515 / 638\n",
      "516 / 638\n",
      "517 / 638\n",
      "518 / 638\n",
      "519 / 638\n",
      "520 / 638\n",
      "521 / 638\n",
      "522 / 638\n",
      "523 / 638\n",
      "524 / 638\n",
      "525 / 638\n",
      "526 / 638\n",
      "527 / 638\n",
      "528 / 638\n",
      "529 / 638\n",
      "530 / 638\n",
      "531 / 638\n",
      "532 / 638\n",
      "533 / 638\n",
      "534 / 638\n",
      "535 / 638\n",
      "536 / 638\n",
      "537 / 638\n",
      "538 / 638\n",
      "539 / 638\n",
      "540 / 638\n",
      "541 / 638\n",
      "542 / 638\n",
      "543 / 638\n",
      "544 / 638\n",
      "545 / 638\n",
      "546 / 638\n",
      "547 / 638\n",
      "548 / 638\n",
      "549 / 638\n",
      "550 / 638\n",
      "551 / 638\n",
      "552 / 638\n",
      "553 / 638\n",
      "554 / 638\n",
      "555 / 638\n",
      "556 / 638\n",
      "557 / 638\n",
      "558 / 638\n",
      "559 / 638\n",
      "560 / 638\n",
      "561 / 638\n",
      "562 / 638\n",
      "563 / 638\n",
      "564 / 638\n",
      "565 / 638\n",
      "566 / 638\n",
      "567 / 638\n",
      "568 / 638\n",
      "569 / 638\n",
      "570 / 638\n",
      "571 / 638\n",
      "572 / 638\n",
      "573 / 638\n",
      "574 / 638\n",
      "575 / 638\n",
      "576 / 638\n",
      "577 / 638\n",
      "578 / 638\n",
      "579 / 638\n",
      "580 / 638\n",
      "581 / 638\n",
      "582 / 638\n",
      "583 / 638\n",
      "584 / 638\n",
      "585 / 638\n",
      "586 / 638\n",
      "587 / 638\n",
      "588 / 638\n",
      "589 / 638\n",
      "590 / 638\n",
      "591 / 638\n",
      "592 / 638\n",
      "593 / 638\n",
      "594 / 638\n",
      "595 / 638\n",
      "596 / 638\n",
      "597 / 638\n",
      "598 / 638\n",
      "599 / 638\n",
      "600 / 638\n",
      "601 / 638\n",
      "602 / 638\n",
      "603 / 638\n",
      "604 / 638\n",
      "605 / 638\n",
      "606 / 638\n",
      "607 / 638\n",
      "608 / 638\n",
      "609 / 638\n",
      "610 / 638\n",
      "611 / 638\n",
      "612 / 638\n",
      "613 / 638\n",
      "614 / 638\n",
      "615 / 638\n",
      "616 / 638\n",
      "617 / 638\n",
      "618 / 638\n",
      "619 / 638\n",
      "620 / 638\n",
      "621 / 638\n",
      "622 / 638\n",
      "623 / 638\n",
      "624 / 638\n",
      "625 / 638\n",
      "626 / 638\n",
      "627 / 638\n",
      "628 / 638\n",
      "629 / 638\n",
      "630 / 638\n",
      "631 / 638\n",
      "632 / 638\n",
      "633 / 638\n",
      "634 / 638\n",
      "635 / 638\n",
      "636 / 638\n",
      "637 / 638\n",
      "638 / 638\n",
      "Total number of question/answer pairs:  4212\n"
     ]
    }
   ],
   "source": [
    "#Convert data to SQuAD formatted json file\n",
    "jsondata = {}\n",
    "data = list()\n",
    "\n",
    "i = 0\n",
    "j = 0\n",
    "\n",
    "for story_idx in input_data: \n",
    "#loop over stories\n",
    "    i += 1\n",
    "    print(i, '/', len(input_data))\n",
    "    story = {}\n",
    "    paragraphs = list()\n",
    "    cont_and_qas = {}\n",
    "    qas = list()\n",
    "    \n",
    "    story['title'] = 'DummyTitle'\n",
    "    context = story_idx['context']\n",
    "    cont_and_qas['context'] = context\n",
    "\n",
    "    for qa in story_idx['qas']:\n",
    "    #loop over questions and answers in story\n",
    "        j += 1\n",
    "        answer_start = qa['detected_answers'][0]['char_spans'][0][0]\n",
    "        text = qa['detected_answers'][0]['text']\n",
    "        question = qa['question']\n",
    "        id = qa['id']\n",
    "        qas.append({'answers': [{'answer_start': answer_start, 'text': text}], 'question': question, 'id': id})\n",
    "\n",
    "    cont_and_qas['qas'] = qas\n",
    "    paragraphs.append(cont_and_qas)\n",
    "\n",
    "\n",
    "    story['paragraphs'] = paragraphs\n",
    "    data.append(story)\n",
    "\n",
    "jsondata['data'] = data\n",
    "jsondata['version'] = 'newsQA_train'\n",
    "\n",
    "print('Total number of question/answer pairs: ', j)"
   ]
  },
  {
   "cell_type": "code",
   "execution_count": null,
   "metadata": {},
   "outputs": [],
   "source": [
    "#Save to json file\n",
    "with open('NewsQA_train.json', 'w') as outfile:\n",
    "    json.dump(jsondata, outfile)"
   ]
  },
  {
   "cell_type": "markdown",
   "metadata": {},
   "source": [
    "### Notes\n",
    "\n",
    "story 301: 1 wrong answer\n",
    "\n",
    "story 421: 1 wrong answer"
   ]
  },
  {
   "cell_type": "code",
   "execution_count": null,
   "metadata": {},
   "outputs": [],
   "source": []
  },
  {
   "cell_type": "code",
   "execution_count": null,
   "metadata": {},
   "outputs": [],
   "source": []
  },
  {
   "cell_type": "code",
   "execution_count": null,
   "metadata": {},
   "outputs": [],
   "source": []
  },
  {
   "cell_type": "code",
   "execution_count": 192,
   "metadata": {},
   "outputs": [],
   "source": [
    "path_to_file = 'C:\\\\Users\\\\VLMF\\\\Desktop\\\\Project_W266\\\\qa_datasets_converter\\\\newsQA\\\\cnn_stories\\\\42d01e187213e86f5fe617fe32e716ff7fa3afc4.story'\n",
    "superdocument = open(path_to_file, encoding=\"utf8\").read()"
   ]
  },
  {
   "cell_type": "code",
   "execution_count": 193,
   "metadata": {},
   "outputs": [
    {
     "data": {
      "text/plain": [
       "'NEW DELHI, India (CNN) -- A high court in northern India on Friday acquitted a wealthy businessman facing the death sentence for the killing of a teen in a case dubbed \"the house of horrors.\"\\n\\nMoninder Singh Pandher was sentenced to death by a lower court in February.\\n\\nThe teen was one of 19 victims -- children and young women -- in one of the most gruesome serial killings in India in recent years.\\n\\nThe Allahabad high court has acquitted Moninder Singh Pandher, his lawyer Sikandar B. Kochar told CNN.\\n\\nPandher and his domestic employee Surinder Koli were sentenced to death in February by a lower court for the rape and murder of the 14-year-old.\\n\\nThe high court upheld Koli\\'s death sentence, Kochar said.\\n\\nThe two were arrested two years ago after body parts packed in plastic bags were found near their home in Noida, a New Delhi suburb. Their home was later dubbed a \"house of horrors\" by the Indian media.\\n\\nPandher was not named a main suspect by investigators initially, but was summoned as co-accused during the trial, Kochar said.\\n\\nKochar said his client was in Australia when the teen was raped and killed.\\n\\nPandher faces trial in the remaining 18 killings and could remain in custody, the attorney said.\\n\\n@highlight\\n\\nCourt acquitted Moninder Singh Pandher for the killing of a teen\\n\\n@highlight\\n\\n14-year old was one of 19 children and young women murdered\\n\\n@highlight\\n\\nPandher and a domestic employee sentenced to death in February by lower court'"
      ]
     },
     "execution_count": 193,
     "metadata": {},
     "output_type": "execute_result"
    }
   ],
   "source": [
    "superdocument"
   ]
  },
  {
   "cell_type": "code",
   "execution_count": 194,
   "metadata": {},
   "outputs": [
    {
     "data": {
      "text/plain": [
       "''"
      ]
     },
     "execution_count": 194,
     "metadata": {},
     "output_type": "execute_result"
    }
   ],
   "source": [
    "superdocument[2326:2370]"
   ]
  },
  {
   "cell_type": "code",
   "execution_count": 195,
   "metadata": {},
   "outputs": [],
   "source": [
    "superdoc_noemptylines = superdocument.replace(\"\\n\", \"  \")"
   ]
  },
  {
   "cell_type": "code",
   "execution_count": 196,
   "metadata": {},
   "outputs": [
    {
     "data": {
      "text/plain": [
       "'NEW DELHI, India (CNN) -- A high court in northern India on Friday acquitted a wealthy businessman facing the death sentence for the killing of a teen in a case dubbed \"the house of horrors.\"    Moninder Singh Pandher was sentenced to death by a lower court in February.    The teen was one of 19 victims -- children and young women -- in one of the most gruesome serial killings in India in recent years.    The Allahabad high court has acquitted Moninder Singh Pandher, his lawyer Sikandar B. Kochar told CNN.    Pandher and his domestic employee Surinder Koli were sentenced to death in February by a lower court for the rape and murder of the 14-year-old.    The high court upheld Koli\\'s death sentence, Kochar said.    The two were arrested two years ago after body parts packed in plastic bags were found near their home in Noida, a New Delhi suburb. Their home was later dubbed a \"house of horrors\" by the Indian media.    Pandher was not named a main suspect by investigators initially, but was summoned as co-accused during the trial, Kochar said.    Kochar said his client was in Australia when the teen was raped and killed.    Pandher faces trial in the remaining 18 killings and could remain in custody, the attorney said.    @highlight    Court acquitted Moninder Singh Pandher for the killing of a teen    @highlight    14-year old was one of 19 children and young women murdered    @highlight    Pandher and a domestic employee sentenced to death in February by lower court'"
      ]
     },
     "execution_count": 196,
     "metadata": {},
     "output_type": "execute_result"
    }
   ],
   "source": [
    "superdoc_noemptylines"
   ]
  },
  {
   "cell_type": "code",
   "execution_count": 198,
   "metadata": {},
   "outputs": [
    {
     "data": {
      "text/plain": [
       "'19 '"
      ]
     },
     "execution_count": 198,
     "metadata": {},
     "output_type": "execute_result"
    }
   ],
   "source": [
    "superdoc_noemptylines[294:297]"
   ]
  },
  {
   "cell_type": "code",
   "execution_count": 159,
   "metadata": {},
   "outputs": [
    {
     "data": {
      "text/plain": [
       "1489"
      ]
     },
     "execution_count": 159,
     "metadata": {},
     "output_type": "execute_result"
    }
   ],
   "source": [
    "len(superdoc_noemptylines)"
   ]
  },
  {
   "cell_type": "code",
   "execution_count": 132,
   "metadata": {},
   "outputs": [
    {
     "data": {
      "text/plain": [
       "'NEW DELHI, India (CNN) -- A high court in northern India on Friday acquitted a wealthy businessman facing the death sentence for the killing of a teen in a case dubbed \"the house of horrors.\"\\n\\nMoninder Singh Pandher was sentenced to death by a lower court in February.\\n\\nThe teen was one of 19 victims -- children and young women -- in one of the most gruesome serial killings in India in recent years.\\n\\nThe Allahabad high court has acquitted Moninder Singh Pandher, his lawyer Sikandar B. Kochar told CNN.\\n\\nPandher and his domestic employee Surinder Koli were sentenced to death in February by a lower court for the rape and murder of the 14-year-old.\\n\\nThe high court upheld Koli  s death sentence, Kochar said.\\n\\nThe two were arrested two years ago after body parts packed in plastic bags were found near their home in Noida, a New Delhi suburb. Their home was later dubbed a \"house of horrors\" by the Indian media.\\n\\nPandher was not named a main suspect by investigators initially, but was summoned as co-accused during the trial, Kochar said.\\n\\nKochar said his client was in Australia when the teen was raped and killed.\\n\\nPandher faces trial in the remaining 18 killings and could remain in custody, the attorney said.\\n\\n@highlight\\n\\nCourt acquitted Moninder Singh Pandher for the killing of a teen\\n\\n@highlight\\n\\n14-year old was one of 19 children and young women murdered\\n\\n@highlight\\n\\nPandher and a domestic employee sentenced to death in February by lower court'"
      ]
     },
     "execution_count": 132,
     "metadata": {},
     "output_type": "execute_result"
    }
   ],
   "source": [
    "superdocument.replace(\"\\'\", \"  \")"
   ]
  },
  {
   "cell_type": "code",
   "execution_count": null,
   "metadata": {},
   "outputs": [],
   "source": [
    "#Archbishop Tutu story:\n",
    "'C:\\\\Users\\\\VLMF\\\\Desktop\\\\Project_W266\\\\qa_datasets_converter\\\\newsQA\\\\cnn_stories\\\\c65ed85800e4535f4bbbfa2c34d7d9630358d303.story'"
   ]
  },
  {
   "cell_type": "code",
   "execution_count": 106,
   "metadata": {},
   "outputs": [
    {
     "data": {
      "text/plain": [
       "'C:\\\\Users\\\\VLMF\\\\Desktop\\\\Project_W266\\\\qa_datasets_converter\\\\newsQA\\\\cnn_stories\\\\eb9177b8462d6c9d5ce0d99a36414a560d2e6d5c.story'"
      ]
     },
     "execution_count": 106,
     "metadata": {},
     "output_type": "execute_result"
    }
   ],
   "source": [
    "#Peres and Erdogan story:\n",
    "'C:\\\\Users\\\\VLMF\\\\Desktop\\\\Project_W266\\\\qa_datasets_converter\\\\newsQA\\\\cnn_stories\\\\eb9177b8462d6c9d5ce0d99a36414a560d2e6d5c.story'"
   ]
  },
  {
   "cell_type": "code",
   "execution_count": null,
   "metadata": {},
   "outputs": [],
   "source": [
    "#Indian murder:\n",
    "'C:\\\\Users\\\\VLMF\\\\Desktop\\\\Project_W266\\\\qa_datasets_converter\\\\newsQA\\\\cnn_stories\\\\42d01e187213e86f5fe617fe32e716ff7fa3afc4.story'"
   ]
  },
  {
   "cell_type": "code",
   "execution_count": null,
   "metadata": {},
   "outputs": [],
   "source": [
    "#Nigeria football game story:\n",
    "\"C:\\\\Users\\\\VLMF\\\\Desktop\\\\Project_W266\\\\qa_datasets_converter\\\\newsQA\\\\cnn_stories\\\\6011397b58f7f30ed13de7b9a282d475d963eba6.story\""
   ]
  }
 ],
 "metadata": {
  "kernelspec": {
   "display_name": "Python 3",
   "language": "python",
   "name": "python3"
  },
  "language_info": {
   "codemirror_mode": {
    "name": "ipython",
    "version": 3
   },
   "file_extension": ".py",
   "mimetype": "text/x-python",
   "name": "python",
   "nbconvert_exporter": "python",
   "pygments_lexer": "ipython3",
   "version": "3.7.5"
  }
 },
 "nbformat": 4,
 "nbformat_minor": 2
}
