{
 "cells": [
  {
   "cell_type": "code",
   "execution_count": 38,
   "metadata": {},
   "outputs": [],
   "source": [
    "import pandas as pd\n",
    "import json\n",
    "import pprint"
   ]
  },
  {
   "cell_type": "code",
   "execution_count": 34,
   "metadata": {},
   "outputs": [],
   "source": [
    "with open(\"Squad_train-v2.0.json\") as fp:\n",
    "    trainData = json.load(fp)"
   ]
  },
  {
   "cell_type": "code",
   "execution_count": 36,
   "metadata": {},
   "outputs": [
    {
     "data": {
      "text/plain": [
       "dict"
      ]
     },
     "execution_count": 36,
     "metadata": {},
     "output_type": "execute_result"
    }
   ],
   "source": [
    "type(trainData)"
   ]
  },
  {
   "cell_type": "code",
   "execution_count": 111,
   "metadata": {},
   "outputs": [],
   "source": [
    "def explore_dataset(write_text=False, ca=False, cp=False, cq=False):\n",
    "    if write_text:\n",
    "        fp = open(\"Squad_text\", 'w')\n",
    "    i = 0\n",
    "    total = 0\n",
    "    for article in trainData['data']:\n",
    "        i += 1\n",
    "        title = article['title']\n",
    "        pgs = len(article['paragraphs'])\n",
    "        if ca:\n",
    "            print(\"Article \\\"{}\\\" has {} paragraphs\".format(title, pgs))\n",
    "            #pprint.pprint(article)\n",
    "        for para in article['paragraphs']:\n",
    "            if cp:\n",
    "                pprint.pprint(para)\n",
    "            text = para['context']\n",
    "            if write_text:\n",
    "                fp.write(text)\n",
    "                fp.write(\"\\n\")\n",
    "            if cq:\n",
    "                pprint.pprint(text)\n",
    "            total += len(para['qas'])\n",
    "            qas = para['qas']\n",
    "            for entry in qas:\n",
    "                question = entry['question']\n",
    "                detail = entry['answers']\n",
    "                for e in detail:\n",
    "                    answer = e['text']\n",
    "                if cq:\n",
    "                    print(\"Question: {}, Answer: {}\".format(question, answer))\n",
    "            cq=False\n",
    "\n",
    "    print(\"{} articles, {} questions\".format(i, total))\n",
    "    if write_text:\n",
    "        fp.close()"
   ]
  },
  {
   "cell_type": "code",
   "execution_count": 112,
   "metadata": {},
   "outputs": [
    {
     "name": "stdout",
     "output_type": "stream",
     "text": [
      "('Beyoncé Giselle Knowles-Carter (/biːˈjɒnseɪ/ bee-YON-say) (born September 4, '\n",
      " '1981) is an American singer, songwriter, record producer and actress. Born '\n",
      " 'and raised in Houston, Texas, she performed in various singing and dancing '\n",
      " 'competitions as a child, and rose to fame in the late 1990s as lead singer '\n",
      " \"of R&B girl-group Destiny's Child. Managed by her father, Mathew Knowles, \"\n",
      " \"the group became one of the world's best-selling girl groups of all time. \"\n",
      " \"Their hiatus saw the release of Beyoncé's debut album, Dangerously in Love \"\n",
      " '(2003), which established her as a solo artist worldwide, earned five Grammy '\n",
      " 'Awards and featured the Billboard Hot 100 number-one singles \"Crazy in Love\" '\n",
      " 'and \"Baby Boy\".')\n",
      "Question: When did Beyonce start becoming popular?, Answer: in the late 1990s\n",
      "Question: What areas did Beyonce compete in when she was growing up?, Answer: singing and dancing\n",
      "Question: When did Beyonce leave Destiny's Child and become a solo singer?, Answer: 2003\n",
      "Question: In what city and state did Beyonce  grow up? , Answer: Houston, Texas\n",
      "Question: In which decade did Beyonce become famous?, Answer: late 1990s\n",
      "Question: In what R&B group was she the lead singer?, Answer: Destiny's Child\n",
      "Question: What album made her a worldwide known artist?, Answer: Dangerously in Love\n",
      "Question: Who managed the Destiny's Child group?, Answer: Mathew Knowles\n",
      "Question: When did Beyoncé rise to fame?, Answer: late 1990s\n",
      "Question: What role did Beyoncé have in Destiny's Child?, Answer: lead singer\n",
      "Question: What was the first album Beyoncé released as a solo artist?, Answer: Dangerously in Love\n",
      "Question: When did Beyoncé release Dangerously in Love?, Answer: 2003\n",
      "Question: How many Grammy awards did Beyoncé win for her first solo album?, Answer: five\n",
      "Question: What was Beyoncé's role in Destiny's Child?, Answer: lead singer\n",
      "Question: What was the name of Beyoncé's first solo album?, Answer: Dangerously in Love\n",
      "442 articles, 130319 questions\n"
     ]
    }
   ],
   "source": [
    "explore_dataset(write_text=False, ca=False, cp=False, cq=True)"
   ]
  },
  {
   "cell_type": "code",
   "execution_count": null,
   "metadata": {},
   "outputs": [],
   "source": []
  }
 ],
 "metadata": {
  "kernelspec": {
   "display_name": "Python 3",
   "language": "python",
   "name": "python3"
  },
  "language_info": {
   "codemirror_mode": {
    "name": "ipython",
    "version": 3
   },
   "file_extension": ".py",
   "mimetype": "text/x-python",
   "name": "python",
   "nbconvert_exporter": "python",
   "pygments_lexer": "ipython3",
   "version": "3.7.1"
  }
 },
 "nbformat": 4,
 "nbformat_minor": 2
}
