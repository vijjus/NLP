{
 "cells": [
  {
   "cell_type": "code",
   "execution_count": 22,
   "metadata": {},
   "outputs": [],
   "source": [
    "import json\n",
    "import pandas as pd\n",
    "import pprint\n",
    "import numpy as np\n",
    "from tqdm import tqdm_notebook\n",
    "import matplotlib.pyplot as plt"
   ]
  },
  {
   "cell_type": "code",
   "execution_count": 2,
   "metadata": {},
   "outputs": [],
   "source": [
    "ds = pd.read_csv(\"dataset/newsqa-data-tokenized-v1.csv\")"
   ]
  },
  {
   "cell_type": "code",
   "execution_count": 19,
   "metadata": {},
   "outputs": [],
   "source": [
    "with open(\"dataset/NewsQA_train.json\") as fp:\n",
    "    trainData = json.load(fp)"
   ]
  },
  {
   "cell_type": "code",
   "execution_count": 57,
   "metadata": {},
   "outputs": [],
   "source": [
    "with open(\"dataset/NewsQA_dev.json\") as fp:\n",
    "    devData = json.load(fp)"
   ]
  },
  {
   "cell_type": "code",
   "execution_count": 83,
   "metadata": {},
   "outputs": [],
   "source": [
    "def explore_dataset(data, write_text=False, ca=False, cp=False, cq=False):\n",
    "    newsqa_texts = []\n",
    "    questions = []\n",
    "    answers = []\n",
    "    if write_text:\n",
    "        fp = open(\"Squad_text\", 'w')\n",
    "    i = 0\n",
    "    total = 0\n",
    "    for article in data['data']:\n",
    "        i += 1\n",
    "        title = article['title']\n",
    "        pgs = len(article['paragraphs'])\n",
    "        if ca:\n",
    "            print(\"Article \\\"{}\\\" has {} paragraphs\".format(title, pgs))\n",
    "            #pprint.pprint(article)\n",
    "        for para in article['paragraphs']:\n",
    "            if cp:\n",
    "                pprint.pprint(para)\n",
    "            text = para['context']\n",
    "            newsqa_texts.append(text)\n",
    "            if write_text:\n",
    "                fp.write(text)\n",
    "                fp.write(\"\\n\")\n",
    "            if cq:\n",
    "                pprint.pprint(text)\n",
    "            total += len(para['qas'])\n",
    "            qas = para['qas']\n",
    "            for entry in qas:\n",
    "                question = entry['question']\n",
    "                questions.append(question)\n",
    "                detail = entry['answers']\n",
    "                for e in detail:\n",
    "                    answer = e['text']\n",
    "                    answers.append(answer)\n",
    "                if cq:\n",
    "                    print(\"Question: {}, Answer: {}\".format(question, answer))\n",
    "            cq=False\n",
    "\n",
    "    print(\"{} articles, {} questions\".format(i, total))\n",
    "    if write_text:\n",
    "        fp.close()\n",
    "    return newsqa_texts, questions, answers"
   ]
  },
  {
   "cell_type": "code",
   "execution_count": 84,
   "metadata": {},
   "outputs": [
    {
     "name": "stdout",
     "output_type": "stream",
     "text": [
      "('NEW DELHI, India (CNN) -- A high court in northern India on Friday acquitted '\n",
      " 'a wealthy businessman facing the death sentence for the killing of a teen in '\n",
      " 'a case dubbed \"the house of horrors.\"\\n'\n",
      " '\\n'\n",
      " '\\n'\n",
      " '\\n'\n",
      " 'Moninder Singh Pandher was sentenced to death by a lower court in February.\\n'\n",
      " '\\n'\n",
      " '\\n'\n",
      " '\\n'\n",
      " 'The teen was one of 19 victims -- children and young women -- in one of the '\n",
      " 'most gruesome serial killings in India in recent years.\\n'\n",
      " '\\n'\n",
      " '\\n'\n",
      " '\\n'\n",
      " 'The Allahabad high court has acquitted Moninder Singh Pandher, his lawyer '\n",
      " 'Sikandar B. Kochar told CNN.\\n'\n",
      " '\\n'\n",
      " '\\n'\n",
      " '\\n'\n",
      " 'Pandher and his domestic employee Surinder Koli were sentenced to death in '\n",
      " 'February by a lower court for the rape and murder of the 14-year-old.\\n'\n",
      " '\\n'\n",
      " '\\n'\n",
      " '\\n'\n",
      " \"The high court upheld Koli's death sentence, Kochar said.\\n\"\n",
      " '\\n'\n",
      " '\\n'\n",
      " '\\n'\n",
      " 'The two were arrested two years ago after body parts packed in plastic bags '\n",
      " 'were found near their home in Noida, a New Delhi suburb. Their home was '\n",
      " 'later dubbed a \"house of horrors\" by the Indian media.\\n'\n",
      " '\\n'\n",
      " '\\n'\n",
      " '\\n'\n",
      " 'Pandher was not named a main suspect by investigators initially, but was '\n",
      " 'summoned as co-accused during the trial, Kochar said.\\n'\n",
      " '\\n'\n",
      " '\\n'\n",
      " '\\n'\n",
      " 'Kochar said his client was in Australia when the teen was raped and killed.\\n'\n",
      " '\\n'\n",
      " '\\n'\n",
      " '\\n'\n",
      " 'Pandher faces trial in the remaining 18 killings and could remain in '\n",
      " 'custody, the attorney said.')\n",
      "Question: What was the amount of children murdered?, Answer: 19\n",
      "Question: When was Pandher sentenced to death?, Answer: February.\n",
      "Question: The court aquitted Moninder Singh Pandher of what crime?, Answer: rape and murder\n",
      "Question: who was acquitted, Answer: Moninder Singh Pandher\n",
      "Question: who was sentenced, Answer: Moninder Singh Pandher\n",
      "Question: What was Moninder Singh Pandher acquitted for?, Answer: the killing of a teen\n",
      "Question: Who was sentenced to death in February?, Answer: Moninder Singh Pandher\n",
      "Question: how many people died, Answer: 19\n",
      "Question: How many children and young women were murdered?, Answer: 19\n",
      "11428 articles, 74160 questions\n"
     ]
    }
   ],
   "source": [
    "train_texts, train_questions, train_answers = explore_dataset(trainData, write_text=False, ca=False, cp=False, cq=True)"
   ]
  },
  {
   "cell_type": "code",
   "execution_count": 85,
   "metadata": {},
   "outputs": [],
   "source": [
    "train_alens = [len(x.split(' ')) for x in train_answers]"
   ]
  },
  {
   "cell_type": "code",
   "execution_count": 86,
   "metadata": {},
   "outputs": [
    {
     "data": {
      "text/plain": [
       "87"
      ]
     },
     "execution_count": 86,
     "metadata": {},
     "output_type": "execute_result"
    }
   ],
   "source": [
    "np.max(train_alens)"
   ]
  },
  {
   "cell_type": "code",
   "execution_count": 75,
   "metadata": {},
   "outputs": [],
   "source": [
    "train_qlens = [len(x.split(' ')) for x in train_questions]"
   ]
  },
  {
   "cell_type": "code",
   "execution_count": 76,
   "metadata": {},
   "outputs": [
    {
     "data": {
      "text/plain": [
       "2"
      ]
     },
     "execution_count": 76,
     "metadata": {},
     "output_type": "execute_result"
    }
   ],
   "source": [
    "np.min(train_qlens)"
   ]
  },
  {
   "cell_type": "code",
   "execution_count": 77,
   "metadata": {},
   "outputs": [
    {
     "data": {
      "text/plain": [
       "127"
      ]
     },
     "execution_count": 77,
     "metadata": {},
     "output_type": "execute_result"
    }
   ],
   "source": [
    "np.max(train_qlens)"
   ]
  },
  {
   "cell_type": "code",
   "execution_count": 78,
   "metadata": {},
   "outputs": [
    {
     "data": {
      "text/plain": [
       "6.0"
      ]
     },
     "execution_count": 78,
     "metadata": {},
     "output_type": "execute_result"
    }
   ],
   "source": [
    "np.median(train_qlens)"
   ]
  },
  {
   "cell_type": "code",
   "execution_count": 61,
   "metadata": {},
   "outputs": [],
   "source": [
    "train_lengths = [len(x.split(' ')) for x in train_texts]"
   ]
  },
  {
   "cell_type": "code",
   "execution_count": 62,
   "metadata": {},
   "outputs": [
    {
     "data": {
      "text/plain": [
       "11"
      ]
     },
     "execution_count": 62,
     "metadata": {},
     "output_type": "execute_result"
    }
   ],
   "source": [
    "np.min(train_lengths)"
   ]
  },
  {
   "cell_type": "code",
   "execution_count": 63,
   "metadata": {},
   "outputs": [
    {
     "data": {
      "text/plain": [
       "718"
      ]
     },
     "execution_count": 63,
     "metadata": {},
     "output_type": "execute_result"
    }
   ],
   "source": [
    "np.max(train_lengths)"
   ]
  },
  {
   "cell_type": "code",
   "execution_count": 64,
   "metadata": {},
   "outputs": [
    {
     "data": {
      "text/plain": [
       "549.0"
      ]
     },
     "execution_count": 64,
     "metadata": {},
     "output_type": "execute_result"
    }
   ],
   "source": [
    "np.median(train_lengths)"
   ]
  },
  {
   "cell_type": "code",
   "execution_count": 87,
   "metadata": {},
   "outputs": [
    {
     "name": "stdout",
     "output_type": "stream",
     "text": [
      "('(CNN) -- What could be more powerful than the tears of a Native American '\n",
      " 'Indian?\\n'\n",
      " '\\n'\n",
      " '\\n'\n",
      " '\\n'\n",
      " 'Wax on, wax off: Does it make you want to save the rainforests?\\n'\n",
      " '\\n'\n",
      " '\\n'\n",
      " '\\n'\n",
      " 'Iron Eyes Cody was the face of the Keep American Beautiful campaign of 1971 '\n",
      " 'whose tears marked the plight of the environment, but more importantly kept '\n",
      " 'the problems of pollution in the minds of millions.\\n'\n",
      " '\\n'\n",
      " '\\n'\n",
      " '\\n'\n",
      " 'From teary Native Americans to witty skits or doom-ladened eco-horror '\n",
      " 'scenarios, the environmental campaign video then has long been a powerful '\n",
      " 'tool for environmental groups to spread their message and raise pubic '\n",
      " 'attention.\\n'\n",
      " '\\n'\n",
      " '\\n'\n",
      " '\\n'\n",
      " 'The rise of YouTube and other video sharing web sites has now meant that '\n",
      " 'individuals can broadcast their own eco-awareness messages and form their '\n",
      " 'own social action networks.\\n'\n",
      " '\\n'\n",
      " '\\n'\n",
      " '\\n'\n",
      " 'But what makes a good video and how much impact do they have? Is it better '\n",
      " 'to be funny or shocking? When you see Harrison Ford getting his chest waxed, '\n",
      " 'do you immediately think about saving the rainforests?\\n'\n",
      " '\\n'\n",
      " '\\n'\n",
      " '\\n'\n",
      " 'Or does the sight of celebrity pontificating about the plight of the '\n",
      " 'environment make you want to watch their next film rather calculate your '\n",
      " 'carbon footprint.\\n'\n",
      " '\\n'\n",
      " '\\n'\n",
      " '\\n'\n",
      " \"We've featured three different videos that we like and want to know which \"\n",
      " 'ones you think are the best.  Watch the featured videos »\\n'\n",
      " '\\n'\n",
      " '\\n'\n",
      " '\\n'\n",
      " 'Let us know which eco videos have got you going by using the Sound Off box '\n",
      " 'below. Or, e-mail us at ecosolutions@cnn.com.\\n'\n",
      " '\\n'\n",
      " '\\n'\n",
      " '\\n'\n",
      " \"We also want to feature your own environmental videos here on CNN's Eco \"\n",
      " 'Solutions. Use the iReport form to send in your film and you could find your '\n",
      " \"environmental efforts make even more impact than Harrison Ford's chest.\")\n",
      "Question: What will be nominated?, Answer: three different videos\n",
      "Question: What does the Harrison Ford video feature?, Answer: getting his chest waxed,\n",
      "Question: What videos will you send?, Answer: environmental\n",
      "Question: What is Ford getting waxed?, Answer: his chest\n",
      "Question: Who got his chest waxed?, Answer: Harrison Ford\n",
      "Question: How do you send in your video?, Answer: Use the iReport form\n",
      "Question: What type of videos should you nominate?, Answer: think are the best.\n",
      "638 articles, 4212 questions\n"
     ]
    }
   ],
   "source": [
    "dev_texts, dev_answers, dev_qs = explore_dataset(devData, write_text=False, ca=False, cp=False, cq=True)"
   ]
  },
  {
   "cell_type": "code",
   "execution_count": 88,
   "metadata": {},
   "outputs": [],
   "source": [
    "dev_alens = [len(x.split(' ')) for x in dev_answers]"
   ]
  },
  {
   "cell_type": "code",
   "execution_count": 89,
   "metadata": {},
   "outputs": [
    {
     "data": {
      "text/plain": [
       "2"
      ]
     },
     "execution_count": 89,
     "metadata": {},
     "output_type": "execute_result"
    }
   ],
   "source": [
    "np.min(dev_alens)"
   ]
  },
  {
   "cell_type": "code",
   "execution_count": 90,
   "metadata": {},
   "outputs": [
    {
     "data": {
      "text/plain": [
       "23"
      ]
     },
     "execution_count": 90,
     "metadata": {},
     "output_type": "execute_result"
    }
   ],
   "source": [
    "np.max(dev_alens)"
   ]
  },
  {
   "cell_type": "code",
   "execution_count": 91,
   "metadata": {},
   "outputs": [
    {
     "data": {
      "text/plain": [
       "6.0"
      ]
     },
     "execution_count": 91,
     "metadata": {},
     "output_type": "execute_result"
    }
   ],
   "source": [
    "np.median(dev_alens)"
   ]
  },
  {
   "cell_type": "code",
   "execution_count": 92,
   "metadata": {},
   "outputs": [],
   "source": [
    "dev_qlens = [len(x.split(' ')) for x in dev_qs]"
   ]
  },
  {
   "cell_type": "code",
   "execution_count": 93,
   "metadata": {},
   "outputs": [
    {
     "data": {
      "text/plain": [
       "43"
      ]
     },
     "execution_count": 93,
     "metadata": {},
     "output_type": "execute_result"
    }
   ],
   "source": [
    "np.max(dev_qlens)"
   ]
  },
  {
   "cell_type": "code",
   "execution_count": 68,
   "metadata": {},
   "outputs": [],
   "source": [
    "dev_lengths = [len(x.split(' ')) for x in dev_texts]"
   ]
  },
  {
   "cell_type": "code",
   "execution_count": 69,
   "metadata": {},
   "outputs": [
    {
     "data": {
      "text/plain": [
       "104"
      ]
     },
     "execution_count": 69,
     "metadata": {},
     "output_type": "execute_result"
    }
   ],
   "source": [
    "np.min(dev_lengths)"
   ]
  },
  {
   "cell_type": "code",
   "execution_count": 70,
   "metadata": {},
   "outputs": [
    {
     "data": {
      "text/plain": [
       "696"
      ]
     },
     "execution_count": 70,
     "metadata": {},
     "output_type": "execute_result"
    }
   ],
   "source": [
    "np.max(dev_lengths)"
   ]
  },
  {
   "cell_type": "code",
   "execution_count": 71,
   "metadata": {},
   "outputs": [
    {
     "data": {
      "text/plain": [
       "549.0"
      ]
     },
     "execution_count": 71,
     "metadata": {},
     "output_type": "execute_result"
    }
   ],
   "source": [
    "np.median(dev_lengths)"
   ]
  },
  {
   "cell_type": "code",
   "execution_count": 3,
   "metadata": {},
   "outputs": [
    {
     "data": {
      "text/plain": [
       "119633"
      ]
     },
     "execution_count": 3,
     "metadata": {},
     "output_type": "execute_result"
    }
   ],
   "source": [
    "len(ds)"
   ]
  },
  {
   "cell_type": "code",
   "execution_count": 4,
   "metadata": {},
   "outputs": [],
   "source": [
    "ds = ds.drop(columns=['answer_char_ranges','sentence_starts','is_answer_absent','is_question_bad'])"
   ]
  },
  {
   "cell_type": "code",
   "execution_count": 5,
   "metadata": {},
   "outputs": [
    {
     "data": {
      "text/html": [
       "<div>\n",
       "<style scoped>\n",
       "    .dataframe tbody tr th:only-of-type {\n",
       "        vertical-align: middle;\n",
       "    }\n",
       "\n",
       "    .dataframe tbody tr th {\n",
       "        vertical-align: top;\n",
       "    }\n",
       "\n",
       "    .dataframe thead th {\n",
       "        text-align: right;\n",
       "    }\n",
       "</style>\n",
       "<table border=\"1\" class=\"dataframe\">\n",
       "  <thead>\n",
       "    <tr style=\"text-align: right;\">\n",
       "      <th></th>\n",
       "      <th>story_id</th>\n",
       "      <th>question</th>\n",
       "      <th>story_text</th>\n",
       "      <th>answer_token_ranges</th>\n",
       "    </tr>\n",
       "  </thead>\n",
       "  <tbody>\n",
       "    <tr>\n",
       "      <th>0</th>\n",
       "      <td>./cnn/stories/42d01e187213e86f5fe617fe32e716ff...</td>\n",
       "      <td>What was the amount of children murdered ?</td>\n",
       "      <td>NEW DELHI , India -LRB- CNN -RRB- -- A high co...</td>\n",
       "      <td>60:61</td>\n",
       "    </tr>\n",
       "    <tr>\n",
       "      <th>1</th>\n",
       "      <td>./cnn/stories/c48228a52f26aca65c31fad273e66164...</td>\n",
       "      <td>Where was one employee killed ?</td>\n",
       "      <td>-LRB- CNN -RRB- -- Fighting in the volatile Su...</td>\n",
       "      <td>8:12</td>\n",
       "    </tr>\n",
       "    <tr>\n",
       "      <th>2</th>\n",
       "      <td>./cnn/stories/c65ed85800e4535f4bbbfa2c34d7d963...</td>\n",
       "      <td>who did say South Africa did not issue a visa ...</td>\n",
       "      <td>Johannesburg -LRB- CNN -RRB- -- Miffed by a vi...</td>\n",
       "      <td>23:26</td>\n",
       "    </tr>\n",
       "    <tr>\n",
       "      <th>3</th>\n",
       "      <td>./cnn/stories/0cf66b646e9b32076513c050edf32a79...</td>\n",
       "      <td>How many years old was the businessman ?</td>\n",
       "      <td>-LRB- CNN -RRB- -- England international footb...</td>\n",
       "      <td>97:98</td>\n",
       "    </tr>\n",
       "    <tr>\n",
       "      <th>4</th>\n",
       "      <td>./cnn/stories/13012604e3203c18df09289dfedd14cd...</td>\n",
       "      <td>What frightened the families ?</td>\n",
       "      <td>BAGHDAD , Iraq -LRB- CNN -RRB- -- At least 6,0...</td>\n",
       "      <td>125:143</td>\n",
       "    </tr>\n",
       "  </tbody>\n",
       "</table>\n",
       "</div>"
      ],
      "text/plain": [
       "                                            story_id  \\\n",
       "0  ./cnn/stories/42d01e187213e86f5fe617fe32e716ff...   \n",
       "1  ./cnn/stories/c48228a52f26aca65c31fad273e66164...   \n",
       "2  ./cnn/stories/c65ed85800e4535f4bbbfa2c34d7d963...   \n",
       "3  ./cnn/stories/0cf66b646e9b32076513c050edf32a79...   \n",
       "4  ./cnn/stories/13012604e3203c18df09289dfedd14cd...   \n",
       "\n",
       "                                            question  \\\n",
       "0         What was the amount of children murdered ?   \n",
       "1                    Where was one employee killed ?   \n",
       "2  who did say South Africa did not issue a visa ...   \n",
       "3           How many years old was the businessman ?   \n",
       "4                     What frightened the families ?   \n",
       "\n",
       "                                          story_text answer_token_ranges  \n",
       "0  NEW DELHI , India -LRB- CNN -RRB- -- A high co...               60:61  \n",
       "1  -LRB- CNN -RRB- -- Fighting in the volatile Su...                8:12  \n",
       "2  Johannesburg -LRB- CNN -RRB- -- Miffed by a vi...               23:26  \n",
       "3  -LRB- CNN -RRB- -- England international footb...               97:98  \n",
       "4  BAGHDAD , Iraq -LRB- CNN -RRB- -- At least 6,0...             125:143  "
      ]
     },
     "execution_count": 5,
     "metadata": {},
     "output_type": "execute_result"
    }
   ],
   "source": [
    "ds.head()"
   ]
  },
  {
   "cell_type": "markdown",
   "metadata": {},
   "source": [
    "## Multiple Answers ##\n",
    "\n",
    "Some entries have multiple entries in the **answer_token_ranges** column. Also, some **answer_token_ranges** don't specify a legal span (start == end). We drop these questions."
   ]
  },
  {
   "cell_type": "code",
   "execution_count": 6,
   "metadata": {},
   "outputs": [
    {
     "data": {
      "application/vnd.jupyter.widget-view+json": {
       "model_id": "dc5885252d584471a4e4a34e12b39f55",
       "version_major": 2,
       "version_minor": 0
      },
      "text/plain": [
       "HBox(children=(IntProgress(value=0, max=119633), HTML(value='')))"
      ]
     },
     "metadata": {},
     "output_type": "display_data"
    },
    {
     "name": "stdout",
     "output_type": "stream",
     "text": [
      "\n",
      "20349 entries were skipped\n"
     ]
    }
   ],
   "source": [
    "verbose = False\n",
    "total_stories = len(ds)\n",
    "num_removed = 0\n",
    "text_tokens = 445\n",
    "rows2drop = []\n",
    "\n",
    "for i in tqdm_notebook(range(total_stories)):\n",
    "    \n",
    "    entry = ds.iloc[i]\n",
    "\n",
    "    story_text = entry.story_text\n",
    "    \n",
    "    # Use basic space tokenization to pick out words for text & question\n",
    "    story_tokens = [t for t in story_text.split(\" \")]\n",
    "    question = entry.question\n",
    "    \n",
    "    # Some questions are not strings!!\n",
    "    if type(question) != str:\n",
    "        num_removed += 1\n",
    "        rows2drop.append(i)\n",
    "        continue\n",
    "        \n",
    "    question_tokens = [t for t in question.split(\" \")]\n",
    "    \n",
    "    # Skip if there are more than 64 tokens in the question\n",
    "    if len(question_tokens) > 64:\n",
    "        num_removed += 1\n",
    "        rows2drop.append(i)\n",
    "        continue\n",
    "    \n",
    "    ars = entry.answer_token_ranges\n",
    "    \n",
    "    # There seem to be multiple answers here\n",
    "    if ',' in ars:\n",
    "        num_removed += 1\n",
    "        rows2drop.append(i)\n",
    "        continue\n",
    "    \n",
    "    # Identify start & end of answer (span)\n",
    "    at = [int(t) for t in ars.split(\":\")]\n",
    "    start = at[0]\n",
    "    end = at[1]\n",
    "    \n",
    "    # There is no answer\n",
    "    if start == end:\n",
    "        num_removed += 1\n",
    "        rows2drop.append(i)\n",
    "        continue\n",
    "\n",
    "    # Construct the original answer\n",
    "    answer = ' '.join(story_tokens[start:end])\n",
    "    ds.at[i, 'original_answer'] = answer\n",
    "    \n",
    "    # If the original story is greater than 445 (512 - 64 - 3 [CLS], [SEP], [CLS])\n",
    "    # adjust it so that it fits\n",
    "    if len(story_tokens) < text_tokens:\n",
    "        ds.at[i, 'story_text'] = ' '.join(story_tokens)\n",
    "    elif len(story_tokens) > 445 and end < 445:\n",
    "        story_tokens = story_tokens[:445]\n",
    "        new_story = ' '.join(story_tokens)\n",
    "        ds.at[i, 'story_text'] = new_story\n",
    "    else:\n",
    "        # Adjust the entries with long text and long answers\n",
    "        o_s = start\n",
    "        o_e = end\n",
    "        o_l = len(story_tokens)\n",
    "        while end > 445:\n",
    "            start -= 32\n",
    "            end -= 32\n",
    "            story_tokens = story_tokens[32:]\n",
    "        if len(story_tokens) > 445:\n",
    "            story_tokens = story_tokens[:445]\n",
    "            new_story = ' '.join(story_tokens)\n",
    "            ds.at[i, 'story_text'] = new_story\n",
    "        ds.at[i, 'answer_token_ranges'] = str(start) + ':' + str(end)\n",
    "        if verbose:\n",
    "            print(\"From {}:{} [{}] to {}:{} [{}]\".format(o_s,o_e,o_l,start,end,len(story_tokens)))\n",
    "        # verify that the answer remains the same\n",
    "            new_answer = ' '.join(story_tokens[start:end])\n",
    "            if new_answer != answer:\n",
    "                print(\"{} vs {}\".format(answer, new_answer))\n",
    "                assert(answer == new_answer)\n",
    "    \n",
    "    # Create the story id\n",
    "    story_id = entry.story_id\n",
    "    ds.at[i, 'story_id'] = entry.story_id.strip('./cnn/stories/')\n",
    "    \n",
    "ds = ds.drop(rows2drop, axis=0)\n",
    "print(\"{} entries were skipped\".format(num_removed))"
   ]
  },
  {
   "cell_type": "code",
   "execution_count": 7,
   "metadata": {},
   "outputs": [
    {
     "data": {
      "text/html": [
       "<div>\n",
       "<style scoped>\n",
       "    .dataframe tbody tr th:only-of-type {\n",
       "        vertical-align: middle;\n",
       "    }\n",
       "\n",
       "    .dataframe tbody tr th {\n",
       "        vertical-align: top;\n",
       "    }\n",
       "\n",
       "    .dataframe thead th {\n",
       "        text-align: right;\n",
       "    }\n",
       "</style>\n",
       "<table border=\"1\" class=\"dataframe\">\n",
       "  <thead>\n",
       "    <tr style=\"text-align: right;\">\n",
       "      <th></th>\n",
       "      <th>story_id</th>\n",
       "      <th>question</th>\n",
       "      <th>story_text</th>\n",
       "      <th>answer_token_ranges</th>\n",
       "      <th>original_answer</th>\n",
       "    </tr>\n",
       "  </thead>\n",
       "  <tbody>\n",
       "    <tr>\n",
       "      <th>0</th>\n",
       "      <td>42d01e187213e86f5fe617fe32e716ff7fa3afc4.story</td>\n",
       "      <td>What was the amount of children murdered ?</td>\n",
       "      <td>NEW DELHI , India -LRB- CNN -RRB- -- A high co...</td>\n",
       "      <td>60:61</td>\n",
       "      <td>19</td>\n",
       "    </tr>\n",
       "    <tr>\n",
       "      <th>1</th>\n",
       "      <td>48228a52f26aca65c31fad273e66164f047f292.story</td>\n",
       "      <td>Where was one employee killed ?</td>\n",
       "      <td>-LRB- CNN -RRB- -- Fighting in the volatile Su...</td>\n",
       "      <td>8:12</td>\n",
       "      <td>Sudanese region of Darfur</td>\n",
       "    </tr>\n",
       "    <tr>\n",
       "      <th>2</th>\n",
       "      <td>65ed85800e4535f4bbbfa2c34d7d9630358d303.story</td>\n",
       "      <td>who did say South Africa did not issue a visa ...</td>\n",
       "      <td>Johannesburg -LRB- CNN -RRB- -- Miffed by a vi...</td>\n",
       "      <td>23:26</td>\n",
       "      <td>Archbishop Desmond Tutu</td>\n",
       "    </tr>\n",
       "    <tr>\n",
       "      <th>3</th>\n",
       "      <td>0cf66b646e9b32076513c050edf32a799200c3c2.story</td>\n",
       "      <td>How many years old was the businessman ?</td>\n",
       "      <td>-LRB- CNN -RRB- -- England international footb...</td>\n",
       "      <td>97:98</td>\n",
       "      <td>29-year-old</td>\n",
       "    </tr>\n",
       "    <tr>\n",
       "      <th>4</th>\n",
       "      <td>13012604e3203c18df09289dfedd14cde67cf40b.story</td>\n",
       "      <td>What frightened the families ?</td>\n",
       "      <td>BAGHDAD , Iraq -LRB- CNN -RRB- -- At least 6,0...</td>\n",
       "      <td>125:143</td>\n",
       "      <td>a series of killings and threats by Muslim ext...</td>\n",
       "    </tr>\n",
       "  </tbody>\n",
       "</table>\n",
       "</div>"
      ],
      "text/plain": [
       "                                         story_id  \\\n",
       "0  42d01e187213e86f5fe617fe32e716ff7fa3afc4.story   \n",
       "1   48228a52f26aca65c31fad273e66164f047f292.story   \n",
       "2   65ed85800e4535f4bbbfa2c34d7d9630358d303.story   \n",
       "3  0cf66b646e9b32076513c050edf32a799200c3c2.story   \n",
       "4  13012604e3203c18df09289dfedd14cde67cf40b.story   \n",
       "\n",
       "                                            question  \\\n",
       "0         What was the amount of children murdered ?   \n",
       "1                    Where was one employee killed ?   \n",
       "2  who did say South Africa did not issue a visa ...   \n",
       "3           How many years old was the businessman ?   \n",
       "4                     What frightened the families ?   \n",
       "\n",
       "                                          story_text answer_token_ranges  \\\n",
       "0  NEW DELHI , India -LRB- CNN -RRB- -- A high co...               60:61   \n",
       "1  -LRB- CNN -RRB- -- Fighting in the volatile Su...                8:12   \n",
       "2  Johannesburg -LRB- CNN -RRB- -- Miffed by a vi...               23:26   \n",
       "3  -LRB- CNN -RRB- -- England international footb...               97:98   \n",
       "4  BAGHDAD , Iraq -LRB- CNN -RRB- -- At least 6,0...             125:143   \n",
       "\n",
       "                                     original_answer  \n",
       "0                                                 19  \n",
       "1                          Sudanese region of Darfur  \n",
       "2                            Archbishop Desmond Tutu  \n",
       "3                                        29-year-old  \n",
       "4  a series of killings and threats by Muslim ext...  "
      ]
     },
     "execution_count": 7,
     "metadata": {},
     "output_type": "execute_result"
    }
   ],
   "source": [
    "ds.head()"
   ]
  },
  {
   "cell_type": "code",
   "execution_count": 8,
   "metadata": {},
   "outputs": [
    {
     "data": {
      "text/plain": [
       "99284"
      ]
     },
     "execution_count": 8,
     "metadata": {},
     "output_type": "execute_result"
    }
   ],
   "source": [
    "len(ds)"
   ]
  },
  {
   "cell_type": "code",
   "execution_count": 9,
   "metadata": {},
   "outputs": [],
   "source": [
    "ds.to_json(\"newsqa_clean.json\")"
   ]
  },
  {
   "cell_type": "markdown",
   "metadata": {},
   "source": [
    "Let's look at the first one in detail."
   ]
  },
  {
   "cell_type": "code",
   "execution_count": 25,
   "metadata": {},
   "outputs": [],
   "source": [
    "class color:\n",
    "    PURPLE = '\\033[95m'\n",
    "    CYAN = '\\033[96m'\n",
    "    DARKCYAN = '\\033[36m'\n",
    "    BLUE = '\\033[94m'\n",
    "    GREEN = '\\033[92m'\n",
    "    YELLOW = '\\033[93m'\n",
    "    RED = '\\033[91m'\n",
    "    BOLD = '\\033[1m'\n",
    "    UNDERLINE = '\\033[4m'\n",
    "    END = '\\033[0m'\n",
    "    \n",
    "def show_ds_entry(num):\n",
    "    if num > len(ds):\n",
    "        print(\"Invalid number..\")\n",
    "        return\n",
    "    entry = ds.iloc[num]\n",
    "    print(color.BOLD + \"Story:\" + color.END)\n",
    "    print(\"\\t{}\".format(entry.story_text))\n",
    "    print(color.BOLD + \"Question:\" + color.END)\n",
    "    print(\"\\t{}\".format(entry.question))\n",
    "    story_tokens = entry.story_text.split(\" \")\n",
    "    answers = entry.answer_token_ranges.split(\",\")\n",
    "    print(color.BOLD + \"Answer(s):\" + color.END)\n",
    "    for i, answer in enumerate(answers):\n",
    "        at = [int(t) for t in answer.split(\":\")]\n",
    "        print(\"[{}] {} @ {}\".format(i, ' '.join(story_tokens[at[0]:at[1]]), at[0]))"
   ]
  },
  {
   "cell_type": "code",
   "execution_count": 26,
   "metadata": {},
   "outputs": [
    {
     "name": "stdout",
     "output_type": "stream",
     "text": [
      "\u001b[1mStory:\u001b[0m\n",
      "\t-LRB- CNN -RRB- -- When Kellogg 's dumped its endorsement of Michael Phelps after a photograph surfaced of the Olympic gold medalist using a bong , the company was stuck with thousands of boxes of cereal featuring the swimmer 's image . Kellogg 's ended its Michael Phelps endorsement , so it sent two tons of cereal with his face on it to a food bank . No problem . The company , based in Battle Creek , Michigan , made short order of the already-printed and filled boxes , donating two tons of cereal to the San Francisco Food Bank late last month . With food banks across the country reporting shortages of food , the donation was a welcome one , said the food bank 's director of development , Christopher Wiley . It took only two weeks for about 3,000 boxes to move through warehouse . '' Thousands of families benefited from the donation '' Wiley said . `` It was a surprise to us . We were lacking a lot of cereal . It is a great product many low-income families really need . '' `` The real story for us was not the box but what 's inside the box . The food is so valuable for the community . It 's making good from bad , '' Wiley said . The food bank has seen a 6 percent increase in its customer base since the beginning of the year , he said . Phelps , 23 , won a record eight gold medals at the 2008 Olympic Games in Beijing , China . He admitted `` regrettable behavior '' after a British newspaper published the controversial photograph in early February . The tabloid News of the World showed Phelps using the bong during what it said was a November party at the University of South Carolina in Columbia . A bong is a device commonly used to smoke marijuana . The Phelps box attracted considerable attention to the food bank . Administrators received several calls from people wanting to get the box as a novelty item . But , said Wiley , all the cereal went to food bank customers . Kellogg 's was the only one of Phelps sponsors to drop the athlete , although U.S.A. Swimming , the nation 's governing body for competitive swimming , suspended him for three months , withdrew financial support and barred him from competition during the period of his `` reprimand . '' CNN 's Jackie Castillo and Mayra Cuevas contributed to this report .\n",
      "\u001b[1mQuestion:\u001b[0m\n",
      "\tHow many boxes were donated ?\n",
      "\u001b[1mAnswer(s):\u001b[0m\n",
      "[0] With food banks across the country reporting shortages of food , the donation was a welcome one @ 105\n",
      "[1] 3,000 @ 142\n",
      "[2] Thousands of families benefited from the donation @ 150\n"
     ]
    }
   ],
   "source": [
    "show_ds_entry(23)"
   ]
  },
  {
   "cell_type": "code",
   "execution_count": 27,
   "metadata": {},
   "outputs": [
    {
     "name": "stdout",
     "output_type": "stream",
     "text": [
      "\u001b[1mStory:\u001b[0m\n",
      "\t-LRB- CNN -RRB- -- A 14-year-old Filipino-American boy abducted in July by suspected Islamic militants in the Philippines is free , officials said . Kevin Lunsmann was reunited with his mother , the U.S. Embassy in Manila said Monday , without offering additional details . '' It was a tough time . It was a tough five months , '' Kevin 's father , Heiko , told CNN affiliate WSET , from the family home in Lynchburg , Virginia . '' I 'm just so happy . '' Heiko Lunsmann said the boy had plotted his escape for a while and eventually seized the opportunity some time late last week while his guards slept . He `` was spotted alone '' Saturday about six miles southwest of Lamitan City on the island of Basilan , a stronghold of the Islamic militant group Abu Sayyaf , the official Philippines News Agency said . Army officials turned him over to American forces in the southern Mindanao region , the Philippine government said in a statement to CNN affiliate TV 5 . The Philippine Inquirer quoted the Lamitan city mayor , Roderick Furigay , as saying Kevin walked for two days , surviving on candies his captors presumably gave him and on coconuts that he retrieved by climbing trees . `` In this holiday season nothing makes me happier than knowing that an innocent victim is returned to his family in time for holiday celebrations , '' Harry Thomas , the U.S. ambassador to the Philippines , said in a weekend statement . `` If ever we are to be inspired by the human spirit , we should take comfort in the courage , commitment and love that the Lunsmann family exhibited during this trying ordeal , '' Thomas added . Fourteen gunmen snatched Kevin , his mother , Gerfa Yeatts Lunsmann , and his 19-year-old cousin , Romnick Jakaria , in July while they vacationed on the island of Tictabon , authorities said . The abductors forced them to board awaiting boats , which then sped off in the direction of Basilan . Kevin 's mother was released by her captors in October . Jakaria was released last month , according to the news agency . Basilan serves as a base for Abu Sayyaf , which wants to establish a separate state for the Philippines ' minority Muslim population . The U.S. State Department considers the group a terrorist organization and says it is linked to al Qaeda . The Philippines government has been fighting to contain the militants . Abu Sayyaf has been blamed for several terrorist attacks in the Philippines , including the bombing of a ferry in 2004 that left about 130 people dead , as well as past kidnappings . Basilan 's governor called on authorities Sunday to prosecute the alleged kidnappers of the Lunsmann family , according to the news agency . `` The prosecution of kidnappers by a court of law will put a stop to kidnappings , '' the news agency quoted Jum Akbar as saying . Thomas , the U.S. ambassador , said the crime will not go `` unpunished . '' Gerfa Lunsmann was adopted by Americans when she was 9 and grew up in Virginia . She eventually married a German citizen . Both she and the son , Kevin , are U.S. passport holders . Kevin 's father told WSET that the boy will eventually share his story of escape , but did not say when . `` I can tell you a lot of things , but I only know that he is a hero , '' he said . Read more about this story from CNN affiliate WSET .\n",
      "\u001b[1mQuestion:\u001b[0m\n",
      "\tWhat did Kevins father tell cnn\n",
      "\u001b[1mAnswer(s):\u001b[0m\n",
      "[0] It was a tough time . It was a tough five months @ 46\n",
      "[1] I 'm just so happy @ 81\n"
     ]
    }
   ],
   "source": [
    "show_ds_entry(62)"
   ]
  },
  {
   "cell_type": "code",
   "execution_count": 28,
   "metadata": {},
   "outputs": [
    {
     "name": "stdout",
     "output_type": "stream",
     "text": [
      "\u001b[1mStory:\u001b[0m\n",
      "\tNew York -LRB- CNN -RRB- -- When Alec Baldwin closed out the Academy Awards on Sunday night by slapping director Kathryn Bigelow squarely on the backside , that pretty much said it all . It was Ladies ' Night in a Boys ' Town . Yes , the opening routine by Baldwin and Steve Martin was very funny ; there was sincerity and genuine gratitude from many of the winners ; despite weird digressions into arcane areas like sound recording , the program moved briskly enough . But did the orchestra need to follow Bigelow 's win of her long-deserved best director prize , for `` The Hurt Locker , '' by playing the old Helen Reddy song `` I Am Woman '' ? When Zoe Saldana and Carey Mulligan arrived on stage to present the Best Original Song award , did they have to be intro-ed with `` Thank Heaven For Little Girls '' ? And in addition to being groped by Baldwin , did Bigelow have to be so muscled-in-on by her fellow producers when she was picking up the best picture award for her film , `` The Hurt Locker '' ? ` The Hurt Locker ' wins six Oscars Maybe that wacky Elinor Burkett had a point : The producer of `` Music by Prudence '' -- which had just won the Oscar for best documentary short -- barreled on stage , saying `` Let the woman speak ! '' and commandeering the mike from her director , Roger Ross Williams . She provided a classic moment of Oscar craziness and the one instance of spontaneity in an evening when all the big favorites won all the big prizes . Burkett seemed boorish , sure . But that does n't necessarily make her wrong . The Academy of Motion Picture Arts and Sciences certainly faced a dilemma this year : Vote for the future , or make up for the past . Years from now , it will probably look profoundly shortsighted that `` Avatar , '' one of the biggest movies ever -- and , more importantly , the one that indicates where movies are going -- did n't win the top prize when Hollywood had a chance to bestow it . Instead , the Oscars gave their most coveted awards to a small indie film about an unpopular war and a director whose sex had never before been honored with a best director prize . What helped make it all so complicated was not that there 's been a long , long history of overlooked genius female directors that the Oscars had to atone for . The sin at stake was -- and is -- that women simply have never been given an equal chance to direct . Predictably , Bigelow did n't have to be as good as the boys , she had to be better . And she was . But earning your Oscars and actually getting them are two different things . Fortunately for Bigelow , she had history on her side last night . James Cameron did n't . The billions being made by `` Avatar '' will probably be some consolation , but neither he nor his movie are warm and fuzzy , which is what the Academy voters like . In fact , the big-hearted , sentimental acceptance by best actor Jeff Bridges -LRB- `` Crazy Heart '' -RRB- , and the rather elegant , funny remarks by best actress Sandra Bullock -LRB- `` The Blind Side '' -RRB- , are exactly what we all want Oscar night to be . That , and a few good jokes , which is what Martin and Baldwin provided , arriving on stage after a musical extravaganza starring Neil Patrick Harris that seemed ready to recall the bad old days of producer Alan Carr and the notorious Rob Lowe/Snow White musical overture of 1989 . Looking back on Oscar 's ` train wreck ' Nothing so ghastly reared its ugly head last night , although there were a few moments of bad choices , bad manners and a strategy that was , at best , elusive . For all the changing characters and categories on Oscar-watchers ' betting pool ballots , there are certain things we bet on no matter what : one , that the show will be interminable ; two , that it will last at least until midnight -LRB- ET -RRB- no matter how they try to contain it ; and , three , that there will be moments in the show itself that , although planned by seemingly sane individuals , will be inexplicable , if not grotesque . Last night did not disappoint . While someone like poor Tivi Magnusson got drowned out by the orchestra -LRB- after he and Joachim Back won best live action short for `` The New Tenants '' -RRB- , the show 's producers thought it made perfect sense to devote relatively huge chunks of time to examining the niceties of animated short subjects or providing weary viewers the inevitable , unspeakable interpretive dance number , this one devoted to the evening 's musical scores . More painful , at least to this viewer 's eyes , was an overlong salute to the late director John Hughes , featuring a reunion of some of his more famous players , a few of whom -- Molly Ringwald , for instance , and Judd Nelson -- looked positively shell shocked . The only surprises of the night were in the best foreign film category : The Argentine `` El Secreto de Sus Ojos , '' beat out the favored `` White Ribbon , '' thus continuing the Oscar tradition of giving the foreign-film prize to something few have even seen -LRB- a foreign-film Oscar does n't do much good , one should remember , for a movie that 's already opened and closed -RRB- . The other surprise was the rudeness with which costume designer Sandy Powell accepted her `` Young Victoria '' Oscar . `` I 've already got two of these , '' she said , before dissing her coworkers and , by extension , the Academy in toto . Brusque dismissal is not a quality Oscar tolerates very well and it 's not likely Ms. Powell will be back , unlike Martin and Baldwin , who were the funniest Oscar hosts ever , proving there 's power in numbers , the sum often can be more than the parts , and that it 's always good to have an extra pair of hands , as long as they stay off Kathryn Bigelow 's butt . The opinions expressed in this commentary are solely those of John Anderson .\n",
      "\u001b[1mQuestion:\u001b[0m\n",
      "\twhat was avatar nominated for\n",
      "\u001b[1mAnswer(s):\u001b[0m\n",
      "[0] Academy @ 548\n",
      "[1] Oscar @ 598\n"
     ]
    }
   ],
   "source": [
    "show_ds_entry(73)"
   ]
  },
  {
   "cell_type": "markdown",
   "metadata": {},
   "source": [
    "## Length of Text ##\n",
    "\n",
    "BERT requires that the input vector be of maximum size 512. Both the question and text need to fit within this value. If we allow the questions to be of size 64, then that leaves roughly 448 tokens for the text. Let's take a look at the average lengths."
   ]
  },
  {
   "cell_type": "code",
   "execution_count": 10,
   "metadata": {},
   "outputs": [],
   "source": [
    "stories = ds['story_text']\n",
    "story_lengths = []\n",
    "for story in stories:\n",
    "    story_lengths.append(len(story.split(\" \")))"
   ]
  },
  {
   "cell_type": "code",
   "execution_count": 11,
   "metadata": {},
   "outputs": [
    {
     "data": {
      "text/plain": [
       "411.9448450908505"
      ]
     },
     "execution_count": 11,
     "metadata": {},
     "output_type": "execute_result"
    }
   ],
   "source": [
    "np.mean(story_lengths)"
   ]
  },
  {
   "cell_type": "code",
   "execution_count": 12,
   "metadata": {},
   "outputs": [
    {
     "data": {
      "text/plain": [
       "20"
      ]
     },
     "execution_count": 12,
     "metadata": {},
     "output_type": "execute_result"
    }
   ],
   "source": [
    "np.min(story_lengths)"
   ]
  },
  {
   "cell_type": "code",
   "execution_count": 13,
   "metadata": {},
   "outputs": [
    {
     "data": {
      "text/plain": [
       "1937"
      ]
     },
     "execution_count": 13,
     "metadata": {},
     "output_type": "execute_result"
    }
   ],
   "source": [
    "np.max(story_lengths)"
   ]
  },
  {
   "cell_type": "code",
   "execution_count": 14,
   "metadata": {},
   "outputs": [
    {
     "data": {
      "text/plain": [
       "445.0"
      ]
     },
     "execution_count": 14,
     "metadata": {},
     "output_type": "execute_result"
    }
   ],
   "source": [
    "np.median(story_lengths)"
   ]
  },
  {
   "cell_type": "code",
   "execution_count": 11,
   "metadata": {},
   "outputs": [
    {
     "data": {
      "text/plain": [
       "(array([ 4953., 26273., 26524., 22611., 17516., 11377.,  6102.,  2607.,\n",
       "         1040.,   630.]),\n",
       " array([  20.,  227.,  434.,  641.,  848., 1055., 1262., 1469., 1676.,\n",
       "        1883., 2090.]),\n",
       " <a list of 10 Patch objects>)"
      ]
     },
     "execution_count": 11,
     "metadata": {},
     "output_type": "execute_result"
    },
    {
     "data": {
      "image/png": "[encoded data removed]",
      "text/plain": [
       "<Figure size 432x288 with 1 Axes>"
      ]
     },
     "metadata": {
      "needs_background": "light"
     },
     "output_type": "display_data"
    }
   ],
   "source": [
    "plt.hist(story_lengths)"
   ]
  },
  {
   "cell_type": "code",
   "execution_count": 20,
   "metadata": {},
   "outputs": [
    {
     "data": {
      "text/plain": [
       "86247"
      ]
     },
     "execution_count": 20,
     "metadata": {},
     "output_type": "execute_result"
    }
   ],
   "source": [
    "np.sum(np.array(story_lengths) > 448)"
   ]
  },
  {
   "cell_type": "code",
   "execution_count": 21,
   "metadata": {},
   "outputs": [],
   "source": [
    "long_stories = stories[np.array(story_lengths) > 448]"
   ]
  },
  {
   "cell_type": "code",
   "execution_count": 22,
   "metadata": {},
   "outputs": [
    {
     "data": {
      "text/plain": [
       "2     Johannesburg -LRB- CNN -RRB- -- Miffed by a vi...\n",
       "3     -LRB- CNN -RRB- -- England international footb...\n",
       "5     -LRB- CNN -RRB- -- Pope John Paul II used to b...\n",
       "6     CNN affiliates report on where job seekers are...\n",
       "8     TEHRAN , Iran -LRB- CNN -RRB- -- Iran 's parli...\n",
       "9     -LRB- CNN -RRB- -- Jewish organizations called...\n",
       "10    -LRB- CNN -RRB- -- A phone hacking scandal may...\n",
       "11    ATLANTA , Georgia -LRB- CNN -RRB- -- Jeremy Pi...\n",
       "12    Berlin , Germany -LRB- CNN -RRB- -- A bomb sca...\n",
       "13    SAVANNAH , Georgia -LRB- CNN -RRB- -- What doe...\n",
       "Name: story_text, dtype: object"
      ]
     },
     "execution_count": 22,
     "metadata": {},
     "output_type": "execute_result"
    }
   ],
   "source": [
    "long_stories[:10]"
   ]
  },
  {
   "cell_type": "code",
   "execution_count": 10,
   "metadata": {},
   "outputs": [],
   "source": [
    "questions = ds['question']\n",
    "question_lengths = []\n",
    "long_questions = []\n",
    "for question in questions:\n",
    "    try:\n",
    "        qt = question.split(\" \")\n",
    "        question_lengths.append(len(qt))\n",
    "        if len(qt) > 64:\n",
    "            long_questions.append((question,len(qt)))\n",
    "    except AttributeError:\n",
    "        continue"
   ]
  },
  {
   "cell_type": "code",
   "execution_count": 11,
   "metadata": {},
   "outputs": [
    {
     "data": {
      "text/plain": [
       "[('trashIn Jamaica , thrill seekers tear through tropical forest in a bobsled on railsIn Jamaica , thrilIn Jamaica , thrill seekers tear through tropical forest in a bobsled on railsIn Jamaica , thrill seekers tear through tropical forest in a bobsled on railsIn Jamaica , thrill seekers tear through tropical forest in a bobsled on railssdal seekers tear through tropical forest in a bobsled on rails',\n",
       "  66),\n",
       " (\"trash People and their pets can be laid to rest together at cemetery in England Owner : More than 30 people already buried with pets ; 100 more plots reserved Future customer : `` I 'm so sick of people saying that ` it was just a dog or a cat ' '' Anthropologist : Very old practice fell out when Christianity became institutionalized Q1 :\",\n",
       "  66),\n",
       " (\"trasharked diplomatic protests `` Entropa '' is due to be officially unveiled at EU HQ in Brussels Thursday Bulgarian EU representative : A humiliation for the Bulgarian nation Q1 : celed Friday `` I am profoundly sorry , '' chief executive of American Airlines says American expects all of its MD-80 jets to be flight-worthy by Saturday night Alaska Airlines , Midwest Airlines cancel flights Thursday for safety checks Q1 :\",\n",
       "  71),\n",
       " (\"The couple will close on their first home next mont. . Paul , Minnesota They benefited from low mortgage rates and prices on foreclosed homes Eliot Kohan 's leukemia diagnosis helped him realize they had to start saving early `` We worked hard . We did n't cut corners , '' Lindsay De Vore says Q1 : th in St. Paul , Minnesota They benefited from low mortgage rates and prices on foreclosed homes Eliot Kohan 's leukemia diagnosis helped him realize they had to star\",\n",
       "  86),\n",
       " (\"Carly Fiorina also tells MSNBC John McCain is n't ready to run a corporation Fiorina was the CEO of Hewlett-Packard and is now a McCain adviser She also says Barack Obama , Joe Biden not ready to be CEOs Carly Fiorina also tells MSNBC John McCain is n't ready to run a corporation Fiorina was the CEO of Hewlett-Packard and is now a McCain adviser She also says Barack Obama , Joe Biden not ready to be CEOs\",\n",
       "  78),\n",
       " ('video ? Why did the police release the video ? Why did the police release the video?Why did the police release the video ? Why did the police release the video ? Why did the police release the video ? Why did the police release the video ? Why did the police release the video ? Why did the police release the video?Why did the police release the video ? Why did the police release the video ? Why did the police release the video ? Why did the police release the video ? Why did the police release the video ? Why did the police release the video?lease the video ? Why did the police release the video ? Why did the police release the video ? Why did the police release the video ? Why did the police release the video ?',\n",
       "  144),\n",
       " (\"ating in the region NEW : Indian foreign affairs minister meets with Sri Lankan President over the crisis U.N. asks both sides to allow 250,000 trapped civilians to move to `` safe areas '' Q1 : gency treatment and evacuation NEW : Intensified conflict is preventing the ICRC from operating in the region NEW : Indian foreign affairs minister meets with Sri Lankan President over the crisis U.N. asks both sides to allow 250,000 trapped civilians to move to `` safe areas '' Q1 :\",\n",
       "  85),\n",
       " (\"trashating in the region NEW : Indian foreign affairs minister meets with Sri Lankan President over the crisis U.N. asks both sides to allow 250,000 trapped civilians to move to `` safe areas '' Q1 : gency treatment and evacuation NEW : Intensified conflict is preventing the ICRC from operating in the region NEW : Indian foreign affairs minister meets with Sri Lankan President over the crisis U.N. asks both sides to allow 250,000 trapped civilians to move to `` safe areas '' Q1 :\",\n",
       "  85),\n",
       " (\". S. war crimes photographer `` People have to see these . This is something that 's history , '' Jim Martin says Today marks the anniversary of the liberation of the soldiers held at the camp Q1 : tish record for minutes without conceding a goal CNN picks 11 of the top goalkeepers of all time Share your thoughts on who should in and who should be out Q1 :\",\n",
       "  71),\n",
       " (\"ergy-efficient lights InterContinental aims to cut energy consumption by as much as 25 percent Nearly all North American Hyatt properties have `` low-flow '' showerheads and toilets Q1 : Survey : 68 percent of U.S. hotels said they had energy-efficient lights InterContinental aims to cut energy consumption by as much as 25 percent Nearly all North American Hyatt properties have `` low-flow '' showerheads and toilets Q1 :\",\n",
       "  68)]"
      ]
     },
     "execution_count": 11,
     "metadata": {},
     "output_type": "execute_result"
    }
   ],
   "source": [
    "long_questions[:10]"
   ]
  },
  {
   "cell_type": "code",
   "execution_count": 12,
   "metadata": {},
   "outputs": [
    {
     "data": {
      "text/plain": [
       "13"
      ]
     },
     "execution_count": 12,
     "metadata": {},
     "output_type": "execute_result"
    }
   ],
   "source": [
    "len(long_questions)"
   ]
  },
  {
   "cell_type": "code",
   "execution_count": 6,
   "metadata": {},
   "outputs": [
    {
     "data": {
      "text/plain": [
       "(array([1.1765e+05, 1.5640e+03, 2.5300e+02, 1.3300e+02, 2.4000e+01,\n",
       "        5.0000e+00, 1.0000e+00, 0.0000e+00, 0.0000e+00, 1.0000e+00]),\n",
       " array([  1. ,  15.3,  29.6,  43.9,  58.2,  72.5,  86.8, 101.1, 115.4,\n",
       "        129.7, 144. ]),\n",
       " <a list of 10 Patch objects>)"
      ]
     },
     "execution_count": 6,
     "metadata": {},
     "output_type": "execute_result"
    },
    {
     "data": {
      "image/png": "[encoded data removed]",
      "text/plain": [
       "<Figure size 432x288 with 1 Axes>"
      ]
     },
     "metadata": {
      "needs_background": "light"
     },
     "output_type": "display_data"
    }
   ],
   "source": [
    "plt.hist(question_lengths)"
   ]
  }
 ],
 "metadata": {
  "kernelspec": {
   "display_name": "Python 2",
   "language": "python",
   "name": "python2"
  },
  "language_info": {
   "codemirror_mode": {
    "name": "ipython",
    "version": 2
   },
   "file_extension": ".py",
   "mimetype": "text/x-python",
   "name": "python",
   "nbconvert_exporter": "python",
   "pygments_lexer": "ipython2",
   "version": "2.7.15"
  }
 },
 "nbformat": 4,
 "nbformat_minor": 2
}
